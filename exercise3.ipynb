{
  "cells": [
    {
      "cell_type": "markdown",
      "metadata": {
        "id": "view-in-github",
        "colab_type": "text"
      },
      "source": [
        "<a href=\"https://colab.research.google.com/github/cnchandl/Chandler_DSPN_S25/blob/main/exercise3.ipynb\" target=\"_parent\"><img src=\"https://colab.research.google.com/assets/colab-badge.svg\" alt=\"Open In Colab\"/></a>"
      ]
    },
    {
      "cell_type": "markdown",
      "metadata": {
        "id": "-2W919d2ZXp7"
      },
      "source": [
        "# Exercise 3: Data objects"
      ]
    },
    {
      "cell_type": "markdown",
      "source": [
        "1. Load packages 1/1\n",
        "2. replicating summary outputs 5/5\n",
        "3. summary table and indexing 4/4"
      ],
      "metadata": {
        "id": "58LE26lOUr1w"
      }
    },
    {
      "cell_type": "markdown",
      "metadata": {
        "id": "L4nOzVhyZXqK"
      },
      "source": [
        "These exercises are designed to get you comfortable extracting information from data objects.\n",
        "\n",
        "We'll work with the `Credit` dataset which comes in the `ISLR` package in R. This is a simulated dataset that provides credit and demographic information on 10,000 hypothetical customers."
      ]
    },
    {
      "cell_type": "markdown",
      "metadata": {
        "id": "9DsyBTB6ZXqN"
      },
      "source": [
        "---\n",
        "## 1. Load packages, data, model (1 point)\n",
        "\n",
        "Install and load `ISLR` below."
      ]
    },
    {
      "cell_type": "code",
      "execution_count": null,
      "metadata": {
        "id": "UnBVazYfZXqP",
        "scrolled": true,
        "vscode": {
          "languageId": "r"
        },
        "colab": {
          "base_uri": "https://localhost:8080/"
        },
        "outputId": "a2585895-30b2-4867-9697-ba9860b80e5d"
      },
      "outputs": [
        {
          "output_type": "stream",
          "name": "stderr",
          "text": [
            "── \u001b[1mAttaching core tidyverse packages\u001b[22m ──────────────────────── tidyverse 2.0.0 ──\n",
            "\u001b[32m✔\u001b[39m \u001b[34mdplyr    \u001b[39m 1.1.4     \u001b[32m✔\u001b[39m \u001b[34mreadr    \u001b[39m 2.1.5\n",
            "\u001b[32m✔\u001b[39m \u001b[34mforcats  \u001b[39m 1.0.0     \u001b[32m✔\u001b[39m \u001b[34mstringr  \u001b[39m 1.5.1\n",
            "\u001b[32m✔\u001b[39m \u001b[34mggplot2  \u001b[39m 3.5.1     \u001b[32m✔\u001b[39m \u001b[34mtibble   \u001b[39m 3.2.1\n",
            "\u001b[32m✔\u001b[39m \u001b[34mlubridate\u001b[39m 1.9.4     \u001b[32m✔\u001b[39m \u001b[34mtidyr    \u001b[39m 1.3.1\n",
            "\u001b[32m✔\u001b[39m \u001b[34mpurrr    \u001b[39m 1.0.2     \n",
            "── \u001b[1mConflicts\u001b[22m ────────────────────────────────────────── tidyverse_conflicts() ──\n",
            "\u001b[31m✖\u001b[39m \u001b[34mdplyr\u001b[39m::\u001b[32mfilter()\u001b[39m masks \u001b[34mstats\u001b[39m::filter()\n",
            "\u001b[31m✖\u001b[39m \u001b[34mdplyr\u001b[39m::\u001b[32mlag()\u001b[39m    masks \u001b[34mstats\u001b[39m::lag()\n",
            "\u001b[36mℹ\u001b[39m Use the conflicted package (\u001b[3m\u001b[34m<http://conflicted.r-lib.org/>\u001b[39m\u001b[23m) to force all conflicts to become errors\n"
          ]
        }
      ],
      "source": [
        "#install.packages(\"ISLR\")\n",
        "library(ISLR)\n",
        "library(tidyverse)"
      ]
    },
    {
      "cell_type": "markdown",
      "metadata": {
        "id": "6XqWhTqeAlPD"
      },
      "source": [
        "Take a look at the first few rows of the `Credit` dataset."
      ]
    },
    {
      "cell_type": "code",
      "execution_count": null,
      "metadata": {
        "scrolled": true,
        "vscode": {
          "languageId": "r"
        },
        "id": "tzjqymXHAlPD",
        "colab": {
          "base_uri": "https://localhost:8080/",
          "height": 287
        },
        "outputId": "366dd38a-11f7-475d-82e8-6c4ef026265a"
      },
      "outputs": [
        {
          "output_type": "display_data",
          "data": {
            "text/html": [
              "<table class=\"dataframe\">\n",
              "<caption>A data.frame: 6 × 12</caption>\n",
              "<thead>\n",
              "\t<tr><th></th><th scope=col>ID</th><th scope=col>Income</th><th scope=col>Limit</th><th scope=col>Rating</th><th scope=col>Cards</th><th scope=col>Age</th><th scope=col>Education</th><th scope=col>Gender</th><th scope=col>Student</th><th scope=col>Married</th><th scope=col>Ethnicity</th><th scope=col>Balance</th></tr>\n",
              "\t<tr><th></th><th scope=col>&lt;int&gt;</th><th scope=col>&lt;dbl&gt;</th><th scope=col>&lt;int&gt;</th><th scope=col>&lt;int&gt;</th><th scope=col>&lt;int&gt;</th><th scope=col>&lt;int&gt;</th><th scope=col>&lt;int&gt;</th><th scope=col>&lt;fct&gt;</th><th scope=col>&lt;fct&gt;</th><th scope=col>&lt;fct&gt;</th><th scope=col>&lt;fct&gt;</th><th scope=col>&lt;int&gt;</th></tr>\n",
              "</thead>\n",
              "<tbody>\n",
              "\t<tr><th scope=row>1</th><td>1</td><td> 14.891</td><td>3606</td><td>283</td><td>2</td><td>34</td><td>11</td><td> Male </td><td>No </td><td>Yes</td><td>Caucasian</td><td> 333</td></tr>\n",
              "\t<tr><th scope=row>2</th><td>2</td><td>106.025</td><td>6645</td><td>483</td><td>3</td><td>82</td><td>15</td><td>Female</td><td>Yes</td><td>Yes</td><td>Asian    </td><td> 903</td></tr>\n",
              "\t<tr><th scope=row>3</th><td>3</td><td>104.593</td><td>7075</td><td>514</td><td>4</td><td>71</td><td>11</td><td> Male </td><td>No </td><td>No </td><td>Asian    </td><td> 580</td></tr>\n",
              "\t<tr><th scope=row>4</th><td>4</td><td>148.924</td><td>9504</td><td>681</td><td>3</td><td>36</td><td>11</td><td>Female</td><td>No </td><td>No </td><td>Asian    </td><td> 964</td></tr>\n",
              "\t<tr><th scope=row>5</th><td>5</td><td> 55.882</td><td>4897</td><td>357</td><td>2</td><td>68</td><td>16</td><td> Male </td><td>No </td><td>Yes</td><td>Caucasian</td><td> 331</td></tr>\n",
              "\t<tr><th scope=row>6</th><td>6</td><td> 80.180</td><td>8047</td><td>569</td><td>4</td><td>77</td><td>10</td><td> Male </td><td>No </td><td>No </td><td>Caucasian</td><td>1151</td></tr>\n",
              "</tbody>\n",
              "</table>\n"
            ],
            "text/markdown": "\nA data.frame: 6 × 12\n\n| <!--/--> | ID &lt;int&gt; | Income &lt;dbl&gt; | Limit &lt;int&gt; | Rating &lt;int&gt; | Cards &lt;int&gt; | Age &lt;int&gt; | Education &lt;int&gt; | Gender &lt;fct&gt; | Student &lt;fct&gt; | Married &lt;fct&gt; | Ethnicity &lt;fct&gt; | Balance &lt;int&gt; |\n|---|---|---|---|---|---|---|---|---|---|---|---|---|\n| 1 | 1 |  14.891 | 3606 | 283 | 2 | 34 | 11 |  Male  | No  | Yes | Caucasian |  333 |\n| 2 | 2 | 106.025 | 6645 | 483 | 3 | 82 | 15 | Female | Yes | Yes | Asian     |  903 |\n| 3 | 3 | 104.593 | 7075 | 514 | 4 | 71 | 11 |  Male  | No  | No  | Asian     |  580 |\n| 4 | 4 | 148.924 | 9504 | 681 | 3 | 36 | 11 | Female | No  | No  | Asian     |  964 |\n| 5 | 5 |  55.882 | 4897 | 357 | 2 | 68 | 16 |  Male  | No  | Yes | Caucasian |  331 |\n| 6 | 6 |  80.180 | 8047 | 569 | 4 | 77 | 10 |  Male  | No  | No  | Caucasian | 1151 |\n\n",
            "text/latex": "A data.frame: 6 × 12\n\\begin{tabular}{r|llllllllllll}\n  & ID & Income & Limit & Rating & Cards & Age & Education & Gender & Student & Married & Ethnicity & Balance\\\\\n  & <int> & <dbl> & <int> & <int> & <int> & <int> & <int> & <fct> & <fct> & <fct> & <fct> & <int>\\\\\n\\hline\n\t1 & 1 &  14.891 & 3606 & 283 & 2 & 34 & 11 &  Male  & No  & Yes & Caucasian &  333\\\\\n\t2 & 2 & 106.025 & 6645 & 483 & 3 & 82 & 15 & Female & Yes & Yes & Asian     &  903\\\\\n\t3 & 3 & 104.593 & 7075 & 514 & 4 & 71 & 11 &  Male  & No  & No  & Asian     &  580\\\\\n\t4 & 4 & 148.924 & 9504 & 681 & 3 & 36 & 11 & Female & No  & No  & Asian     &  964\\\\\n\t5 & 5 &  55.882 & 4897 & 357 & 2 & 68 & 16 &  Male  & No  & Yes & Caucasian &  331\\\\\n\t6 & 6 &  80.180 & 8047 & 569 & 4 & 77 & 10 &  Male  & No  & No  & Caucasian & 1151\\\\\n\\end{tabular}\n",
            "text/plain": [
              "  ID Income  Limit Rating Cards Age Education Gender Student Married Ethnicity\n",
              "1 1   14.891 3606  283    2     34  11         Male  No      Yes     Caucasian\n",
              "2 2  106.025 6645  483    3     82  15        Female Yes     Yes     Asian    \n",
              "3 3  104.593 7075  514    4     71  11         Male  No      No      Asian    \n",
              "4 4  148.924 9504  681    3     36  11        Female No      No      Asian    \n",
              "5 5   55.882 4897  357    2     68  16         Male  No      Yes     Caucasian\n",
              "6 6   80.180 8047  569    4     77  10         Male  No      No      Caucasian\n",
              "  Balance\n",
              "1  333   \n",
              "2  903   \n",
              "3  580   \n",
              "4  964   \n",
              "5  331   \n",
              "6 1151   "
            ]
          },
          "metadata": {}
        }
      ],
      "source": [
        "head(Credit)\n"
      ]
    },
    {
      "cell_type": "markdown",
      "metadata": {
        "id": "mfpbZ3ZjAlPD"
      },
      "source": [
        "We can see that we have a nice **tidy** data frame here. Each column is a separate variable and each row is a different observation (in this case, simulated customers).\n",
        "\n",
        "The code below fits a linear model to predict credit card balance from the card limit and the card owner's credit rating, age, gender, and student status. This model is saved as the `cred_lm` model object. The `summary()` function extracts important summary information from the model object so we can interpret the results."
      ]
    },
    {
      "cell_type": "code",
      "execution_count": null,
      "metadata": {
        "scrolled": false,
        "vscode": {
          "languageId": "r"
        },
        "id": "jt8JNkwSAlPD",
        "colab": {
          "base_uri": "https://localhost:8080/",
          "height": 416
        },
        "outputId": "b5b9e6f8-d379-41ce-924e-7c3aa618eb77"
      },
      "outputs": [
        {
          "output_type": "display_data",
          "data": {
            "text/plain": [
              "\n",
              "Call:\n",
              "lm(formula = Balance ~ Limit + Rating + Age + Gender + Student, \n",
              "    data = Credit)\n",
              "\n",
              "Residuals:\n",
              "    Min      1Q  Median      3Q     Max \n",
              "-682.49 -127.65    3.92  135.17  453.60 \n",
              "\n",
              "Coefficients:\n",
              "               Estimate Std. Error t value Pr(>|t|)    \n",
              "(Intercept)  -292.49382   48.88704  -5.983 4.92e-09 ***\n",
              "Limit           0.05265    0.05392   0.976 0.329428    \n",
              "Rating          1.80924    0.80462   2.249 0.025092 *  \n",
              "Age            -2.12967    0.57212  -3.722 0.000226 ***\n",
              "GenderFemale   -0.34809   19.63579  -0.018 0.985865    \n",
              "StudentYes    397.16094   32.76189  12.123  < 2e-16 ***\n",
              "---\n",
              "Signif. codes:  0 ‘***’ 0.001 ‘**’ 0.01 ‘*’ 0.05 ‘.’ 0.1 ‘ ’ 1\n",
              "\n",
              "Residual standard error: 195.9 on 394 degrees of freedom\n",
              "Multiple R-squared:  0.8207,\tAdjusted R-squared:  0.8184 \n",
              "F-statistic: 360.6 on 5 and 394 DF,  p-value: < 2.2e-16\n"
            ]
          },
          "metadata": {}
        }
      ],
      "source": [
        "cred_lm  <- lm(Balance ~ Limit + Rating + Age + Gender + Student, Credit)\n",
        "summary(cred_lm)"
      ]
    },
    {
      "cell_type": "markdown",
      "metadata": {
        "id": "h9UuQL_FAlPE"
      },
      "source": [
        "## 2. Replicating `summary` outputs (5 pts)\n",
        "\n",
        "Let's see if we can replicate some of the values included in the `summary()` output.\n",
        "\n",
        "Let's start with the residual standard error, aka sigma. We can see above that this is 195.9 for this model. You can directly extract sigma as follows:"
      ]
    },
    {
      "cell_type": "code",
      "execution_count": null,
      "metadata": {
        "vscode": {
          "languageId": "r"
        },
        "id": "HjAZm6rfAlPE",
        "colab": {
          "base_uri": "https://localhost:8080/",
          "height": 34
        },
        "outputId": "93dff384-ecea-4efd-f997-2cff648a340b"
      },
      "outputs": [
        {
          "output_type": "display_data",
          "data": {
            "text/html": [
              "195.920637384065"
            ],
            "text/markdown": "195.920637384065",
            "text/latex": "195.920637384065",
            "text/plain": [
              "[1] 195.9206"
            ]
          },
          "metadata": {}
        }
      ],
      "source": [
        "sigma(cred_lm)\n"
      ]
    },
    {
      "cell_type": "markdown",
      "metadata": {
        "id": "ixJVvwotAlPE"
      },
      "source": [
        "In `lm`, sigma is calculated as\n",
        "\n",
        "$$ \\sqrt{\\frac{SSE}{n-p}} $$\n",
        "\n",
        "Where SSE is the sum of squared errors, `n` is the number of observations, and `p` is the number of parameters estimated (hint: this includes the intercept). So the denominator boils down to the degrees of freedom.\n",
        "\n",
        "Below, use what you've learned about extracting information from model objects to calculate the SSE and extract `n` and `p`.\n",
        "\n",
        "Hint: remember that R is really good at *vectorized operations*, meaning it easily applies the same operation individually to each element of a given vector."
      ]
    },
    {
      "cell_type": "code",
      "execution_count": null,
      "metadata": {
        "scrolled": true,
        "vscode": {
          "languageId": "r"
        },
        "id": "icrmQGVkAlPE",
        "colab": {
          "base_uri": "https://localhost:8080/",
          "height": 86
        },
        "outputId": "08b05f84-73a1-47d6-8ae8-5865db64deb0"
      },
      "outputs": [
        {
          "output_type": "display_data",
          "data": {
            "text/html": [
              "15123649.0842734"
            ],
            "text/markdown": "15123649.0842734",
            "text/latex": "15123649.0842734",
            "text/plain": [
              "[1] 15123649"
            ]
          },
          "metadata": {}
        },
        {
          "output_type": "display_data",
          "data": {
            "text/html": [
              "400"
            ],
            "text/markdown": "400",
            "text/latex": "400",
            "text/plain": [
              "[1] 400"
            ]
          },
          "metadata": {}
        },
        {
          "output_type": "display_data",
          "data": {
            "text/html": [
              "6"
            ],
            "text/markdown": "6",
            "text/latex": "6",
            "text/plain": [
              "[1] 6"
            ]
          },
          "metadata": {}
        },
        {
          "output_type": "display_data",
          "data": {
            "text/html": [
              "195.920637384065"
            ],
            "text/markdown": "195.920637384065",
            "text/latex": "195.920637384065",
            "text/plain": [
              "[1] 195.9206"
            ]
          },
          "metadata": {}
        }
      ],
      "source": [
        "# Calculate SSE (sum of the squared differences between each observation and its group's mean)\n",
        "\n",
        "sse <- sum((cred_lm$residuals)^2)\n",
        "sse\n",
        "\n",
        "# Extract n ()\n",
        "n <- length(cred_lm$residuals)\n",
        "n\n",
        "\n",
        "# Extract p ()\n",
        "p <- length(cred_lm$coefficients)\n",
        "p\n",
        "\n",
        "# sigma calculation\n",
        "sqrt(sse/(n-p))"
      ]
    },
    {
      "cell_type": "markdown",
      "metadata": {
        "id": "9h-Fec5QAlPE"
      },
      "source": [
        "Now, combine your work above to write a function that takes any fitted linear model and returns the residual standard error. Then test your function on the `cred_lm` model object. Compare your answer to sigma extracted directly from the model object."
      ]
    },
    {
      "cell_type": "code",
      "execution_count": null,
      "metadata": {
        "vscode": {
          "languageId": "r"
        },
        "id": "hNXTROPyAlPE"
      },
      "outputs": [],
      "source": [
        "res_se = function(x) {\n",
        "  # calculate SSE\n",
        "sse <- sum((x$residuals)^2)\n",
        "  # find n\n",
        "n <- length(x$residuals)\n",
        "  # find p\n",
        "p <- length(x$coefficients)\n",
        "  # calculate residual standard error value\n",
        "sig <- sqrt(sse/(n-p))\n",
        "  # return sig\n",
        "  return(sig)\n",
        "\n",
        "}\n"
      ]
    },
    {
      "cell_type": "code",
      "execution_count": null,
      "metadata": {
        "vscode": {
          "languageId": "r"
        },
        "id": "IGnYZYsVAlPE",
        "colab": {
          "base_uri": "https://localhost:8080/",
          "height": 52
        },
        "outputId": "1e2a9bbe-4bdc-4e6e-b6ca-2b5de42f038e"
      },
      "outputs": [
        {
          "output_type": "display_data",
          "data": {
            "text/html": [
              "195.920637384065"
            ],
            "text/markdown": "195.920637384065",
            "text/latex": "195.920637384065",
            "text/plain": [
              "[1] 195.9206"
            ]
          },
          "metadata": {}
        },
        {
          "output_type": "display_data",
          "data": {
            "text/html": [
              "195.920637384065"
            ],
            "text/markdown": "195.920637384065",
            "text/latex": "195.920637384065",
            "text/plain": [
              "[1] 195.9206"
            ]
          },
          "metadata": {}
        }
      ],
      "source": [
        "# Test and compare results.\n",
        "\n",
        "res_se(cred_lm)\n",
        "sigma(cred_lm)"
      ]
    },
    {
      "cell_type": "markdown",
      "metadata": {
        "id": "AX4B1CxyZXqX"
      },
      "source": [
        "---\n",
        "## 2. Summary table and indexing (4 pts)\n",
        "\n",
        "Let's say we wanted to extract the entire coefficient table provided to us by the `summary()` function above, maybe for use in a publication. You might expect this to be pulled by:"
      ]
    },
    {
      "cell_type": "code",
      "execution_count": null,
      "metadata": {
        "vscode": {
          "languageId": "r"
        },
        "id": "8MfFfDNdAlPF",
        "colab": {
          "base_uri": "https://localhost:8080/",
          "height": 34
        },
        "outputId": "30860d7c-b53f-4a6f-80ba-efeb3c9d5bb5"
      },
      "outputs": [
        {
          "output_type": "display_data",
          "data": {
            "text/html": [
              "<style>\n",
              ".dl-inline {width: auto; margin:0; padding: 0}\n",
              ".dl-inline>dt, .dl-inline>dd {float: none; width: auto; display: inline-block}\n",
              ".dl-inline>dt::after {content: \":\\0020\"; padding-right: .5ex}\n",
              ".dl-inline>dt:not(:first-of-type) {padding-left: .5ex}\n",
              "</style><dl class=dl-inline><dt>(Intercept)</dt><dd>-292.493823345733</dd><dt>Limit</dt><dd>0.0526549870502954</dd><dt>Rating</dt><dd>1.8092440062042</dd><dt>Age</dt><dd>-2.12966556334805</dd><dt>GenderFemale</dt><dd>-0.348090927305892</dd><dt>StudentYes</dt><dd>397.160939107958</dd></dl>\n"
            ],
            "text/markdown": "(Intercept)\n:   -292.493823345733Limit\n:   0.0526549870502954Rating\n:   1.8092440062042Age\n:   -2.12966556334805GenderFemale\n:   -0.348090927305892StudentYes\n:   397.160939107958\n\n",
            "text/latex": "\\begin{description*}\n\\item[(Intercept)] -292.493823345733\n\\item[Limit] 0.0526549870502954\n\\item[Rating] 1.8092440062042\n\\item[Age] -2.12966556334805\n\\item[GenderFemale] -0.348090927305892\n\\item[StudentYes] 397.160939107958\n\\end{description*}\n",
            "text/plain": [
              "  (Intercept)         Limit        Rating           Age  GenderFemale \n",
              "-292.49382335    0.05265499    1.80924401   -2.12966556   -0.34809093 \n",
              "   StudentYes \n",
              " 397.16093911 "
            ]
          },
          "metadata": {}
        }
      ],
      "source": [
        "cred_lm$coefficients"
      ]
    },
    {
      "cell_type": "markdown",
      "metadata": {
        "id": "ukvjONk3AlPF"
      },
      "source": [
        "But as we saw in the tutorial, this pulls just the variable name and estimate, and not the standard error, t-statistic, or p-value. You could try to find where all this information is stored in the `cred_lm` object using the `str()` function."
      ]
    },
    {
      "cell_type": "code",
      "execution_count": null,
      "metadata": {
        "vscode": {
          "languageId": "r"
        },
        "id": "WL3CnhCdAlPF"
      },
      "outputs": [],
      "source": [
        "str(cred_lm)"
      ]
    },
    {
      "cell_type": "markdown",
      "metadata": {
        "id": "t19VT5r8AlPF"
      },
      "source": [
        "But you actually won't find it in there! That's because the information in the coefficient table is a component of `summary()`, not a component of the model object itself. That's right, `summary()` creates it's own object that you can further pull information from.\n",
        "\n",
        "Knowing this, pull the coefficient table from the `summary()` object."
      ]
    },
    {
      "cell_type": "code",
      "execution_count": null,
      "metadata": {
        "vscode": {
          "languageId": "r"
        },
        "id": "PzvVV1K1AlPF",
        "colab": {
          "base_uri": "https://localhost:8080/",
          "height": 255
        },
        "outputId": "2cf7283c-424e-4921-c8c6-8a844067f114"
      },
      "outputs": [
        {
          "output_type": "display_data",
          "data": {
            "text/html": [
              "<table class=\"dataframe\">\n",
              "<caption>A matrix: 6 × 4 of type dbl</caption>\n",
              "<thead>\n",
              "\t<tr><th></th><th scope=col>Estimate</th><th scope=col>Std. Error</th><th scope=col>t value</th><th scope=col>Pr(&gt;|t|)</th></tr>\n",
              "</thead>\n",
              "<tbody>\n",
              "\t<tr><th scope=row>(Intercept)</th><td>-292.49382335</td><td>48.88704367</td><td>-5.98305402</td><td>4.922383e-09</td></tr>\n",
              "\t<tr><th scope=row>Limit</th><td>   0.05265499</td><td> 0.05392354</td><td> 0.97647505</td><td>3.294283e-01</td></tr>\n",
              "\t<tr><th scope=row>Rating</th><td>   1.80924401</td><td> 0.80462003</td><td> 2.24856944</td><td>2.509189e-02</td></tr>\n",
              "\t<tr><th scope=row>Age</th><td>  -2.12966556</td><td> 0.57211502</td><td>-3.72244305</td><td>2.260330e-04</td></tr>\n",
              "\t<tr><th scope=row>GenderFemale</th><td>  -0.34809093</td><td>19.63578922</td><td>-0.01772737</td><td>9.858653e-01</td></tr>\n",
              "\t<tr><th scope=row>StudentYes</th><td> 397.16093911</td><td>32.76189104</td><td>12.12265002</td><td>5.800207e-29</td></tr>\n",
              "</tbody>\n",
              "</table>\n"
            ],
            "text/markdown": "\nA matrix: 6 × 4 of type dbl\n\n| <!--/--> | Estimate | Std. Error | t value | Pr(&gt;|t|) |\n|---|---|---|---|---|\n| (Intercept) | -292.49382335 | 48.88704367 | -5.98305402 | 4.922383e-09 |\n| Limit |    0.05265499 |  0.05392354 |  0.97647505 | 3.294283e-01 |\n| Rating |    1.80924401 |  0.80462003 |  2.24856944 | 2.509189e-02 |\n| Age |   -2.12966556 |  0.57211502 | -3.72244305 | 2.260330e-04 |\n| GenderFemale |   -0.34809093 | 19.63578922 | -0.01772737 | 9.858653e-01 |\n| StudentYes |  397.16093911 | 32.76189104 | 12.12265002 | 5.800207e-29 |\n\n",
            "text/latex": "A matrix: 6 × 4 of type dbl\n\\begin{tabular}{r|llll}\n  & Estimate & Std. Error & t value & Pr(>\\textbar{}t\\textbar{})\\\\\n\\hline\n\t(Intercept) & -292.49382335 & 48.88704367 & -5.98305402 & 4.922383e-09\\\\\n\tLimit &    0.05265499 &  0.05392354 &  0.97647505 & 3.294283e-01\\\\\n\tRating &    1.80924401 &  0.80462003 &  2.24856944 & 2.509189e-02\\\\\n\tAge &   -2.12966556 &  0.57211502 & -3.72244305 & 2.260330e-04\\\\\n\tGenderFemale &   -0.34809093 & 19.63578922 & -0.01772737 & 9.858653e-01\\\\\n\tStudentYes &  397.16093911 & 32.76189104 & 12.12265002 & 5.800207e-29\\\\\n\\end{tabular}\n",
            "text/plain": [
              "             Estimate      Std. Error  t value     Pr(>|t|)    \n",
              "(Intercept)  -292.49382335 48.88704367 -5.98305402 4.922383e-09\n",
              "Limit           0.05265499  0.05392354  0.97647505 3.294283e-01\n",
              "Rating          1.80924401  0.80462003  2.24856944 2.509189e-02\n",
              "Age            -2.12966556  0.57211502 -3.72244305 2.260330e-04\n",
              "GenderFemale   -0.34809093 19.63578922 -0.01772737 9.858653e-01\n",
              "StudentYes    397.16093911 32.76189104 12.12265002 5.800207e-29"
            ]
          },
          "metadata": {}
        }
      ],
      "source": [
        "# save summary of credit lm in an object\n",
        "cred_lm_sum <- summary(cred_lm)\n",
        "\n",
        "# extract coefficient table from that object\n",
        "cred_lm_sum$coefficients"
      ]
    },
    {
      "cell_type": "markdown",
      "metadata": {
        "id": "9beRxA0aAlPF"
      },
      "source": [
        "Maybe we are not interested in including the t-statistic in our final table. Pull **just** the estimate, SE, and p-value from the `summary()` object."
      ]
    },
    {
      "cell_type": "code",
      "execution_count": null,
      "metadata": {
        "vscode": {
          "languageId": "r"
        },
        "id": "WmiySDu5AlPF",
        "colab": {
          "base_uri": "https://localhost:8080/",
          "height": 304
        },
        "outputId": "f6a68c79-f0d2-4f6b-86f6-bdc804bf5e1e"
      },
      "outputs": [
        {
          "output_type": "display_data",
          "data": {
            "text/html": [
              "<style>\n",
              ".list-inline {list-style: none; margin:0; padding: 0}\n",
              ".list-inline>li {display: inline-block}\n",
              ".list-inline>li:not(:last-child)::after {content: \"\\00b7\"; padding: 0 .5ex}\n",
              "</style>\n",
              "<ol class=list-inline><li>'Estimate'</li><li>'Std..Error'</li><li>'t.value'</li><li>'Pr...t..'</li></ol>\n"
            ],
            "text/markdown": "1. 'Estimate'\n2. 'Std..Error'\n3. 't.value'\n4. 'Pr...t..'\n\n\n",
            "text/latex": "\\begin{enumerate*}\n\\item 'Estimate'\n\\item 'Std..Error'\n\\item 't.value'\n\\item 'Pr...t..'\n\\end{enumerate*}\n",
            "text/plain": [
              "[1] \"Estimate\"   \"Std..Error\" \"t.value\"    \"Pr...t..\"  "
            ]
          },
          "metadata": {}
        },
        {
          "output_type": "display_data",
          "data": {
            "text/html": [
              "<table class=\"dataframe\">\n",
              "<caption>A data.frame: 6 × 3</caption>\n",
              "<thead>\n",
              "\t<tr><th></th><th scope=col>Estimate</th><th scope=col>Std..Error</th><th scope=col>Pr...t..</th></tr>\n",
              "\t<tr><th></th><th scope=col>&lt;dbl&gt;</th><th scope=col>&lt;dbl&gt;</th><th scope=col>&lt;dbl&gt;</th></tr>\n",
              "</thead>\n",
              "<tbody>\n",
              "\t<tr><th scope=row>(Intercept)</th><td>-292.49382335</td><td>48.88704367</td><td>4.922383e-09</td></tr>\n",
              "\t<tr><th scope=row>Limit</th><td>   0.05265499</td><td> 0.05392354</td><td>3.294283e-01</td></tr>\n",
              "\t<tr><th scope=row>Rating</th><td>   1.80924401</td><td> 0.80462003</td><td>2.509189e-02</td></tr>\n",
              "\t<tr><th scope=row>Age</th><td>  -2.12966556</td><td> 0.57211502</td><td>2.260330e-04</td></tr>\n",
              "\t<tr><th scope=row>GenderFemale</th><td>  -0.34809093</td><td>19.63578922</td><td>9.858653e-01</td></tr>\n",
              "\t<tr><th scope=row>StudentYes</th><td> 397.16093911</td><td>32.76189104</td><td>5.800207e-29</td></tr>\n",
              "</tbody>\n",
              "</table>\n"
            ],
            "text/markdown": "\nA data.frame: 6 × 3\n\n| <!--/--> | Estimate &lt;dbl&gt; | Std..Error &lt;dbl&gt; | Pr...t.. &lt;dbl&gt; |\n|---|---|---|---|\n| (Intercept) | -292.49382335 | 48.88704367 | 4.922383e-09 |\n| Limit |    0.05265499 |  0.05392354 | 3.294283e-01 |\n| Rating |    1.80924401 |  0.80462003 | 2.509189e-02 |\n| Age |   -2.12966556 |  0.57211502 | 2.260330e-04 |\n| GenderFemale |   -0.34809093 | 19.63578922 | 9.858653e-01 |\n| StudentYes |  397.16093911 | 32.76189104 | 5.800207e-29 |\n\n",
            "text/latex": "A data.frame: 6 × 3\n\\begin{tabular}{r|lll}\n  & Estimate & Std..Error & Pr...t..\\\\\n  & <dbl> & <dbl> & <dbl>\\\\\n\\hline\n\t(Intercept) & -292.49382335 & 48.88704367 & 4.922383e-09\\\\\n\tLimit &    0.05265499 &  0.05392354 & 3.294283e-01\\\\\n\tRating &    1.80924401 &  0.80462003 & 2.509189e-02\\\\\n\tAge &   -2.12966556 &  0.57211502 & 2.260330e-04\\\\\n\tGenderFemale &   -0.34809093 & 19.63578922 & 9.858653e-01\\\\\n\tStudentYes &  397.16093911 & 32.76189104 & 5.800207e-29\\\\\n\\end{tabular}\n",
            "text/plain": [
              "             Estimate      Std..Error  Pr...t..    \n",
              "(Intercept)  -292.49382335 48.88704367 4.922383e-09\n",
              "Limit           0.05265499  0.05392354 3.294283e-01\n",
              "Rating          1.80924401  0.80462003 2.509189e-02\n",
              "Age            -2.12966556  0.57211502 2.260330e-04\n",
              "GenderFemale   -0.34809093 19.63578922 9.858653e-01\n",
              "StudentYes    397.16093911 32.76189104 5.800207e-29"
            ]
          },
          "metadata": {}
        }
      ],
      "source": [
        "# make coef table into a data frame\n",
        "coef_df <- cred_lm_sum$coefficients %>%\n",
        "                data.frame()\n",
        "\n",
        "# pull variable names in new dataset\n",
        "colnames(coef_df)\n",
        "\n",
        "# select all variables except t stat\n",
        "coef_df %>%\n",
        "  select('Estimate', 'Std..Error', 'Pr...t..')\n",
        "\n",
        "\n"
      ]
    },
    {
      "cell_type": "markdown",
      "metadata": {
        "id": "bE0zEZwCxJ4n"
      },
      "source": [
        "Maybe we are not interested in including the t-statistic in our final table. Pull **just** the estimate, SE, and p-value from the `summary()` object."
      ]
    },
    {
      "cell_type": "markdown",
      "metadata": {
        "id": "x3bXR4srAlPF"
      },
      "source": [
        "Now, pull the table again but drop the `(Intercept)` term. (Don't save and alter your table above -- practice pulling the same table, minus the intercept term, directly from the summary.)"
      ]
    },
    {
      "cell_type": "code",
      "execution_count": null,
      "metadata": {
        "vscode": {
          "languageId": "r"
        },
        "id": "IP-G0rJiAlPF",
        "colab": {
          "base_uri": "https://localhost:8080/",
          "height": 273
        },
        "outputId": "903ace58-ef89-44e9-8804-490a2345255f"
      },
      "outputs": [
        {
          "output_type": "display_data",
          "data": {
            "text/html": [
              "<style>\n",
              ".list-inline {list-style: none; margin:0; padding: 0}\n",
              ".list-inline>li {display: inline-block}\n",
              ".list-inline>li:not(:last-child)::after {content: \"\\00b7\"; padding: 0 .5ex}\n",
              "</style>\n",
              "<ol class=list-inline><li>'(Intercept)'</li><li>'Limit'</li><li>'Rating'</li><li>'Age'</li><li>'GenderFemale'</li><li>'StudentYes'</li></ol>\n"
            ],
            "text/markdown": "1. '(Intercept)'\n2. 'Limit'\n3. 'Rating'\n4. 'Age'\n5. 'GenderFemale'\n6. 'StudentYes'\n\n\n",
            "text/latex": "\\begin{enumerate*}\n\\item '(Intercept)'\n\\item 'Limit'\n\\item 'Rating'\n\\item 'Age'\n\\item 'GenderFemale'\n\\item 'StudentYes'\n\\end{enumerate*}\n",
            "text/plain": [
              "[1] \"(Intercept)\"  \"Limit\"        \"Rating\"       \"Age\"          \"GenderFemale\"\n",
              "[6] \"StudentYes\"  "
            ]
          },
          "metadata": {}
        },
        {
          "output_type": "display_data",
          "data": {
            "text/html": [
              "<table class=\"dataframe\">\n",
              "<caption>A data.frame: 5 × 3</caption>\n",
              "<thead>\n",
              "\t<tr><th></th><th scope=col>Estimate</th><th scope=col>Std..Error</th><th scope=col>Pr...t..</th></tr>\n",
              "\t<tr><th></th><th scope=col>&lt;dbl&gt;</th><th scope=col>&lt;dbl&gt;</th><th scope=col>&lt;dbl&gt;</th></tr>\n",
              "</thead>\n",
              "<tbody>\n",
              "\t<tr><th scope=row>Limit</th><td>  0.05265499</td><td> 0.05392354</td><td>3.294283e-01</td></tr>\n",
              "\t<tr><th scope=row>Rating</th><td>  1.80924401</td><td> 0.80462003</td><td>2.509189e-02</td></tr>\n",
              "\t<tr><th scope=row>Age</th><td> -2.12966556</td><td> 0.57211502</td><td>2.260330e-04</td></tr>\n",
              "\t<tr><th scope=row>GenderFemale</th><td> -0.34809093</td><td>19.63578922</td><td>9.858653e-01</td></tr>\n",
              "\t<tr><th scope=row>StudentYes</th><td>397.16093911</td><td>32.76189104</td><td>5.800207e-29</td></tr>\n",
              "</tbody>\n",
              "</table>\n"
            ],
            "text/markdown": "\nA data.frame: 5 × 3\n\n| <!--/--> | Estimate &lt;dbl&gt; | Std..Error &lt;dbl&gt; | Pr...t.. &lt;dbl&gt; |\n|---|---|---|---|\n| Limit |   0.05265499 |  0.05392354 | 3.294283e-01 |\n| Rating |   1.80924401 |  0.80462003 | 2.509189e-02 |\n| Age |  -2.12966556 |  0.57211502 | 2.260330e-04 |\n| GenderFemale |  -0.34809093 | 19.63578922 | 9.858653e-01 |\n| StudentYes | 397.16093911 | 32.76189104 | 5.800207e-29 |\n\n",
            "text/latex": "A data.frame: 5 × 3\n\\begin{tabular}{r|lll}\n  & Estimate & Std..Error & Pr...t..\\\\\n  & <dbl> & <dbl> & <dbl>\\\\\n\\hline\n\tLimit &   0.05265499 &  0.05392354 & 3.294283e-01\\\\\n\tRating &   1.80924401 &  0.80462003 & 2.509189e-02\\\\\n\tAge &  -2.12966556 &  0.57211502 & 2.260330e-04\\\\\n\tGenderFemale &  -0.34809093 & 19.63578922 & 9.858653e-01\\\\\n\tStudentYes & 397.16093911 & 32.76189104 & 5.800207e-29\\\\\n\\end{tabular}\n",
            "text/plain": [
              "             Estimate     Std..Error  Pr...t..    \n",
              "Limit          0.05265499  0.05392354 3.294283e-01\n",
              "Rating         1.80924401  0.80462003 2.509189e-02\n",
              "Age           -2.12966556  0.57211502 2.260330e-04\n",
              "GenderFemale  -0.34809093 19.63578922 9.858653e-01\n",
              "StudentYes   397.16093911 32.76189104 5.800207e-29"
            ]
          },
          "metadata": {}
        }
      ],
      "source": [
        "# pull row names in summary dataset\n",
        "rownames(coef_df)\n",
        "\n",
        "\n",
        "\n",
        "# select all variables except t stat + remove 1st row\n",
        "coef_df %>%\n",
        "  select('Estimate', 'Std..Error', 'Pr...t..') %>%\n",
        "  slice(-1)\n"
      ]
    },
    {
      "cell_type": "markdown",
      "metadata": {
        "id": "2slWzsoYGuLt"
      },
      "source": [
        "That's all for Exercise 3! When you are finished, save the notebook as Exercise3.ipynb, push it to your class GitHub repository and send the instructors a link to your notebook via Canvas. You can send messages via Canvas by clicking \"Inbox\" on the left and then pressing the icon with a pencil inside a square."
      ]
    },
    {
      "cell_type": "markdown",
      "metadata": {
        "id": "C4MPECMmZXqe"
      },
      "source": [
        "**DUE:** 5pm EST, Feb 5, 2025"
      ]
    },
    {
      "cell_type": "markdown",
      "metadata": {
        "id": "r9GUofXN4BVy"
      },
      "source": [
        "**IMPORTANT** Did you collaborate with anyone on this assignment? If so, list their names here.\n",
        "> *Someone's Name*"
      ]
    }
  ],
  "metadata": {
    "colab": {
      "provenance": [],
      "collapsed_sections": [
        "h9UuQL_FAlPE"
      ],
      "toc_visible": true,
      "include_colab_link": true
    },
    "kernelspec": {
      "display_name": "R",
      "language": "R",
      "name": "ir"
    },
    "language_info": {
      "codemirror_mode": "r",
      "file_extension": ".r",
      "mimetype": "text/x-r-source",
      "name": "R",
      "pygments_lexer": "r",
      "version": "4.2.0"
    }
  },
  "nbformat": 4,
  "nbformat_minor": 0
}