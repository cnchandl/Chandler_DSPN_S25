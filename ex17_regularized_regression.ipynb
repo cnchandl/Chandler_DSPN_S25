{
  "cells": [
    {
      "cell_type": "markdown",
      "metadata": {
        "id": "-ogwtY3r0LOe"
      },
      "source": [
        "<a href=\"https://colab.research.google.com/github/CoAxLab/Data-Explorations/blob/main/book/exercises/regularized-regression.ipynb\" target=\"_parent\"><img src=\"https://colab.research.google.com/assets/colab-badge.svg\" alt=\"Open In Colab\"/></a>"
      ]
    },
    {
      "cell_type": "markdown",
      "metadata": {
        "id": "X0-Q9NYTBujb"
      },
      "source": [
        "# Exercise 17: Regularized regression\n",
        "\n",
        "This homework assignment is designed to give you an intuition as an interesting property of regularization in the context of ultra-high dimensional statistical problems.\n",
        "\n",
        "You won't need to load in any data for this homework."
      ]
    },
    {
      "cell_type": "markdown",
      "metadata": {
        "id": "bODln6rvBujd"
      },
      "source": [
        "---\n",
        "## 1. Simulating & visualizing data (2 points)"
      ]
    },
    {
      "cell_type": "markdown",
      "metadata": {
        "id": "sezRLzgHBuje"
      },
      "source": [
        "We are going to be looking at what happens in the context where $p>n$. In order to have total control over our data, we will use simulations for this homework. First, we will need to load the `glmnet`, `tidyverse`, and `ggplot2` libraries for this assignment.\n"
      ]
    },
    {
      "cell_type": "code",
      "execution_count": 2,
      "metadata": {
        "id": "LVJwea2rBujf",
        "vscode": {
          "languageId": "r"
        },
        "colab": {
          "base_uri": "https://localhost:8080/"
        },
        "outputId": "4fb08395-36bb-4b48-ba05-0c3b807ac2c5"
      },
      "outputs": [
        {
          "output_type": "stream",
          "name": "stderr",
          "text": [
            "Installing package into ‘/usr/local/lib/R/site-library’\n",
            "(as ‘lib’ is unspecified)\n",
            "\n",
            "also installing the dependencies ‘iterators’, ‘foreach’, ‘shape’, ‘RcppEigen’\n",
            "\n",
            "\n",
            "Loading required package: Matrix\n",
            "\n",
            "Loaded glmnet 4.1-8\n",
            "\n",
            "── \u001b[1mAttaching core tidyverse packages\u001b[22m ──────────────────────── tidyverse 2.0.0 ──\n",
            "\u001b[32m✔\u001b[39m \u001b[34mdplyr    \u001b[39m 1.1.4     \u001b[32m✔\u001b[39m \u001b[34mreadr    \u001b[39m 2.1.5\n",
            "\u001b[32m✔\u001b[39m \u001b[34mforcats  \u001b[39m 1.0.0     \u001b[32m✔\u001b[39m \u001b[34mstringr  \u001b[39m 1.5.1\n",
            "\u001b[32m✔\u001b[39m \u001b[34mggplot2  \u001b[39m 3.5.2     \u001b[32m✔\u001b[39m \u001b[34mtibble   \u001b[39m 3.2.1\n",
            "\u001b[32m✔\u001b[39m \u001b[34mlubridate\u001b[39m 1.9.4     \u001b[32m✔\u001b[39m \u001b[34mtidyr    \u001b[39m 1.3.1\n",
            "\u001b[32m✔\u001b[39m \u001b[34mpurrr    \u001b[39m 1.0.4     \n",
            "── \u001b[1mConflicts\u001b[22m ────────────────────────────────────────── tidyverse_conflicts() ──\n",
            "\u001b[31m✖\u001b[39m \u001b[34mtidyr\u001b[39m::\u001b[32mexpand()\u001b[39m masks \u001b[34mMatrix\u001b[39m::expand()\n",
            "\u001b[31m✖\u001b[39m \u001b[34mdplyr\u001b[39m::\u001b[32mfilter()\u001b[39m masks \u001b[34mstats\u001b[39m::filter()\n",
            "\u001b[31m✖\u001b[39m \u001b[34mdplyr\u001b[39m::\u001b[32mlag()\u001b[39m    masks \u001b[34mstats\u001b[39m::lag()\n",
            "\u001b[31m✖\u001b[39m \u001b[34mtidyr\u001b[39m::\u001b[32mpack()\u001b[39m   masks \u001b[34mMatrix\u001b[39m::pack()\n",
            "\u001b[31m✖\u001b[39m \u001b[34mtidyr\u001b[39m::\u001b[32munpack()\u001b[39m masks \u001b[34mMatrix\u001b[39m::unpack()\n",
            "\u001b[36mℹ\u001b[39m Use the conflicted package (\u001b[3m\u001b[34m<http://conflicted.r-lib.org/>\u001b[39m\u001b[23m) to force all conflicts to become errors\n"
          ]
        }
      ],
      "source": [
        "# install.packages(\"glmnet\")\n",
        "library(glmnet)\n",
        "library(tidyverse)\n",
        "library(ggplot2)"
      ]
    },
    {
      "cell_type": "markdown",
      "metadata": {
        "id": "mXwMchX7Bujf"
      },
      "source": [
        "We are going to generate a data set with complex structure and try to recover it using polynomial models. For simplicity sake, use the following code to produce a response variable, $y$ that has complex structure."
      ]
    },
    {
      "cell_type": "markdown",
      "metadata": {
        "id": "GpLho0wUde1L"
      },
      "source": [
        "*Hint: Look up what a cosine function looks like if you need a reminder.*"
      ]
    },
    {
      "cell_type": "code",
      "execution_count": 3,
      "metadata": {
        "id": "BeK03Sx7Bujg",
        "vscode": {
          "languageId": "r"
        }
      },
      "outputs": [],
      "source": [
        "# Generate data\n",
        "set.seed(121)\n",
        "sigma_noise = .5\n",
        "x=seq(-9,9,by=.18)\n",
        "n=length(x)\n",
        "y = 0.1*x + cos(x) + cos(x/20)+rnorm(n,sd=sigma_noise)"
      ]
    },
    {
      "cell_type": "markdown",
      "metadata": {
        "id": "UfmUWGIlBujg"
      },
      "source": [
        "(a) Break the data into a training set (n=50) and test set (n=51) using the `sample` function to randomly select subsets of x and y.  Make a separate data frame for the training and test data.\n",
        "\n",
        "(**Note**: *Do not* just take the first 50 observations to be the training set and last 51 observations to be the test set.)"
      ]
    },
    {
      "cell_type": "code",
      "execution_count": 4,
      "metadata": {
        "id": "rIg6XGaHBujg",
        "vscode": {
          "languageId": "r"
        },
        "colab": {
          "base_uri": "https://localhost:8080/",
          "height": 52
        },
        "outputId": "7689ae0e-a174-42f4-f8cb-1c5e2082fe8f"
      },
      "outputs": [
        {
          "output_type": "display_data",
          "data": {
            "text/html": [
              "50"
            ],
            "text/markdown": "50",
            "text/latex": "50",
            "text/plain": [
              "[1] 50"
            ]
          },
          "metadata": {}
        },
        {
          "output_type": "display_data",
          "data": {
            "text/html": [
              "51"
            ],
            "text/markdown": "51",
            "text/latex": "51",
            "text/plain": [
              "[1] 51"
            ]
          },
          "metadata": {}
        }
      ],
      "source": [
        "# WRITE YOUR CODE HERE\n",
        "set.seed(123)\n",
        "df = data.frame(x = x, y = y)\n",
        "\n",
        "train_nums = sample(1:n, 50, replace = FALSE)\n",
        "\n",
        "train = df[train_nums, ]\n",
        "test = df[-train_nums, ]\n",
        "nrow(train)\n",
        "nrow(test)\n"
      ]
    },
    {
      "cell_type": "markdown",
      "metadata": {
        "id": "KZ4B7a1lBujg"
      },
      "source": [
        "(b) Plot the training data ($x$ \\& $y$). Describe the relationship that you see in the training data."
      ]
    },
    {
      "cell_type": "code",
      "execution_count": 6,
      "metadata": {
        "id": "hRyRddZJBujh",
        "vscode": {
          "languageId": "r"
        },
        "colab": {
          "base_uri": "https://localhost:8080/",
          "height": 437
        },
        "outputId": "f4881389-b078-492f-915a-f9e4f0bd9a7e"
      },
      "outputs": [
        {
          "output_type": "display_data",
          "data": {
            "text/plain": [
              "plot without title"
            ],
            "image/png": "[encoded data removed]"
          },
          "metadata": {
            "image/png": {
              "width": 420,
              "height": 420
            }
          }
        }
      ],
      "source": [
        "# WRITE YOUR CODE HERE\n",
        "\n",
        "ggplot(aes(x = x, y = y), data = train) + geom_point()"
      ]
    },
    {
      "cell_type": "markdown",
      "metadata": {
        "id": "LaVD7SEeBuji"
      },
      "source": [
        "How would you describe the relationship between $x$ and $y$ based on this plot?\n",
        "\n",
        "> *there's a slight positive relationship in the data, but it looks almost like 3 peaks getting increasingly higher.*\n",
        ">"
      ]
    },
    {
      "cell_type": "markdown",
      "metadata": {
        "id": "zqLPa45zBuji"
      },
      "source": [
        "---\n",
        "## 2. Bias-variance tradeoff: polynomial regression (4 points)"
      ]
    },
    {
      "cell_type": "markdown",
      "metadata": {
        "id": "HyP55tOade1P"
      },
      "source": [
        "Recall that in polynomial regression we increase model complexity by expanding $x$ out to the power $k$ (which we call degree)."
      ]
    },
    {
      "cell_type": "markdown",
      "metadata": {
        "id": "Dxra2iFvde1Q"
      },
      "source": [
        "\n",
        "$$Y = \\hat{\\beta}_0 + \\sum_{j=1}^K \\hat{\\beta}_jX^j $$  \n",
        "\n",
        "$$ = poly(x,k)$$"
      ]
    },
    {
      "cell_type": "markdown",
      "metadata": {
        "id": "4SvSDGa9Buji"
      },
      "source": [
        "(a) Fit a 2nd degree polynomial regression model to the training data. Plot the results.\n"
      ]
    },
    {
      "cell_type": "markdown",
      "metadata": {
        "id": "vysWxHwVde1R"
      },
      "source": [
        "*Hint: Use the* `help` *function to see how to use the* `stat_smooth()` *and* `poly()` *functions.*"
      ]
    },
    {
      "cell_type": "code",
      "execution_count": 7,
      "metadata": {
        "id": "R_mZIsWwBuji",
        "vscode": {
          "languageId": "r"
        },
        "colab": {
          "base_uri": "https://localhost:8080/",
          "height": 437
        },
        "outputId": "bf23f05f-5008-4a28-f3e5-ba41dfcf9568"
      },
      "outputs": [
        {
          "output_type": "display_data",
          "data": {
            "text/plain": [
              "plot without title"
            ],
            "image/png": "[encoded data removed]"
          },
          "metadata": {
            "image/png": {
              "width": 420,
              "height": 420
            }
          }
        }
      ],
      "source": [
        "# WRITE YOUR CODE HERE\n",
        "\n",
        "model = lm(y ~ poly(x, 2), data = train)\n",
        "\n",
        "train %>%\n",
        "  ggplot(aes(x = x, y = y)) + geom_point() + stat_smooth(method = \"lm\", formula = y ~ poly(x, 2), se = T)"
      ]
    },
    {
      "cell_type": "markdown",
      "metadata": {
        "id": "oYxz29TyBujj"
      },
      "source": [
        "How well does this 2nd degree polynomial model qualitatively fit the data? Could it do better?\n",
        "\n",
        "> *not very well, it fits essentially the same as a linear model, which isn't a good fit for this data.*\n",
        ">"
      ]
    },
    {
      "cell_type": "markdown",
      "metadata": {
        "id": "6A83iJUkBujj"
      },
      "source": [
        "(b) Fit a 12th degree polynomial to the data. Does this do qualitatively better or worse than the 2nd degree model?"
      ]
    },
    {
      "cell_type": "code",
      "execution_count": 8,
      "metadata": {
        "id": "VZAQ0PB5Bujj",
        "vscode": {
          "languageId": "r"
        },
        "colab": {
          "base_uri": "https://localhost:8080/",
          "height": 437
        },
        "outputId": "c28a02ec-92aa-4a7f-d53a-3c7bd87d0a16"
      },
      "outputs": [
        {
          "output_type": "display_data",
          "data": {
            "text/plain": [
              "plot without title"
            ],
            "image/png": "[encoded data removed]"
          },
          "metadata": {
            "image/png": {
              "width": 420,
              "height": 420
            }
          }
        }
      ],
      "source": [
        "# WRITE YOUR CODE HERE\n",
        "\n",
        "train %>%\n",
        "  ggplot(aes(x = x, y = y)) + geom_point() + stat_smooth(method = \"lm\", formula = y ~ poly(x, 12), se = T)"
      ]
    },
    {
      "cell_type": "markdown",
      "metadata": {
        "id": "-xanWSXvBujk"
      },
      "source": [
        "> *it fits much better, follows the curve better but may be too specific, risks overfitting*"
      ]
    },
    {
      "cell_type": "markdown",
      "metadata": {
        "id": "VpDFP-eSBujl"
      },
      "source": [
        "(c) Modify the loop below to estimate the bias-variance tradeoff as model complexity (i.e., degree of the polynomial model, $k$) increases from 2 to 50. Use the training data to fit the model and test data to evaluate its predictive accuracy.\n",
        "\n",
        "Visualize your results by plotting the *median* squared error for the training data and test data as a function of polynomial degree."
      ]
    },
    {
      "cell_type": "markdown",
      "metadata": {
        "id": "b2kXJb-5de1S"
      },
      "source": [
        "\n",
        "(**Note**: We are using median accuracies here because there are often 1 or 2 outlier values in the higher degree polynomial models that can throw off the accuracy estimates)."
      ]
    },
    {
      "cell_type": "code",
      "execution_count": null,
      "metadata": {
        "id": "lnoZVv4OBujl",
        "vscode": {
          "languageId": "r"
        }
      },
      "outputs": [],
      "source": [
        "# Now do the variance-bias trade off analysis using regular regression\n",
        "degree = seq(2,50)\n",
        "\n",
        "# Need to setup your output vectors\n",
        "train_rss = matrix(data=NA,nrow=length(degree),ncol=1)\n",
        "test_rss = matrix(data=NA,nrow=length(degree),ncol=1)\n",
        "\n",
        "\n",
        "for (k in degree) {\n",
        "\n",
        "  poly_model = lm(y ~ poly(x, k, raw = TRUE), data=train)\n",
        "\n",
        "\n",
        "  train_preds = predict(poly_model, newdata=train)\n",
        "  train_rss[k - 1] = median((train$y - train_preds)^2)\n",
        "\n",
        "\n",
        "  test_preds = predict(poly_model, newdata=test)\n",
        "  test_rss[k - 1] = median((test$y - test_preds)^2)\n",
        "}\n",
        "\n",
        "# Plot your results here\n",
        "plot(degree, test_rss) + lines(degree, train_rss)\n",
        "\n"
      ]
    },
    {
      "cell_type": "markdown",
      "metadata": {
        "id": "Vx8zgVDGBujm"
      },
      "source": [
        "What do you see as $k$ increase?\n",
        "\n",
        "> *At around 20, as k increases rss increases along with it*\n",
        ">"
      ]
    },
    {
      "cell_type": "markdown",
      "metadata": {
        "id": "pfF6syENBujm"
      },
      "source": [
        "(d) Now copy the code above and let's see what happens when we go beyond $p=n$ (remember, in this case $k=p$). Test polynomial models up to $k=150$. Visualize your results by plotting the *median* squared error for the training data and test data as a function of polynomial degree.\n",
        "\n",
        "\n",
        "\n",
        "\n",
        "\n",
        "Use the `geom_vline()` function in `ggplot` to draw a vertical line where $k=n$ (here $n$ is the number of observations in the training set). This will make it clear where we cross the threshold for finding *unique* solutions in our data.\n",
        "\n"
      ]
    },
    {
      "cell_type": "code",
      "execution_count": null,
      "metadata": {
        "id": "Fqk3xlUBBujm",
        "vscode": {
          "languageId": "r"
        }
      },
      "outputs": [],
      "source": [
        "# WRITE YOUR CODE HERE\n",
        "\n",
        "# Now do the variance-bias trade off analysis using regular regression\n",
        "degree = seq(2, 150)\n",
        "\n",
        "# Need to setup your output vectors\n",
        "train_rss = matrix(data=NA,nrow=length(degree),ncol=1)\n",
        "test_rss = matrix(data=NA,nrow=length(degree),ncol=1)\n",
        "\n",
        "for (k in degree) {\n",
        "\n",
        "  poly_model = lm(y ~ poly(x, k, raw = TRUE), data=train)\n",
        "\n",
        "\n",
        "  train_preds = predict(poly_model, newdata=train)\n",
        "  train_rss[k - 1] = median((train$y - train_preds)^2)\n",
        "\n",
        "\n",
        "  test_preds = predict(poly_model, newdata=test)\n",
        "  test_rss[k - 1] = median((test$y - test_preds)^2)\n",
        "}\n",
        "\n",
        "# Plot your results here\n",
        "results_df = data.frame(degree = degree, trainrss = train_rss,\n",
        "  testrss = test_rss\n",
        ")\n",
        "\n",
        "ggplot(results_df, aes(x = degree)) +\n",
        "  geom_line(aes(y = trainrss, color = \"Train RSS\")) +\n",
        "  geom_line(aes(y = testrss, color = \"Test RSS\")) +\n",
        "  geom_vline(xintercept = n, linetype = \"dashed\", color = \"black\") +\n",
        "  labs(x = \"Polynomial Degree (k)\", y = \"Median Squared Error\") +\n",
        "  scale_color_manual(name = \"Dataset\", values = c(\"Train RSS\" = \"blue\", \"Test RSS\" = \"red\")) +\n",
        "  theme_minimal()\n",
        "\n"
      ]
    },
    {
      "cell_type": "markdown",
      "metadata": {
        "id": "JsiaI7CNBujn"
      },
      "source": [
        "What do you see as $k$ gets larger than $n$?\n",
        "\n",
        "> *both test RSS and train RSS flatten out, test rss much higher than train rss*\n",
        ">"
      ]
    },
    {
      "cell_type": "markdown",
      "metadata": {
        "id": "ez8Cy8anBujn"
      },
      "source": [
        "---\n",
        "## 3. Applying regularization to the model fits (2 points)"
      ]
    },
    {
      "cell_type": "markdown",
      "metadata": {
        "id": "NFAAGungBujn"
      },
      "source": [
        "Repeat the previous bias-variance tradeoff test, going up to $k=150$, but now use ridge regression with a sparsity parameter of $\\lambda=0.00005$. Plot your results the same way as last time."
      ]
    },
    {
      "cell_type": "code",
      "execution_count": 8,
      "metadata": {
        "id": "0uVdEguGBujn",
        "vscode": {
          "languageId": "r"
        },
        "colab": {
          "base_uri": "https://localhost:8080/",
          "height": 1000
        },
        "outputId": "7e223742-8ee3-48eb-f755-709cc9cc01dd"
      },
      "outputs": [
        {
          "output_type": "stream",
          "name": "stderr",
          "text": [
            "Warning message in predict.lm(poly_model, newdata = train):\n",
            "“prediction from rank-deficient fit; attr(*, \"non-estim\") has doubtful cases”\n",
            "Warning message in predict.lm(poly_model, newdata = test):\n",
            "“prediction from rank-deficient fit; attr(*, \"non-estim\") has doubtful cases”\n",
            "Warning message in predict.lm(poly_model, newdata = train):\n",
            "“prediction from rank-deficient fit; attr(*, \"non-estim\") has doubtful cases”\n",
            "Warning message in predict.lm(poly_model, newdata = test):\n",
            "“prediction from rank-deficient fit; attr(*, \"non-estim\") has doubtful cases”\n",
            "Warning message in predict.lm(poly_model, newdata = train):\n",
            "“prediction from rank-deficient fit; attr(*, \"non-estim\") has doubtful cases”\n",
            "Warning message in predict.lm(poly_model, newdata = test):\n",
            "“prediction from rank-deficient fit; attr(*, \"non-estim\") has doubtful cases”\n",
            "Warning message in predict.lm(poly_model, newdata = train):\n",
            "“prediction from rank-deficient fit; attr(*, \"non-estim\") has doubtful cases”\n",
            "Warning message in predict.lm(poly_model, newdata = test):\n",
            "“prediction from rank-deficient fit; attr(*, \"non-estim\") has doubtful cases”\n",
            "Warning message in predict.lm(poly_model, newdata = train):\n",
            "“prediction from rank-deficient fit; attr(*, \"non-estim\") has doubtful cases”\n",
            "Warning message in predict.lm(poly_model, newdata = test):\n",
            "“prediction from rank-deficient fit; attr(*, \"non-estim\") has doubtful cases”\n",
            "Warning message in predict.lm(poly_model, newdata = train):\n",
            "“prediction from rank-deficient fit; attr(*, \"non-estim\") has doubtful cases”\n",
            "Warning message in predict.lm(poly_model, newdata = test):\n",
            "“prediction from rank-deficient fit; attr(*, \"non-estim\") has doubtful cases”\n",
            "Warning message in predict.lm(poly_model, newdata = train):\n",
            "“prediction from rank-deficient fit; attr(*, \"non-estim\") has doubtful cases”\n",
            "Warning message in predict.lm(poly_model, newdata = test):\n",
            "“prediction from rank-deficient fit; attr(*, \"non-estim\") has doubtful cases”\n",
            "Warning message in predict.lm(poly_model, newdata = train):\n",
            "“prediction from rank-deficient fit; attr(*, \"non-estim\") has doubtful cases”\n",
            "Warning message in predict.lm(poly_model, newdata = test):\n",
            "“prediction from rank-deficient fit; attr(*, \"non-estim\") has doubtful cases”\n",
            "Warning message in predict.lm(poly_model, newdata = train):\n",
            "“prediction from rank-deficient fit; attr(*, \"non-estim\") has doubtful cases”\n",
            "Warning message in predict.lm(poly_model, newdata = test):\n",
            "“prediction from rank-deficient fit; attr(*, \"non-estim\") has doubtful cases”\n",
            "Warning message in predict.lm(poly_model, newdata = train):\n",
            "“prediction from rank-deficient fit; attr(*, \"non-estim\") has doubtful cases”\n",
            "Warning message in predict.lm(poly_model, newdata = test):\n",
            "“prediction from rank-deficient fit; attr(*, \"non-estim\") has doubtful cases”\n",
            "Warning message in predict.lm(poly_model, newdata = train):\n",
            "“prediction from rank-deficient fit; attr(*, \"non-estim\") has doubtful cases”\n",
            "Warning message in predict.lm(poly_model, newdata = test):\n",
            "“prediction from rank-deficient fit; attr(*, \"non-estim\") has doubtful cases”\n",
            "Warning message in predict.lm(poly_model, newdata = train):\n",
            "“prediction from rank-deficient fit; attr(*, \"non-estim\") has doubtful cases”\n",
            "Warning message in predict.lm(poly_model, newdata = test):\n",
            "“prediction from rank-deficient fit; attr(*, \"non-estim\") has doubtful cases”\n",
            "Warning message in predict.lm(poly_model, newdata = train):\n",
            "“prediction from rank-deficient fit; attr(*, \"non-estim\") has doubtful cases”\n",
            "Warning message in predict.lm(poly_model, newdata = test):\n",
            "“prediction from rank-deficient fit; attr(*, \"non-estim\") has doubtful cases”\n",
            "Warning message in predict.lm(poly_model, newdata = train):\n",
            "“prediction from rank-deficient fit; attr(*, \"non-estim\") has doubtful cases”\n",
            "Warning message in predict.lm(poly_model, newdata = test):\n",
            "“prediction from rank-deficient fit; attr(*, \"non-estim\") has doubtful cases”\n",
            "Warning message in predict.lm(poly_model, newdata = train):\n",
            "“prediction from rank-deficient fit; attr(*, \"non-estim\") has doubtful cases”\n",
            "Warning message in predict.lm(poly_model, newdata = test):\n",
            "“prediction from rank-deficient fit; attr(*, \"non-estim\") has doubtful cases”\n",
            "Warning message in predict.lm(poly_model, newdata = train):\n",
            "“prediction from rank-deficient fit; attr(*, \"non-estim\") has doubtful cases”\n",
            "Warning message in predict.lm(poly_model, newdata = test):\n",
            "“prediction from rank-deficient fit; attr(*, \"non-estim\") has doubtful cases”\n",
            "Warning message in predict.lm(poly_model, newdata = train):\n",
            "“prediction from rank-deficient fit; attr(*, \"non-estim\") has doubtful cases”\n",
            "Warning message in predict.lm(poly_model, newdata = test):\n",
            "“prediction from rank-deficient fit; attr(*, \"non-estim\") has doubtful cases”\n",
            "Warning message in predict.lm(poly_model, newdata = train):\n",
            "“prediction from rank-deficient fit; attr(*, \"non-estim\") has doubtful cases”\n",
            "Warning message in predict.lm(poly_model, newdata = test):\n",
            "“prediction from rank-deficient fit; attr(*, \"non-estim\") has doubtful cases”\n",
            "Warning message in predict.lm(poly_model, newdata = train):\n",
            "“prediction from rank-deficient fit; attr(*, \"non-estim\") has doubtful cases”\n",
            "Warning message in predict.lm(poly_model, newdata = test):\n",
            "“prediction from rank-deficient fit; attr(*, \"non-estim\") has doubtful cases”\n",
            "Warning message in predict.lm(poly_model, newdata = train):\n",
            "“prediction from rank-deficient fit; attr(*, \"non-estim\") has doubtful cases”\n",
            "Warning message in predict.lm(poly_model, newdata = test):\n",
            "“prediction from rank-deficient fit; attr(*, \"non-estim\") has doubtful cases”\n",
            "Warning message in predict.lm(poly_model, newdata = train):\n",
            "“prediction from rank-deficient fit; attr(*, \"non-estim\") has doubtful cases”\n",
            "Warning message in predict.lm(poly_model, newdata = test):\n",
            "“prediction from rank-deficient fit; attr(*, \"non-estim\") has doubtful cases”\n",
            "Warning message in predict.lm(poly_model, newdata = train):\n",
            "“prediction from rank-deficient fit; attr(*, \"non-estim\") has doubtful cases”\n",
            "Warning message in predict.lm(poly_model, newdata = test):\n",
            "“prediction from rank-deficient fit; attr(*, \"non-estim\") has doubtful cases”\n",
            "Warning message in predict.lm(poly_model, newdata = train):\n",
            "“prediction from rank-deficient fit; attr(*, \"non-estim\") has doubtful cases”\n",
            "Warning message in predict.lm(poly_model, newdata = test):\n",
            "“prediction from rank-deficient fit; attr(*, \"non-estim\") has doubtful cases”\n",
            "Warning message in predict.lm(poly_model, newdata = train):\n",
            "“prediction from rank-deficient fit; attr(*, \"non-estim\") has doubtful cases”\n",
            "Warning message in predict.lm(poly_model, newdata = test):\n",
            "“prediction from rank-deficient fit; attr(*, \"non-estim\") has doubtful cases”\n",
            "Warning message in predict.lm(poly_model, newdata = train):\n",
            "“prediction from rank-deficient fit; attr(*, \"non-estim\") has doubtful cases”\n",
            "Warning message in predict.lm(poly_model, newdata = test):\n",
            "“prediction from rank-deficient fit; attr(*, \"non-estim\") has doubtful cases”\n",
            "Warning message in predict.lm(poly_model, newdata = train):\n",
            "“prediction from rank-deficient fit; attr(*, \"non-estim\") has doubtful cases”\n",
            "Warning message in predict.lm(poly_model, newdata = test):\n",
            "“prediction from rank-deficient fit; attr(*, \"non-estim\") has doubtful cases”\n",
            "Warning message in predict.lm(poly_model, newdata = train):\n",
            "“prediction from rank-deficient fit; attr(*, \"non-estim\") has doubtful cases”\n",
            "Warning message in predict.lm(poly_model, newdata = test):\n",
            "“prediction from rank-deficient fit; attr(*, \"non-estim\") has doubtful cases”\n",
            "Warning message in predict.lm(poly_model, newdata = train):\n",
            "“prediction from rank-deficient fit; attr(*, \"non-estim\") has doubtful cases”\n",
            "Warning message in predict.lm(poly_model, newdata = test):\n",
            "“prediction from rank-deficient fit; attr(*, \"non-estim\") has doubtful cases”\n",
            "Warning message in predict.lm(poly_model, newdata = train):\n",
            "“prediction from rank-deficient fit; attr(*, \"non-estim\") has doubtful cases”\n",
            "Warning message in predict.lm(poly_model, newdata = test):\n",
            "“prediction from rank-deficient fit; attr(*, \"non-estim\") has doubtful cases”\n",
            "Warning message in predict.lm(poly_model, newdata = train):\n",
            "“prediction from rank-deficient fit; attr(*, \"non-estim\") has doubtful cases”\n",
            "Warning message in predict.lm(poly_model, newdata = test):\n",
            "“prediction from rank-deficient fit; attr(*, \"non-estim\") has doubtful cases”\n",
            "Warning message in predict.lm(poly_model, newdata = train):\n",
            "“prediction from rank-deficient fit; attr(*, \"non-estim\") has doubtful cases”\n",
            "Warning message in predict.lm(poly_model, newdata = test):\n",
            "“prediction from rank-deficient fit; attr(*, \"non-estim\") has doubtful cases”\n",
            "Warning message in predict.lm(poly_model, newdata = train):\n",
            "“prediction from rank-deficient fit; attr(*, \"non-estim\") has doubtful cases”\n",
            "Warning message in predict.lm(poly_model, newdata = test):\n",
            "“prediction from rank-deficient fit; attr(*, \"non-estim\") has doubtful cases”\n",
            "Warning message in predict.lm(poly_model, newdata = train):\n",
            "“prediction from rank-deficient fit; attr(*, \"non-estim\") has doubtful cases”\n",
            "Warning message in predict.lm(poly_model, newdata = test):\n",
            "“prediction from rank-deficient fit; attr(*, \"non-estim\") has doubtful cases”\n",
            "Warning message in predict.lm(poly_model, newdata = train):\n",
            "“prediction from rank-deficient fit; attr(*, \"non-estim\") has doubtful cases”\n",
            "Warning message in predict.lm(poly_model, newdata = test):\n",
            "“prediction from rank-deficient fit; attr(*, \"non-estim\") has doubtful cases”\n",
            "Warning message in predict.lm(poly_model, newdata = train):\n",
            "“prediction from rank-deficient fit; attr(*, \"non-estim\") has doubtful cases”\n",
            "Warning message in predict.lm(poly_model, newdata = test):\n",
            "“prediction from rank-deficient fit; attr(*, \"non-estim\") has doubtful cases”\n",
            "Warning message in predict.lm(poly_model, newdata = train):\n",
            "“prediction from rank-deficient fit; attr(*, \"non-estim\") has doubtful cases”\n",
            "Warning message in predict.lm(poly_model, newdata = test):\n",
            "“prediction from rank-deficient fit; attr(*, \"non-estim\") has doubtful cases”\n",
            "Warning message in predict.lm(poly_model, newdata = train):\n",
            "“prediction from rank-deficient fit; attr(*, \"non-estim\") has doubtful cases”\n",
            "Warning message in predict.lm(poly_model, newdata = test):\n",
            "“prediction from rank-deficient fit; attr(*, \"non-estim\") has doubtful cases”\n",
            "Warning message in predict.lm(poly_model, newdata = train):\n",
            "“prediction from rank-deficient fit; attr(*, \"non-estim\") has doubtful cases”\n",
            "Warning message in predict.lm(poly_model, newdata = test):\n",
            "“prediction from rank-deficient fit; attr(*, \"non-estim\") has doubtful cases”\n",
            "Warning message in predict.lm(poly_model, newdata = train):\n",
            "“prediction from rank-deficient fit; attr(*, \"non-estim\") has doubtful cases”\n",
            "Warning message in predict.lm(poly_model, newdata = test):\n",
            "“prediction from rank-deficient fit; attr(*, \"non-estim\") has doubtful cases”\n",
            "Warning message in predict.lm(poly_model, newdata = train):\n",
            "“prediction from rank-deficient fit; attr(*, \"non-estim\") has doubtful cases”\n",
            "Warning message in predict.lm(poly_model, newdata = test):\n",
            "“prediction from rank-deficient fit; attr(*, \"non-estim\") has doubtful cases”\n",
            "Warning message in predict.lm(poly_model, newdata = train):\n",
            "“prediction from rank-deficient fit; attr(*, \"non-estim\") has doubtful cases”\n",
            "Warning message in predict.lm(poly_model, newdata = test):\n",
            "“prediction from rank-deficient fit; attr(*, \"non-estim\") has doubtful cases”\n",
            "Warning message in predict.lm(poly_model, newdata = train):\n",
            "“prediction from rank-deficient fit; attr(*, \"non-estim\") has doubtful cases”\n",
            "Warning message in predict.lm(poly_model, newdata = test):\n",
            "“prediction from rank-deficient fit; attr(*, \"non-estim\") has doubtful cases”\n",
            "Warning message in predict.lm(poly_model, newdata = train):\n",
            "“prediction from rank-deficient fit; attr(*, \"non-estim\") has doubtful cases”\n",
            "Warning message in predict.lm(poly_model, newdata = test):\n",
            "“prediction from rank-deficient fit; attr(*, \"non-estim\") has doubtful cases”\n",
            "Warning message in predict.lm(poly_model, newdata = train):\n",
            "“prediction from rank-deficient fit; attr(*, \"non-estim\") has doubtful cases”\n",
            "Warning message in predict.lm(poly_model, newdata = test):\n",
            "“prediction from rank-deficient fit; attr(*, \"non-estim\") has doubtful cases”\n",
            "Warning message in predict.lm(poly_model, newdata = train):\n",
            "“prediction from rank-deficient fit; attr(*, \"non-estim\") has doubtful cases”\n",
            "Warning message in predict.lm(poly_model, newdata = test):\n",
            "“prediction from rank-deficient fit; attr(*, \"non-estim\") has doubtful cases”\n",
            "Warning message in predict.lm(poly_model, newdata = train):\n",
            "“prediction from rank-deficient fit; attr(*, \"non-estim\") has doubtful cases”\n",
            "Warning message in predict.lm(poly_model, newdata = test):\n",
            "“prediction from rank-deficient fit; attr(*, \"non-estim\") has doubtful cases”\n",
            "Warning message in predict.lm(poly_model, newdata = train):\n",
            "“prediction from rank-deficient fit; attr(*, \"non-estim\") has doubtful cases”\n",
            "Warning message in predict.lm(poly_model, newdata = test):\n",
            "“prediction from rank-deficient fit; attr(*, \"non-estim\") has doubtful cases”\n",
            "Warning message in predict.lm(poly_model, newdata = train):\n",
            "“prediction from rank-deficient fit; attr(*, \"non-estim\") has doubtful cases”\n",
            "Warning message in predict.lm(poly_model, newdata = test):\n",
            "“prediction from rank-deficient fit; attr(*, \"non-estim\") has doubtful cases”\n",
            "Warning message in predict.lm(poly_model, newdata = train):\n",
            "“prediction from rank-deficient fit; attr(*, \"non-estim\") has doubtful cases”\n",
            "Warning message in predict.lm(poly_model, newdata = test):\n",
            "“prediction from rank-deficient fit; attr(*, \"non-estim\") has doubtful cases”\n",
            "Warning message in predict.lm(poly_model, newdata = train):\n",
            "“prediction from rank-deficient fit; attr(*, \"non-estim\") has doubtful cases”\n",
            "Warning message in predict.lm(poly_model, newdata = test):\n",
            "“prediction from rank-deficient fit; attr(*, \"non-estim\") has doubtful cases”\n",
            "Warning message in predict.lm(poly_model, newdata = train):\n",
            "“prediction from rank-deficient fit; attr(*, \"non-estim\") has doubtful cases”\n",
            "Warning message in predict.lm(poly_model, newdata = test):\n",
            "“prediction from rank-deficient fit; attr(*, \"non-estim\") has doubtful cases”\n",
            "Warning message in predict.lm(poly_model, newdata = train):\n",
            "“prediction from rank-deficient fit; attr(*, \"non-estim\") has doubtful cases”\n",
            "Warning message in predict.lm(poly_model, newdata = test):\n",
            "“prediction from rank-deficient fit; attr(*, \"non-estim\") has doubtful cases”\n",
            "Warning message in predict.lm(poly_model, newdata = train):\n",
            "“prediction from rank-deficient fit; attr(*, \"non-estim\") has doubtful cases”\n",
            "Warning message in predict.lm(poly_model, newdata = test):\n",
            "“prediction from rank-deficient fit; attr(*, \"non-estim\") has doubtful cases”\n",
            "Warning message in predict.lm(poly_model, newdata = train):\n",
            "“prediction from rank-deficient fit; attr(*, \"non-estim\") has doubtful cases”\n",
            "Warning message in predict.lm(poly_model, newdata = test):\n",
            "“prediction from rank-deficient fit; attr(*, \"non-estim\") has doubtful cases”\n",
            "Warning message in predict.lm(poly_model, newdata = train):\n",
            "“prediction from rank-deficient fit; attr(*, \"non-estim\") has doubtful cases”\n",
            "Warning message in predict.lm(poly_model, newdata = test):\n",
            "“prediction from rank-deficient fit; attr(*, \"non-estim\") has doubtful cases”\n",
            "Warning message in predict.lm(poly_model, newdata = train):\n",
            "“prediction from rank-deficient fit; attr(*, \"non-estim\") has doubtful cases”\n",
            "Warning message in predict.lm(poly_model, newdata = test):\n",
            "“prediction from rank-deficient fit; attr(*, \"non-estim\") has doubtful cases”\n",
            "Warning message in predict.lm(poly_model, newdata = train):\n",
            "“prediction from rank-deficient fit; attr(*, \"non-estim\") has doubtful cases”\n",
            "Warning message in predict.lm(poly_model, newdata = test):\n",
            "“prediction from rank-deficient fit; attr(*, \"non-estim\") has doubtful cases”\n",
            "Warning message in predict.lm(poly_model, newdata = train):\n",
            "“prediction from rank-deficient fit; attr(*, \"non-estim\") has doubtful cases”\n",
            "Warning message in predict.lm(poly_model, newdata = test):\n",
            "“prediction from rank-deficient fit; attr(*, \"non-estim\") has doubtful cases”\n",
            "Warning message in predict.lm(poly_model, newdata = train):\n",
            "“prediction from rank-deficient fit; attr(*, \"non-estim\") has doubtful cases”\n",
            "Warning message in predict.lm(poly_model, newdata = test):\n",
            "“prediction from rank-deficient fit; attr(*, \"non-estim\") has doubtful cases”\n",
            "Warning message in predict.lm(poly_model, newdata = train):\n",
            "“prediction from rank-deficient fit; attr(*, \"non-estim\") has doubtful cases”\n",
            "Warning message in predict.lm(poly_model, newdata = test):\n",
            "“prediction from rank-deficient fit; attr(*, \"non-estim\") has doubtful cases”\n",
            "Warning message in predict.lm(poly_model, newdata = train):\n",
            "“prediction from rank-deficient fit; attr(*, \"non-estim\") has doubtful cases”\n",
            "Warning message in predict.lm(poly_model, newdata = test):\n",
            "“prediction from rank-deficient fit; attr(*, \"non-estim\") has doubtful cases”\n",
            "Warning message in predict.lm(poly_model, newdata = train):\n",
            "“prediction from rank-deficient fit; attr(*, \"non-estim\") has doubtful cases”\n",
            "Warning message in predict.lm(poly_model, newdata = test):\n",
            "“prediction from rank-deficient fit; attr(*, \"non-estim\") has doubtful cases”\n",
            "Warning message in predict.lm(poly_model, newdata = train):\n",
            "“prediction from rank-deficient fit; attr(*, \"non-estim\") has doubtful cases”\n",
            "Warning message in predict.lm(poly_model, newdata = test):\n",
            "“prediction from rank-deficient fit; attr(*, \"non-estim\") has doubtful cases”\n",
            "Warning message in predict.lm(poly_model, newdata = train):\n",
            "“prediction from rank-deficient fit; attr(*, \"non-estim\") has doubtful cases”\n",
            "Warning message in predict.lm(poly_model, newdata = test):\n",
            "“prediction from rank-deficient fit; attr(*, \"non-estim\") has doubtful cases”\n",
            "Warning message in predict.lm(poly_model, newdata = train):\n",
            "“prediction from rank-deficient fit; attr(*, \"non-estim\") has doubtful cases”\n",
            "Warning message in predict.lm(poly_model, newdata = test):\n",
            "“prediction from rank-deficient fit; attr(*, \"non-estim\") has doubtful cases”\n",
            "Warning message in predict.lm(poly_model, newdata = train):\n",
            "“prediction from rank-deficient fit; attr(*, \"non-estim\") has doubtful cases”\n",
            "Warning message in predict.lm(poly_model, newdata = test):\n",
            "“prediction from rank-deficient fit; attr(*, \"non-estim\") has doubtful cases”\n",
            "Warning message in predict.lm(poly_model, newdata = train):\n",
            "“prediction from rank-deficient fit; attr(*, \"non-estim\") has doubtful cases”\n",
            "Warning message in predict.lm(poly_model, newdata = test):\n",
            "“prediction from rank-deficient fit; attr(*, \"non-estim\") has doubtful cases”\n",
            "Warning message in predict.lm(poly_model, newdata = train):\n",
            "“prediction from rank-deficient fit; attr(*, \"non-estim\") has doubtful cases”\n",
            "Warning message in predict.lm(poly_model, newdata = test):\n",
            "“prediction from rank-deficient fit; attr(*, \"non-estim\") has doubtful cases”\n",
            "Warning message in predict.lm(poly_model, newdata = train):\n",
            "“prediction from rank-deficient fit; attr(*, \"non-estim\") has doubtful cases”\n",
            "Warning message in predict.lm(poly_model, newdata = test):\n",
            "“prediction from rank-deficient fit; attr(*, \"non-estim\") has doubtful cases”\n",
            "Warning message in predict.lm(poly_model, newdata = train):\n",
            "“prediction from rank-deficient fit; attr(*, \"non-estim\") has doubtful cases”\n",
            "Warning message in predict.lm(poly_model, newdata = test):\n",
            "“prediction from rank-deficient fit; attr(*, \"non-estim\") has doubtful cases”\n",
            "Warning message in predict.lm(poly_model, newdata = train):\n",
            "“prediction from rank-deficient fit; attr(*, \"non-estim\") has doubtful cases”\n",
            "Warning message in predict.lm(poly_model, newdata = test):\n",
            "“prediction from rank-deficient fit; attr(*, \"non-estim\") has doubtful cases”\n",
            "Warning message in predict.lm(poly_model, newdata = train):\n",
            "“prediction from rank-deficient fit; attr(*, \"non-estim\") has doubtful cases”\n",
            "Warning message in predict.lm(poly_model, newdata = test):\n",
            "“prediction from rank-deficient fit; attr(*, \"non-estim\") has doubtful cases”\n",
            "Warning message in predict.lm(poly_model, newdata = train):\n",
            "“prediction from rank-deficient fit; attr(*, \"non-estim\") has doubtful cases”\n",
            "Warning message in predict.lm(poly_model, newdata = test):\n",
            "“prediction from rank-deficient fit; attr(*, \"non-estim\") has doubtful cases”\n",
            "Warning message in predict.lm(poly_model, newdata = train):\n",
            "“prediction from rank-deficient fit; attr(*, \"non-estim\") has doubtful cases”\n",
            "Warning message in predict.lm(poly_model, newdata = test):\n",
            "“prediction from rank-deficient fit; attr(*, \"non-estim\") has doubtful cases”\n",
            "Warning message in predict.lm(poly_model, newdata = train):\n",
            "“prediction from rank-deficient fit; attr(*, \"non-estim\") has doubtful cases”\n",
            "Warning message in predict.lm(poly_model, newdata = test):\n",
            "“prediction from rank-deficient fit; attr(*, \"non-estim\") has doubtful cases”\n",
            "Warning message in predict.lm(poly_model, newdata = train):\n",
            "“prediction from rank-deficient fit; attr(*, \"non-estim\") has doubtful cases”\n",
            "Warning message in predict.lm(poly_model, newdata = test):\n",
            "“prediction from rank-deficient fit; attr(*, \"non-estim\") has doubtful cases”\n",
            "Warning message in predict.lm(poly_model, newdata = train):\n",
            "“prediction from rank-deficient fit; attr(*, \"non-estim\") has doubtful cases”\n",
            "Warning message in predict.lm(poly_model, newdata = test):\n",
            "“prediction from rank-deficient fit; attr(*, \"non-estim\") has doubtful cases”\n",
            "Warning message in predict.lm(poly_model, newdata = train):\n",
            "“prediction from rank-deficient fit; attr(*, \"non-estim\") has doubtful cases”\n",
            "Warning message in predict.lm(poly_model, newdata = test):\n",
            "“prediction from rank-deficient fit; attr(*, \"non-estim\") has doubtful cases”\n",
            "Warning message in predict.lm(poly_model, newdata = train):\n",
            "“prediction from rank-deficient fit; attr(*, \"non-estim\") has doubtful cases”\n",
            "Warning message in predict.lm(poly_model, newdata = test):\n",
            "“prediction from rank-deficient fit; attr(*, \"non-estim\") has doubtful cases”\n",
            "Warning message in predict.lm(poly_model, newdata = train):\n",
            "“prediction from rank-deficient fit; attr(*, \"non-estim\") has doubtful cases”\n",
            "Warning message in predict.lm(poly_model, newdata = test):\n",
            "“prediction from rank-deficient fit; attr(*, \"non-estim\") has doubtful cases”\n",
            "Warning message in predict.lm(poly_model, newdata = train):\n",
            "“prediction from rank-deficient fit; attr(*, \"non-estim\") has doubtful cases”\n",
            "Warning message in predict.lm(poly_model, newdata = test):\n",
            "“prediction from rank-deficient fit; attr(*, \"non-estim\") has doubtful cases”\n",
            "Warning message in predict.lm(poly_model, newdata = train):\n",
            "“prediction from rank-deficient fit; attr(*, \"non-estim\") has doubtful cases”\n",
            "Warning message in predict.lm(poly_model, newdata = test):\n",
            "“prediction from rank-deficient fit; attr(*, \"non-estim\") has doubtful cases”\n",
            "Warning message in predict.lm(poly_model, newdata = train):\n",
            "“prediction from rank-deficient fit; attr(*, \"non-estim\") has doubtful cases”\n",
            "Warning message in predict.lm(poly_model, newdata = test):\n",
            "“prediction from rank-deficient fit; attr(*, \"non-estim\") has doubtful cases”\n",
            "Warning message in predict.lm(poly_model, newdata = train):\n",
            "“prediction from rank-deficient fit; attr(*, \"non-estim\") has doubtful cases”\n",
            "Warning message in predict.lm(poly_model, newdata = test):\n",
            "“prediction from rank-deficient fit; attr(*, \"non-estim\") has doubtful cases”\n",
            "Warning message in predict.lm(poly_model, newdata = train):\n",
            "“prediction from rank-deficient fit; attr(*, \"non-estim\") has doubtful cases”\n",
            "Warning message in predict.lm(poly_model, newdata = test):\n",
            "“prediction from rank-deficient fit; attr(*, \"non-estim\") has doubtful cases”\n",
            "Warning message in predict.lm(poly_model, newdata = train):\n",
            "“prediction from rank-deficient fit; attr(*, \"non-estim\") has doubtful cases”\n",
            "Warning message in predict.lm(poly_model, newdata = test):\n",
            "“prediction from rank-deficient fit; attr(*, \"non-estim\") has doubtful cases”\n",
            "Warning message in predict.lm(poly_model, newdata = train):\n",
            "“prediction from rank-deficient fit; attr(*, \"non-estim\") has doubtful cases”\n",
            "Warning message in predict.lm(poly_model, newdata = test):\n",
            "“prediction from rank-deficient fit; attr(*, \"non-estim\") has doubtful cases”\n",
            "Warning message in predict.lm(poly_model, newdata = train):\n",
            "“prediction from rank-deficient fit; attr(*, \"non-estim\") has doubtful cases”\n",
            "Warning message in predict.lm(poly_model, newdata = test):\n",
            "“prediction from rank-deficient fit; attr(*, \"non-estim\") has doubtful cases”\n",
            "Warning message in predict.lm(poly_model, newdata = train):\n",
            "“prediction from rank-deficient fit; attr(*, \"non-estim\") has doubtful cases”\n",
            "Warning message in predict.lm(poly_model, newdata = test):\n",
            "“prediction from rank-deficient fit; attr(*, \"non-estim\") has doubtful cases”\n",
            "Warning message in predict.lm(poly_model, newdata = train):\n",
            "“prediction from rank-deficient fit; attr(*, \"non-estim\") has doubtful cases”\n",
            "Warning message in predict.lm(poly_model, newdata = test):\n",
            "“prediction from rank-deficient fit; attr(*, \"non-estim\") has doubtful cases”\n",
            "Warning message in predict.lm(poly_model, newdata = train):\n",
            "“prediction from rank-deficient fit; attr(*, \"non-estim\") has doubtful cases”\n",
            "Warning message in predict.lm(poly_model, newdata = test):\n",
            "“prediction from rank-deficient fit; attr(*, \"non-estim\") has doubtful cases”\n",
            "Warning message in predict.lm(poly_model, newdata = train):\n",
            "“prediction from rank-deficient fit; attr(*, \"non-estim\") has doubtful cases”\n",
            "Warning message in predict.lm(poly_model, newdata = test):\n",
            "“prediction from rank-deficient fit; attr(*, \"non-estim\") has doubtful cases”\n",
            "Warning message in predict.lm(poly_model, newdata = train):\n",
            "“prediction from rank-deficient fit; attr(*, \"non-estim\") has doubtful cases”\n",
            "Warning message in predict.lm(poly_model, newdata = test):\n",
            "“prediction from rank-deficient fit; attr(*, \"non-estim\") has doubtful cases”\n",
            "Warning message in predict.lm(poly_model, newdata = train):\n",
            "“prediction from rank-deficient fit; attr(*, \"non-estim\") has doubtful cases”\n",
            "Warning message in predict.lm(poly_model, newdata = test):\n",
            "“prediction from rank-deficient fit; attr(*, \"non-estim\") has doubtful cases”\n",
            "Warning message in predict.lm(poly_model, newdata = train):\n",
            "“prediction from rank-deficient fit; attr(*, \"non-estim\") has doubtful cases”\n",
            "Warning message in predict.lm(poly_model, newdata = test):\n",
            "“prediction from rank-deficient fit; attr(*, \"non-estim\") has doubtful cases”\n",
            "Warning message in predict.lm(poly_model, newdata = train):\n",
            "“prediction from rank-deficient fit; attr(*, \"non-estim\") has doubtful cases”\n",
            "Warning message in predict.lm(poly_model, newdata = test):\n",
            "“prediction from rank-deficient fit; attr(*, \"non-estim\") has doubtful cases”\n",
            "Warning message in predict.lm(poly_model, newdata = train):\n",
            "“prediction from rank-deficient fit; attr(*, \"non-estim\") has doubtful cases”\n",
            "Warning message in predict.lm(poly_model, newdata = test):\n",
            "“prediction from rank-deficient fit; attr(*, \"non-estim\") has doubtful cases”\n",
            "Warning message in predict.lm(poly_model, newdata = train):\n",
            "“prediction from rank-deficient fit; attr(*, \"non-estim\") has doubtful cases”\n",
            "Warning message in predict.lm(poly_model, newdata = test):\n",
            "“prediction from rank-deficient fit; attr(*, \"non-estim\") has doubtful cases”\n",
            "Warning message in predict.lm(poly_model, newdata = train):\n",
            "“prediction from rank-deficient fit; attr(*, \"non-estim\") has doubtful cases”\n",
            "Warning message in predict.lm(poly_model, newdata = test):\n",
            "“prediction from rank-deficient fit; attr(*, \"non-estim\") has doubtful cases”\n",
            "Warning message in predict.lm(poly_model, newdata = train):\n",
            "“prediction from rank-deficient fit; attr(*, \"non-estim\") has doubtful cases”\n",
            "Warning message in predict.lm(poly_model, newdata = test):\n",
            "“prediction from rank-deficient fit; attr(*, \"non-estim\") has doubtful cases”\n",
            "Warning message in predict.lm(poly_model, newdata = train):\n",
            "“prediction from rank-deficient fit; attr(*, \"non-estim\") has doubtful cases”\n",
            "Warning message in predict.lm(poly_model, newdata = test):\n",
            "“prediction from rank-deficient fit; attr(*, \"non-estim\") has doubtful cases”\n",
            "Warning message in predict.lm(poly_model, newdata = train):\n",
            "“prediction from rank-deficient fit; attr(*, \"non-estim\") has doubtful cases”\n",
            "Warning message in predict.lm(poly_model, newdata = test):\n",
            "“prediction from rank-deficient fit; attr(*, \"non-estim\") has doubtful cases”\n",
            "Warning message in predict.lm(poly_model, newdata = train):\n",
            "“prediction from rank-deficient fit; attr(*, \"non-estim\") has doubtful cases”\n",
            "Warning message in predict.lm(poly_model, newdata = test):\n",
            "“prediction from rank-deficient fit; attr(*, \"non-estim\") has doubtful cases”\n",
            "Warning message in predict.lm(poly_model, newdata = train):\n",
            "“prediction from rank-deficient fit; attr(*, \"non-estim\") has doubtful cases”\n",
            "Warning message in predict.lm(poly_model, newdata = test):\n",
            "“prediction from rank-deficient fit; attr(*, \"non-estim\") has doubtful cases”\n",
            "Warning message in predict.lm(poly_model, newdata = train):\n",
            "“prediction from rank-deficient fit; attr(*, \"non-estim\") has doubtful cases”\n",
            "Warning message in predict.lm(poly_model, newdata = test):\n",
            "“prediction from rank-deficient fit; attr(*, \"non-estim\") has doubtful cases”\n",
            "Warning message in predict.lm(poly_model, newdata = train):\n",
            "“prediction from rank-deficient fit; attr(*, \"non-estim\") has doubtful cases”\n",
            "Warning message in predict.lm(poly_model, newdata = test):\n",
            "“prediction from rank-deficient fit; attr(*, \"non-estim\") has doubtful cases”\n",
            "Warning message in predict.lm(poly_model, newdata = train):\n",
            "“prediction from rank-deficient fit; attr(*, \"non-estim\") has doubtful cases”\n",
            "Warning message in predict.lm(poly_model, newdata = test):\n",
            "“prediction from rank-deficient fit; attr(*, \"non-estim\") has doubtful cases”\n",
            "Warning message in predict.lm(poly_model, newdata = train):\n",
            "“prediction from rank-deficient fit; attr(*, \"non-estim\") has doubtful cases”\n",
            "Warning message in predict.lm(poly_model, newdata = test):\n",
            "“prediction from rank-deficient fit; attr(*, \"non-estim\") has doubtful cases”\n",
            "Warning message in predict.lm(poly_model, newdata = train):\n",
            "“prediction from rank-deficient fit; attr(*, \"non-estim\") has doubtful cases”\n",
            "Warning message in predict.lm(poly_model, newdata = test):\n",
            "“prediction from rank-deficient fit; attr(*, \"non-estim\") has doubtful cases”\n",
            "Warning message in predict.lm(poly_model, newdata = train):\n",
            "“prediction from rank-deficient fit; attr(*, \"non-estim\") has doubtful cases”\n",
            "Warning message in predict.lm(poly_model, newdata = test):\n",
            "“prediction from rank-deficient fit; attr(*, \"non-estim\") has doubtful cases”\n",
            "Warning message in predict.lm(poly_model, newdata = train):\n",
            "“prediction from rank-deficient fit; attr(*, \"non-estim\") has doubtful cases”\n",
            "Warning message in predict.lm(poly_model, newdata = test):\n",
            "“prediction from rank-deficient fit; attr(*, \"non-estim\") has doubtful cases”\n",
            "Warning message in predict.lm(poly_model, newdata = train):\n",
            "“prediction from rank-deficient fit; attr(*, \"non-estim\") has doubtful cases”\n",
            "Warning message in predict.lm(poly_model, newdata = test):\n",
            "“prediction from rank-deficient fit; attr(*, \"non-estim\") has doubtful cases”\n",
            "Warning message in predict.lm(poly_model, newdata = train):\n",
            "“prediction from rank-deficient fit; attr(*, \"non-estim\") has doubtful cases”\n",
            "Warning message in predict.lm(poly_model, newdata = test):\n",
            "“prediction from rank-deficient fit; attr(*, \"non-estim\") has doubtful cases”\n",
            "Warning message in predict.lm(poly_model, newdata = train):\n",
            "“prediction from rank-deficient fit; attr(*, \"non-estim\") has doubtful cases”\n",
            "Warning message in predict.lm(poly_model, newdata = test):\n",
            "“prediction from rank-deficient fit; attr(*, \"non-estim\") has doubtful cases”\n",
            "Warning message in predict.lm(poly_model, newdata = train):\n",
            "“prediction from rank-deficient fit; attr(*, \"non-estim\") has doubtful cases”\n",
            "Warning message in predict.lm(poly_model, newdata = test):\n",
            "“prediction from rank-deficient fit; attr(*, \"non-estim\") has doubtful cases”\n",
            "Warning message in predict.lm(poly_model, newdata = train):\n",
            "“prediction from rank-deficient fit; attr(*, \"non-estim\") has doubtful cases”\n",
            "Warning message in predict.lm(poly_model, newdata = test):\n",
            "“prediction from rank-deficient fit; attr(*, \"non-estim\") has doubtful cases”\n",
            "Warning message in predict.lm(poly_model, newdata = train):\n",
            "“prediction from rank-deficient fit; attr(*, \"non-estim\") has doubtful cases”\n",
            "Warning message in predict.lm(poly_model, newdata = test):\n",
            "“prediction from rank-deficient fit; attr(*, \"non-estim\") has doubtful cases”\n",
            "Warning message in predict.lm(poly_model, newdata = train):\n",
            "“prediction from rank-deficient fit; attr(*, \"non-estim\") has doubtful cases”\n",
            "Warning message in predict.lm(poly_model, newdata = test):\n",
            "“prediction from rank-deficient fit; attr(*, \"non-estim\") has doubtful cases”\n",
            "Warning message in predict.lm(poly_model, newdata = train):\n",
            "“prediction from rank-deficient fit; attr(*, \"non-estim\") has doubtful cases”\n",
            "Warning message in predict.lm(poly_model, newdata = test):\n",
            "“prediction from rank-deficient fit; attr(*, \"non-estim\") has doubtful cases”\n",
            "Warning message in predict.lm(poly_model, newdata = train):\n",
            "“prediction from rank-deficient fit; attr(*, \"non-estim\") has doubtful cases”\n",
            "Warning message in predict.lm(poly_model, newdata = test):\n",
            "“prediction from rank-deficient fit; attr(*, \"non-estim\") has doubtful cases”\n",
            "Warning message in predict.lm(poly_model, newdata = train):\n",
            "“prediction from rank-deficient fit; attr(*, \"non-estim\") has doubtful cases”\n",
            "Warning message in predict.lm(poly_model, newdata = test):\n",
            "“prediction from rank-deficient fit; attr(*, \"non-estim\") has doubtful cases”\n",
            "Warning message in predict.lm(poly_model, newdata = train):\n",
            "“prediction from rank-deficient fit; attr(*, \"non-estim\") has doubtful cases”\n",
            "Warning message in predict.lm(poly_model, newdata = test):\n",
            "“prediction from rank-deficient fit; attr(*, \"non-estim\") has doubtful cases”\n",
            "Warning message in predict.lm(poly_model, newdata = train):\n",
            "“prediction from rank-deficient fit; attr(*, \"non-estim\") has doubtful cases”\n",
            "Warning message in predict.lm(poly_model, newdata = test):\n",
            "“prediction from rank-deficient fit; attr(*, \"non-estim\") has doubtful cases”\n",
            "Warning message in predict.lm(poly_model, newdata = train):\n",
            "“prediction from rank-deficient fit; attr(*, \"non-estim\") has doubtful cases”\n",
            "Warning message in predict.lm(poly_model, newdata = test):\n",
            "“prediction from rank-deficient fit; attr(*, \"non-estim\") has doubtful cases”\n",
            "Warning message in predict.lm(poly_model, newdata = train):\n",
            "“prediction from rank-deficient fit; attr(*, \"non-estim\") has doubtful cases”\n",
            "Warning message in predict.lm(poly_model, newdata = test):\n",
            "“prediction from rank-deficient fit; attr(*, \"non-estim\") has doubtful cases”\n",
            "Warning message in predict.lm(poly_model, newdata = train):\n",
            "“prediction from rank-deficient fit; attr(*, \"non-estim\") has doubtful cases”\n",
            "Warning message in predict.lm(poly_model, newdata = test):\n",
            "“prediction from rank-deficient fit; attr(*, \"non-estim\") has doubtful cases”\n"
          ]
        },
        {
          "output_type": "display_data",
          "data": {
            "text/html": [],
            "text/markdown": "",
            "text/latex": "",
            "text/plain": [
              "integer(0)"
            ]
          },
          "metadata": {}
        },
        {
          "output_type": "display_data",
          "data": {
            "text/plain": [
              "plot without title"
            ],
            "image/png": "[encoded data removed]"
          },
          "metadata": {
            "image/png": {
              "width": 420,
              "height": 420
            }
          }
        }
      ],
      "source": [
        "# Now do the variance-bias trade off analysis using ridge regression\n",
        "lambda=0.00005\n",
        "degree = seq(2,150)\n",
        "\n",
        "rm(train_rss, test_rss)\n",
        "train_rss = matrix(data=NA,nrow=length(degree),ncol=1)\n",
        "test_rss = matrix(data=NA,nrow=length(degree),ncol=1)\n",
        "\n",
        "for (k in degree) {\n",
        "    # WRITE YOUR CODE HERE\n",
        "poly_model = lm(y ~ poly(x, k, raw = TRUE), data=train)\n",
        "\n",
        "\n",
        "  train_preds = predict(poly_model, newdata=train)\n",
        "  train_rss[k - 1] = median((train$y - train_preds)^2)\n",
        "\n",
        "\n",
        "  test_preds = predict(poly_model, newdata=test)\n",
        "  test_rss[k - 1] = median((test$y - test_preds)^2)\n",
        "}\n",
        "\n",
        "# Plot your results here\n",
        "plot(degree, test_rss) + lines(degree, train_rss)"
      ]
    },
    {
      "cell_type": "markdown",
      "metadata": {
        "id": "5IF6tO_uBujo"
      },
      "source": [
        "What happens now when $k$ gets larger than $n$?\n",
        "\n",
        "> *test rss increases then flattens around around 100*\n",
        ">"
      ]
    },
    {
      "cell_type": "markdown",
      "metadata": {
        "id": "5zheO4rLBujo"
      },
      "source": [
        "---\n",
        "## 4. Reflection (2 points)"
      ]
    },
    {
      "cell_type": "markdown",
      "metadata": {
        "id": "T-65QvdnBujo"
      },
      "source": [
        "The simulations above should have shown that, when applying a regularization (i.e., a sparsity constraint), the behavior of the bias-variance tradeoff changes. Explain why this happens."
      ]
    },
    {
      "cell_type": "markdown",
      "metadata": {
        "id": "dkM1H1_WBujo"
      },
      "source": [
        "> *regularization punishes model complexity. Without regularization, bias decreases but variance goes up. regularization leads to a simpler model, but decrease in variance*\n",
        ">"
      ]
    },
    {
      "cell_type": "markdown",
      "metadata": {
        "id": "ietUafKfBujo"
      },
      "source": [
        "---\n",
        "## Bonus (1 extra credit point)\n",
        "Recall that the $p=n$ threshold defines the limit for finding a *unique* solution to $Y=F(X)$ (i.e., there is only one combination of regression coefficients that is *best* at explaining variance in $Y$). With this in mind, what is regularization doing that works around this upper limit?"
      ]
    },
    {
      "cell_type": "markdown",
      "metadata": {
        "id": "eo5eCrpuBujp"
      },
      "source": [
        "\n",
        "\n",
        "> *Has constraints that prioritize simpler models, punishing model complexity *\n",
        ">"
      ]
    },
    {
      "cell_type": "markdown",
      "metadata": {
        "id": "HmcAxEQCBujp"
      },
      "source": [
        "**DUE:** 5pm EST, April 10, 2024"
      ]
    },
    {
      "cell_type": "markdown",
      "metadata": {
        "id": "hYdsoRobBujp"
      },
      "source": [
        "**IMPORTANT** Did you collaborate with anyone on this assignment? If so, list their names here.\n",
        "> *Someone's Name*"
      ]
    }
  ],
  "metadata": {
    "colab": {
      "provenance": []
    },
    "kernelspec": {
      "display_name": "R",
      "language": "R",
      "name": "ir"
    },
    "language_info": {
      "codemirror_mode": "r",
      "file_extension": ".r",
      "mimetype": "text/x-r-source",
      "name": "R",
      "pygments_lexer": "r",
      "version": "4.2.0"
    }
  },
  "nbformat": 4,
  "nbformat_minor": 0
}