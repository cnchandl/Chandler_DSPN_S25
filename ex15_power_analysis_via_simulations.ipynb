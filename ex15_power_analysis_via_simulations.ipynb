{
  "cells": [
    {
      "cell_type": "markdown",
      "metadata": {
        "id": "OkpSUKm_eDKT"
      },
      "source": [
        "<a href=\"https://colab.research.google.com/github/CoAxLab/Data-Explorations/blob/main/book/exercises/power-analysis-via-simulations.ipynb\" target=\"_parent\"><img src=\"https://colab.research.google.com/assets/colab-badge.svg\" alt=\"Open In Colab\"/></a>"
      ]
    },
    {
      "cell_type": "markdown",
      "metadata": {
        "id": "-2W919d2ZXp7"
      },
      "source": [
        "# Exercise 15: Power analyses"
      ]
    },
    {
      "cell_type": "markdown",
      "metadata": {
        "id": "L4nOzVhyZXqK"
      },
      "source": [
        "This  assignment is designed to give you practice with Monte Carlo methods to conduct power analyses via simulation. You won't need to load in any data for this homework. We will, however, be using parts of the homework from last week."
      ]
    },
    {
      "cell_type": "markdown",
      "source": [
        "1. Simulating data 1/1\n",
        "2. run_analysis function 2/2\n",
        "3. repeat_analysis() function 3/3\n",
        "4. Testing different sample sizes 2/2\n",
        "5. Reflection 2/2\n",
        "\n"
      ],
      "metadata": {
        "id": "O-eF97C0aCWM"
      }
    },
    {
      "cell_type": "markdown",
      "metadata": {
        "id": "9DsyBTB6ZXqN"
      },
      "source": [
        "---\n",
        "## 1. Simulating data (1 points)\n"
      ]
    },
    {
      "cell_type": "markdown",
      "metadata": {
        "id": "J1f6MywYhyzN"
      },
      "source": [
        "Pull your `simulate_data()` function from your last homework and add it below.\n",
        "\n",
        "As a reminder, this function simulates the relationship between age, word reading experience, and reading comprehension skill.\n",
        "\n",
        "`c` is reading comprehension, and `x` is word reading experience."
      ]
    },
    {
      "cell_type": "code",
      "execution_count": null,
      "metadata": {
        "id": "UnBVazYfZXqP",
        "vscode": {
          "languageId": "r"
        },
        "colab": {
          "base_uri": "https://localhost:8080/",
          "height": 286
        },
        "outputId": "cbdf7877-6278-494e-d17f-a45498a870fe"
      },
      "outputs": [
        {
          "output_type": "display_data",
          "data": {
            "text/html": [
              "<table class=\"dataframe\">\n",
              "<caption>A data.frame: 6 × 3</caption>\n",
              "<thead>\n",
              "\t<tr><th></th><th scope=col>age</th><th scope=col>x</th><th scope=col>c</th></tr>\n",
              "\t<tr><th></th><th scope=col>&lt;dbl&gt;</th><th scope=col>&lt;dbl&gt;</th><th scope=col>&lt;dbl&gt;</th></tr>\n",
              "</thead>\n",
              "<tbody>\n",
              "\t<tr><th scope=row>1</th><td>133.4759</td><td>130.20648</td><td>508.44658</td></tr>\n",
              "\t<tr><th scope=row>2</th><td>120.2569</td><td> 44.12160</td><td>271.71806</td></tr>\n",
              "\t<tr><th scope=row>3</th><td>142.8076</td><td>-10.57483</td><td>246.03980</td></tr>\n",
              "\t<tr><th scope=row>4</th><td>113.7743</td><td>134.89354</td><td>528.60334</td></tr>\n",
              "\t<tr><th scope=row>5</th><td>108.5031</td><td>-16.03950</td><td> 17.62861</td></tr>\n",
              "\t<tr><th scope=row>6</th><td>174.0423</td><td>122.41862</td><td>434.53159</td></tr>\n",
              "</tbody>\n",
              "</table>\n"
            ],
            "text/markdown": "\nA data.frame: 6 × 3\n\n| <!--/--> | age &lt;dbl&gt; | x &lt;dbl&gt; | c &lt;dbl&gt; |\n|---|---|---|---|\n| 1 | 133.4759 | 130.20648 | 508.44658 |\n| 2 | 120.2569 |  44.12160 | 271.71806 |\n| 3 | 142.8076 | -10.57483 | 246.03980 |\n| 4 | 113.7743 | 134.89354 | 528.60334 |\n| 5 | 108.5031 | -16.03950 |  17.62861 |\n| 6 | 174.0423 | 122.41862 | 434.53159 |\n\n",
            "text/latex": "A data.frame: 6 × 3\n\\begin{tabular}{r|lll}\n  & age & x & c\\\\\n  & <dbl> & <dbl> & <dbl>\\\\\n\\hline\n\t1 & 133.4759 & 130.20648 & 508.44658\\\\\n\t2 & 120.2569 &  44.12160 & 271.71806\\\\\n\t3 & 142.8076 & -10.57483 & 246.03980\\\\\n\t4 & 113.7743 & 134.89354 & 528.60334\\\\\n\t5 & 108.5031 & -16.03950 &  17.62861\\\\\n\t6 & 174.0423 & 122.41862 & 434.53159\\\\\n\\end{tabular}\n",
            "text/plain": [
              "  age      x         c        \n",
              "1 133.4759 130.20648 508.44658\n",
              "2 120.2569  44.12160 271.71806\n",
              "3 142.8076 -10.57483 246.03980\n",
              "4 113.7743 134.89354 528.60334\n",
              "5 108.5031 -16.03950  17.62861\n",
              "6 174.0423 122.41862 434.53159"
            ]
          },
          "metadata": {}
        }
      ],
      "source": [
        "sample_size = 100 # How many children in data set?\n",
        "age_lo = 80     # minimum age, in months\n",
        "age_hi = 200    # maximum age, in months\n",
        "beta_xa = 0.5   # amount by which experience changes for increase of one month in age\n",
        "beta_x0 = -5    # amount of experience when age = 0 (not interpretable, since minimum age for this data is 80 months)\n",
        "sd_x = 50       # standard dev of gaussian noise term, epsilon_x\n",
        "beta_ca = 0.8   # amount that comprehension score improves for every increase of one unit in age\n",
        "beta_cx = 3     # amount that comprehension score improves for every increase of one unit in reading experience\n",
        "beta_c0 = 10    # comprehension score when reading experience is 0.\n",
        "sd_c = 85      # standard dev of gaussian noise term, epsilon_c\n",
        "\n",
        "simulate_data <- function(sample_size, age_lo, age_hi, beta_xa, beta_x0, sd_x, beta_ca, beta_cx, beta_c0, sd_c) {\n",
        "      age <- runif(sample_size, min = age_lo, max = age_hi)\n",
        "      epsilon_x <- rnorm(sample_size, mean = 0, sd = sd_x)\n",
        "      word_experience <- beta_xa * age + beta_x0 + epsilon_x\n",
        "\n",
        "      epsilon_c <- rnorm(sample_size, mean = 0, sd = sd_c)\n",
        "      reading_comprehension <- beta_ca * age + beta_cx * word_experience + beta_c0 + epsilon_c\n",
        "\n",
        "      return(data.frame(age=age,x=word_experience,c=reading_comprehension)) # it's actually bad form to have a variable named \"c\" in R, my bad...\n",
        "}\n",
        "\n",
        "dat <- simulate_data(sample_size, age_lo, age_hi, beta_xa, beta_x0, sd_x, beta_ca, beta_cx, beta_c0, sd_c)\n",
        "head(dat)"
      ]
    },
    {
      "cell_type": "markdown",
      "metadata": {
        "id": "T3b3_KsHk-xD"
      },
      "source": [
        "---\n",
        "## 2. `run_analysis()` function (2 pts)"
      ]
    },
    {
      "cell_type": "markdown",
      "metadata": {
        "id": "TJyPIaTO8zCS"
      },
      "source": [
        "Last week, we looked at whether word reading experience(`x`) mediated the relation between `age` and reading comprehension (`c`).\n",
        "\n",
        "Now we're going to use our `simulate_data()` function to conduct a power analysis. The goal is to determine how many participants we would need in order to detect both the mediated and the direct effects in this data.\n",
        "\n",
        "*Note: We're going to pretend for the sake of simplicity that we don't have any control over the ages of the children we get (so ages are generated using `runif(sample_size, age_lo, age_hi)`, although of course this would be an unusual situation in reality.*\n",
        "\n",
        "First, write a function, `run_analysis()`, that takes in simulated data, runs **your mediation from last week**, and returns a vector containing the ACME and ADE estimates and p-values (these are the `d0`, `d0.p`, `z0`, and `z0.p` features of the mediated model object, e.g., `fitMed$d0.p`). Print this function's output for the data we simulated previously."
      ]
    },
    {
      "cell_type": "code",
      "source": [
        "#install.packages(\"mediation\")\n",
        "library(mediation)"
      ],
      "metadata": {
        "colab": {
          "base_uri": "https://localhost:8080/"
        },
        "id": "NdKzLdxpitE7",
        "outputId": "797a328f-0c9e-42bd-a53f-8affdd38f01f"
      },
      "execution_count": null,
      "outputs": [
        {
          "output_type": "stream",
          "name": "stderr",
          "text": [
            "Installing package into ‘/usr/local/lib/R/site-library’\n",
            "(as ‘lib’ is unspecified)\n",
            "\n",
            "also installing the dependencies ‘rbibutils’, ‘checkmate’, ‘Rdpack’, ‘zoo’, ‘gridExtra’, ‘htmlTable’, ‘viridis’, ‘Formula’, ‘minqa’, ‘nloptr’, ‘reformulas’, ‘RcppEigen’, ‘mvtnorm’, ‘sandwich’, ‘lpSolve’, ‘Hmisc’, ‘lme4’\n",
            "\n",
            "\n",
            "Loading required package: MASS\n",
            "\n",
            "Loading required package: Matrix\n",
            "\n",
            "Loading required package: mvtnorm\n",
            "\n",
            "Loading required package: sandwich\n",
            "\n",
            "mediation: Causal Mediation Analysis\n",
            "Version: 4.5.0\n",
            "\n",
            "\n"
          ]
        }
      ]
    },
    {
      "cell_type": "code",
      "execution_count": null,
      "metadata": {
        "id": "AidH_KidrX9L",
        "scrolled": true,
        "vscode": {
          "languageId": "r"
        },
        "colab": {
          "base_uri": "https://localhost:8080/",
          "height": 34
        },
        "outputId": "9c589ba3-0e68-4134-c87d-ed8ed68758f0"
      },
      "outputs": [
        {
          "output_type": "display_data",
          "data": {
            "text/html": [
              "<style>\n",
              ".dl-inline {width: auto; margin:0; padding: 0}\n",
              ".dl-inline>dt, .dl-inline>dd {float: none; width: auto; display: inline-block}\n",
              ".dl-inline>dt::after {content: \":\\0020\"; padding-right: .5ex}\n",
              ".dl-inline>dt:not(:first-of-type) {padding-left: .5ex}\n",
              "</style><dl class=dl-inline><dt>ACME</dt><dd>1.17282478252692</dd><dt>ACME_p</dt><dd>0.002</dd><dt>ADE</dt><dd>0.676924133787728</dd><dt>ADE_p</dt><dd>0.006</dd></dl>\n"
            ],
            "text/markdown": "ACME\n:   1.17282478252692ACME_p\n:   0.002ADE\n:   0.676924133787728ADE_p\n:   0.006\n\n",
            "text/latex": "\\begin{description*}\n\\item[ACME] 1.17282478252692\n\\item[ACME\\textbackslash{}\\_p] 0.002\n\\item[ADE] 0.676924133787728\n\\item[ADE\\textbackslash{}\\_p] 0.006\n\\end{description*}\n",
            "text/plain": [
              "     ACME    ACME_p       ADE     ADE_p \n",
              "1.1728248 0.0020000 0.6769241 0.0060000 "
            ]
          },
          "metadata": {}
        }
      ],
      "source": [
        "# WRITE YOUR CODE HERE\n",
        "\n",
        "run_analysis = function(dat){\n",
        "    # mediation\n",
        "  modl = lm(x ~ age, data = dat)\n",
        "  mod2 = lm(c ~ x + age, data = dat)\n",
        "  summary(modl)\n",
        "  summary(mod2)\n",
        "  med.mod = mediate(modl, mod2, treat = \"age\", mediator = \"x\")\n",
        "  summary(med.mod)\n",
        "    # vector with ACME, ADE, and p-values\n",
        "  return(c(ACME = med.mod$d0, ACME_p = med.mod$d0.p,\n",
        "             ADE = med.mod$z0, ADE_p = med.mod$z0.p))\n",
        "\n",
        "}\n",
        "\n",
        "run_analysis(dat)\n"
      ]
    },
    {
      "cell_type": "markdown",
      "metadata": {
        "id": "bHxz5W2r5s79"
      },
      "source": [
        "---\n",
        "## 3. `repeat_analysis()` function (3 pts)"
      ]
    },
    {
      "cell_type": "markdown",
      "metadata": {
        "id": "G_jvc1XQBCpH"
      },
      "source": [
        "Next fill in the function `repeat_analysis()` below so that it simulates and analyzes data `num_simulations` times. Store the outputs from each simulation in the `simouts` matrix. Calculate and return the coverage across all the simulations run for both ACME and ADE."
      ]
    },
    {
      "cell_type": "code",
      "execution_count": null,
      "metadata": {
        "id": "NheOpBDsBBo9",
        "vscode": {
          "languageId": "r"
        },
        "colab": {
          "base_uri": "https://localhost:8080/",
          "height": 114
        },
        "outputId": "b27a06da-4b11-4fbc-e581-1cd8febfd462"
      },
      "outputs": [
        {
          "output_type": "display_data",
          "data": {
            "text/html": [
              "<dl>\n",
              "\t<dt>$ACME_cov</dt>\n",
              "\t\t<dd>0.93</dd>\n",
              "\t<dt>$ADE_cov</dt>\n",
              "\t\t<dd>0.9</dd>\n",
              "</dl>\n"
            ],
            "text/markdown": "$ACME_cov\n:   0.93\n$ADE_cov\n:   0.9\n\n\n",
            "text/latex": "\\begin{description}\n\\item[\\$ACME\\_cov] 0.93\n\\item[\\$ADE\\_cov] 0.9\n\\end{description}\n",
            "text/plain": [
              "$ACME_cov\n",
              "[1] 0.93\n",
              "\n",
              "$ADE_cov\n",
              "[1] 0.9\n"
            ]
          },
          "metadata": {}
        }
      ],
      "source": [
        "\n",
        "\n",
        "repeat_analysis <- function(num_simulations, alpha, sample_size, age_lo, age_hi,\n",
        "        beta_xa, beta_x0, sd_x, beta_ca, beta_cx, beta_c0, sd_c) {\n",
        "    # Initialize simouts matrix for storing each output from run_analysis()\n",
        "    simouts <- matrix(rep(NA, num_simulations*4), nrow=num_simulations, ncol=4)\n",
        "\n",
        "    # Start simulating\n",
        "    for (i in 1:num_simulations) {\n",
        "      # WRITE YOUR CODE HERE\n",
        "      data = simulate_data(sample_size, age_lo, age_hi, beta_xa, beta_x0, sd_x, beta_ca, beta_cx, beta_c0, sd_c)\n",
        "      simouts[i, ] <- run_analysis(data)\n",
        "\n",
        "    }\n",
        "\n",
        "    # Calculate coverage for both ACME and ADE estimates using p-values in simouts\n",
        "    ACME_cov = mean(simouts[,2] <= alpha)\n",
        "    ADE_cov =  mean(simouts[,4] <= alpha)\n",
        "\n",
        "    return(list(ACME_cov = ACME_cov, ADE_cov = ADE_cov))\n",
        "}\n",
        "\n",
        "repeat_analysis(num_simulations = 100, alpha = 0.05, sample_size, age_lo, age_hi,\n",
        "        beta_xa, beta_x0, sd_x, beta_ca, beta_cx, beta_c0, sd_c)"
      ]
    },
    {
      "cell_type": "markdown",
      "metadata": {
        "id": "bM5J5pYyQoRL"
      },
      "source": [
        "Now run the `repeat_analysis()` function using the same parameter settings as above, for 10 simulations, with an alpha criterion of 0.01."
      ]
    },
    {
      "cell_type": "code",
      "execution_count": null,
      "metadata": {
        "id": "RpURGbZQQlEK",
        "vscode": {
          "languageId": "r"
        },
        "colab": {
          "base_uri": "https://localhost:8080/",
          "height": 114
        },
        "outputId": "93a0edb5-86c1-4bb9-9ae7-30a74a7baa0b"
      },
      "outputs": [
        {
          "output_type": "display_data",
          "data": {
            "text/html": [
              "<dl>\n",
              "\t<dt>$ACME_cov</dt>\n",
              "\t\t<dd>0.8</dd>\n",
              "\t<dt>$ADE_cov</dt>\n",
              "\t\t<dd>0.8</dd>\n",
              "</dl>\n"
            ],
            "text/markdown": "$ACME_cov\n:   0.8\n$ADE_cov\n:   0.8\n\n\n",
            "text/latex": "\\begin{description}\n\\item[\\$ACME\\_cov] 0.8\n\\item[\\$ADE\\_cov] 0.8\n\\end{description}\n",
            "text/plain": [
              "$ACME_cov\n",
              "[1] 0.8\n",
              "\n",
              "$ADE_cov\n",
              "[1] 0.8\n"
            ]
          },
          "metadata": {}
        }
      ],
      "source": [
        "# WRITE YOUR CODE HERE\n",
        "\n",
        "\n",
        "ten.sim = repeat_analysis(num_simulations = 10, alpha = 0.01, sample_size, age_lo, age_hi,\n",
        "        beta_xa, beta_x0, sd_x, beta_ca, beta_cx, beta_c0, sd_c)\n",
        "\n",
        "ten.sim"
      ]
    },
    {
      "cell_type": "markdown",
      "metadata": {
        "id": "imIoN4w65s7_"
      },
      "source": [
        "---\n",
        "## 4. Testing different sample sizes (2 pts)"
      ]
    },
    {
      "cell_type": "markdown",
      "metadata": {
        "id": "CzeTaoY7SaXv"
      },
      "source": [
        "Finally, do the same thing (10 simulations, alpha criterion of 0.01) but for 5 different sample sizes: 50, 75, 100, 125, 150. You can do this using `map` (as in the tutorial), or a simple `for` loop, or by calculating each individually. Up to you! This should take around 3 minutes to run."
      ]
    },
    {
      "cell_type": "code",
      "execution_count": null,
      "metadata": {
        "id": "mp-a19XsS8Md",
        "vscode": {
          "languageId": "r"
        }
      },
      "outputs": [],
      "source": [
        "# WRITE YOUR CODE HERE\n",
        "# 50\n",
        "fifty.sim = repeat_analysis(num_simulations = 10, alpha = 0.01, sample_size = 50, age_lo, age_hi,\n",
        "        beta_xa, beta_x0, sd_x, beta_ca, beta_cx, beta_c0, sd_c)\n",
        "\n",
        "# 75\n",
        "sev.five.sim = repeat_analysis(num_simulations = 10, alpha = 0.01, sample_size = 75, age_lo, age_hi,\n",
        "        beta_xa, beta_x0, sd_x, beta_ca, beta_cx, beta_c0, sd_c)\n",
        "\n",
        "# 100\n",
        "hund.sim = repeat_analysis(num_simulations = 10, alpha = 0.01, sample_size = 100, age_lo, age_hi,\n",
        "        beta_xa, beta_x0, sd_x, beta_ca, beta_cx, beta_c0, sd_c)\n",
        "# 125\n",
        "hund.twenty.sim = repeat_analysis(num_simulations = 10, alpha = 0.01, sample_size = 125, age_lo, age_hi,\n",
        "        beta_xa, beta_x0, sd_x, beta_ca, beta_cx, beta_c0, sd_c)\n",
        "# 150\n",
        "hund.fifty.sim = repeat_analysis(num_simulations = 10, alpha = 0.01, sample_size = 150, age_lo, age_hi,\n",
        "        beta_xa, beta_x0, sd_x, beta_ca, beta_cx, beta_c0, sd_c)\n"
      ]
    },
    {
      "cell_type": "markdown",
      "metadata": {
        "id": "akJwKCB7dkDw"
      },
      "source": [
        "Print your results."
      ]
    },
    {
      "cell_type": "code",
      "execution_count": null,
      "metadata": {
        "id": "gIkkWTG2aR4d",
        "scrolled": true,
        "vscode": {
          "languageId": "r"
        },
        "colab": {
          "base_uri": "https://localhost:8080/",
          "height": 448
        },
        "outputId": "09a0bbd4-aca8-47a7-efc8-0ab27bad7640"
      },
      "outputs": [
        {
          "data": {
            "text/html": [
              "<dl>\n",
              "\t<dt>$ACME_cov</dt>\n",
              "\t\t<dd>0.8</dd>\n",
              "\t<dt>$ADE_cov</dt>\n",
              "\t\t<dd>0.3</dd>\n",
              "</dl>\n"
            ],
            "text/latex": "\\begin{description}\n\\item[\\$ACME\\_cov] 0.8\n\\item[\\$ADE\\_cov] 0.3\n\\end{description}\n",
            "text/markdown": "$ACME_cov\n:   0.8\n$ADE_cov\n:   0.3\n\n\n",
            "text/plain": [
              "$ACME_cov\n",
              "[1] 0.8\n",
              "\n",
              "$ADE_cov\n",
              "[1] 0.3\n"
            ]
          },
          "metadata": {},
          "output_type": "display_data"
        },
        {
          "data": {
            "text/html": [
              "<dl>\n",
              "\t<dt>$ACME_cov</dt>\n",
              "\t\t<dd>0.6</dd>\n",
              "\t<dt>$ADE_cov</dt>\n",
              "\t\t<dd>0.6</dd>\n",
              "</dl>\n"
            ],
            "text/latex": "\\begin{description}\n\\item[\\$ACME\\_cov] 0.6\n\\item[\\$ADE\\_cov] 0.6\n\\end{description}\n",
            "text/markdown": "$ACME_cov\n:   0.6\n$ADE_cov\n:   0.6\n\n\n",
            "text/plain": [
              "$ACME_cov\n",
              "[1] 0.6\n",
              "\n",
              "$ADE_cov\n",
              "[1] 0.6\n"
            ]
          },
          "metadata": {},
          "output_type": "display_data"
        },
        {
          "data": {
            "text/html": [
              "<dl>\n",
              "\t<dt>$ACME_cov</dt>\n",
              "\t\t<dd>0.3</dd>\n",
              "\t<dt>$ADE_cov</dt>\n",
              "\t\t<dd>0.5</dd>\n",
              "</dl>\n"
            ],
            "text/latex": "\\begin{description}\n\\item[\\$ACME\\_cov] 0.3\n\\item[\\$ADE\\_cov] 0.5\n\\end{description}\n",
            "text/markdown": "$ACME_cov\n:   0.3\n$ADE_cov\n:   0.5\n\n\n",
            "text/plain": [
              "$ACME_cov\n",
              "[1] 0.3\n",
              "\n",
              "$ADE_cov\n",
              "[1] 0.5\n"
            ]
          },
          "metadata": {},
          "output_type": "display_data"
        },
        {
          "data": {
            "text/html": [
              "<dl>\n",
              "\t<dt>$ACME_cov</dt>\n",
              "\t\t<dd>0.7</dd>\n",
              "\t<dt>$ADE_cov</dt>\n",
              "\t\t<dd>0.9</dd>\n",
              "</dl>\n"
            ],
            "text/latex": "\\begin{description}\n\\item[\\$ACME\\_cov] 0.7\n\\item[\\$ADE\\_cov] 0.9\n\\end{description}\n",
            "text/markdown": "$ACME_cov\n:   0.7\n$ADE_cov\n:   0.9\n\n\n",
            "text/plain": [
              "$ACME_cov\n",
              "[1] 0.7\n",
              "\n",
              "$ADE_cov\n",
              "[1] 0.9\n"
            ]
          },
          "metadata": {},
          "output_type": "display_data"
        },
        {
          "data": {
            "text/html": [
              "<dl>\n",
              "\t<dt>$ACME_cov</dt>\n",
              "\t\t<dd>1</dd>\n",
              "\t<dt>$ADE_cov</dt>\n",
              "\t\t<dd>1</dd>\n",
              "</dl>\n"
            ],
            "text/latex": "\\begin{description}\n\\item[\\$ACME\\_cov] 1\n\\item[\\$ADE\\_cov] 1\n\\end{description}\n",
            "text/markdown": "$ACME_cov\n:   1\n$ADE_cov\n:   1\n\n\n",
            "text/plain": [
              "$ACME_cov\n",
              "[1] 1\n",
              "\n",
              "$ADE_cov\n",
              "[1] 1\n"
            ]
          },
          "metadata": {},
          "output_type": "display_data"
        }
      ],
      "source": [
        "# WRITE YOUR CODE HERE\n",
        "fifty.sim\n",
        "sev.five.sim\n",
        "hund.sim\n",
        "hund.twenty.sim\n",
        "hund.fifty.sim"
      ]
    },
    {
      "cell_type": "markdown",
      "metadata": {
        "id": "q3Oo6npB5s8B"
      },
      "source": [
        "## 5. Reflection (2 pts)"
      ]
    },
    {
      "cell_type": "markdown",
      "metadata": {
        "id": "tpbGkul2dr-5"
      },
      "source": [
        "If this were a real power analysis, we'd want to run more simulations per sample size (to get a more precise estimate of power) and we may also want to test out some other values of the parameters we used to simulate our data. However, what would you conclude just based on the results above?\n",
        "\n",
        "> *Of the sample sizes we tested, for n = 150 100% of the simulations, the null was rejected. This could mean that the mediation is super strong or that our sample size is too large. So I would feel most comfortable going with n=125 where we have 75% of simulations rejecting the null.*\n",
        ">"
      ]
    },
    {
      "cell_type": "markdown",
      "metadata": {
        "id": "RcCo3QOifUi5"
      },
      "source": [
        "**Given** how we generated the data, why was the direct effect harder to detect than the mediated effect?\n",
        "> *ADE kind of had to compete with x whereas ACME didn't have direct competition with x when explaining c.*"
      ]
    },
    {
      "cell_type": "markdown",
      "metadata": {
        "id": "C4MPECMmZXqe"
      },
      "source": [
        "**DUE:** 5pm EST, April 3, 2024"
      ]
    },
    {
      "cell_type": "markdown",
      "metadata": {
        "id": "r9GUofXN4BVy"
      },
      "source": [
        "**IMPORTANT** Did you collaborate with anyone on this assignment? If so, list their names here.\n",
        "> *Someone's Name*"
      ]
    }
  ],
  "metadata": {
    "colab": {
      "provenance": []
    },
    "kernelspec": {
      "display_name": "R",
      "language": "R",
      "name": "ir"
    },
    "language_info": {
      "codemirror_mode": "r",
      "file_extension": ".r",
      "mimetype": "text/x-r-source",
      "name": "R",
      "pygments_lexer": "r",
      "version": "4.2.0"
    }
  },
  "nbformat": 4,
  "nbformat_minor": 0
}