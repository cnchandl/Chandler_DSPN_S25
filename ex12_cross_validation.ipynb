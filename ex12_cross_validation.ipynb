{
  "cells": [
    {
      "cell_type": "markdown",
      "metadata": {
        "id": "rLWDJAMf-ow-"
      },
      "source": [
        "<a href=\"https://colab.research.google.com/github/CoAxLab/Data-Explorations/blob/main/book/exercises/cross-validation.ipynb\" target=\"_parent\"><img src=\"https://colab.research.google.com/assets/colab-badge.svg\" alt=\"Open In Colab\"/></a>"
      ]
    },
    {
      "cell_type": "markdown",
      "metadata": {
        "id": "6xdZ1WjBmtDf"
      },
      "source": [
        "# Exercise 12: Cross validation\n",
        "-----\n",
        "\n",
        "In this exercise, we'll practice implementing cross validation techniques, including leave-one-out and k-fold cross validation. We'll use the `PimaIndiansDiabetes2` practice dataset, which has medical data on a group of Pima Native American women, including whether or not they have diabetes. This dataset is part of the `mlbench` package. We'll be using each person's medical history to predict whether or not they have been diagnosed with diabetes."
      ]
    },
    {
      "cell_type": "markdown",
      "source": [
        "1. Data 1/1\n",
        "2. Leave-one-out Cross Validation 4/4\n",
        "3. Compare to cv.glm 3/3\n",
        "4. Adjusting K and Reflection 2/2"
      ],
      "metadata": {
        "id": "UUJ0mzJZHHR-"
      }
    },
    {
      "cell_type": "markdown",
      "metadata": {
        "id": "BubJSLTamtDg"
      },
      "source": [
        "# 1: Data (1 pts)\n",
        "---\n",
        "\n",
        "Load the `tidyverse`, `boot`, and `mlbench` packages (you may need to install `boot` and `mlbench`).\n",
        "\n",
        "Load the `PimaIndiansDiabetes2` dataset using the `data()` function. Drop the `insulin` column (it just has a lot of missing data) and then drop `NA`s from the rest of the dataset. Save your updated dataset to a new variable name. Finally, print the dimensions of your new dataset, and look at the first few lines of data."
      ]
    },
    {
      "cell_type": "code",
      "execution_count": null,
      "metadata": {
        "id": "QNuKGb6emtDg",
        "vscode": {
          "languageId": "r"
        },
        "colab": {
          "base_uri": "https://localhost:8080/",
          "height": 304
        },
        "outputId": "cce558c2-cf2c-4f3f-f628-9c1ac7c513ee"
      },
      "outputs": [
        {
          "output_type": "display_data",
          "data": {
            "text/html": [
              "<table class=\"dataframe\">\n",
              "<caption>A data.frame: 6 × 8</caption>\n",
              "<thead>\n",
              "\t<tr><th></th><th scope=col>pregnant</th><th scope=col>glucose</th><th scope=col>pressure</th><th scope=col>triceps</th><th scope=col>mass</th><th scope=col>pedigree</th><th scope=col>age</th><th scope=col>diabetes</th></tr>\n",
              "\t<tr><th></th><th scope=col>&lt;dbl&gt;</th><th scope=col>&lt;dbl&gt;</th><th scope=col>&lt;dbl&gt;</th><th scope=col>&lt;dbl&gt;</th><th scope=col>&lt;dbl&gt;</th><th scope=col>&lt;dbl&gt;</th><th scope=col>&lt;dbl&gt;</th><th scope=col>&lt;fct&gt;</th></tr>\n",
              "</thead>\n",
              "<tbody>\n",
              "\t<tr><th scope=row>1</th><td>6</td><td>148</td><td>72</td><td>35</td><td>33.6</td><td>0.627</td><td>50</td><td>pos</td></tr>\n",
              "\t<tr><th scope=row>2</th><td>1</td><td> 85</td><td>66</td><td>29</td><td>26.6</td><td>0.351</td><td>31</td><td>neg</td></tr>\n",
              "\t<tr><th scope=row>4</th><td>1</td><td> 89</td><td>66</td><td>23</td><td>28.1</td><td>0.167</td><td>21</td><td>neg</td></tr>\n",
              "\t<tr><th scope=row>5</th><td>0</td><td>137</td><td>40</td><td>35</td><td>43.1</td><td>2.288</td><td>33</td><td>pos</td></tr>\n",
              "\t<tr><th scope=row>7</th><td>3</td><td> 78</td><td>50</td><td>32</td><td>31.0</td><td>0.248</td><td>26</td><td>pos</td></tr>\n",
              "\t<tr><th scope=row>9</th><td>2</td><td>197</td><td>70</td><td>45</td><td>30.5</td><td>0.158</td><td>53</td><td>pos</td></tr>\n",
              "</tbody>\n",
              "</table>\n"
            ],
            "text/markdown": "\nA data.frame: 6 × 8\n\n| <!--/--> | pregnant &lt;dbl&gt; | glucose &lt;dbl&gt; | pressure &lt;dbl&gt; | triceps &lt;dbl&gt; | mass &lt;dbl&gt; | pedigree &lt;dbl&gt; | age &lt;dbl&gt; | diabetes &lt;fct&gt; |\n|---|---|---|---|---|---|---|---|---|\n| 1 | 6 | 148 | 72 | 35 | 33.6 | 0.627 | 50 | pos |\n| 2 | 1 |  85 | 66 | 29 | 26.6 | 0.351 | 31 | neg |\n| 4 | 1 |  89 | 66 | 23 | 28.1 | 0.167 | 21 | neg |\n| 5 | 0 | 137 | 40 | 35 | 43.1 | 2.288 | 33 | pos |\n| 7 | 3 |  78 | 50 | 32 | 31.0 | 0.248 | 26 | pos |\n| 9 | 2 | 197 | 70 | 45 | 30.5 | 0.158 | 53 | pos |\n\n",
            "text/latex": "A data.frame: 6 × 8\n\\begin{tabular}{r|llllllll}\n  & pregnant & glucose & pressure & triceps & mass & pedigree & age & diabetes\\\\\n  & <dbl> & <dbl> & <dbl> & <dbl> & <dbl> & <dbl> & <dbl> & <fct>\\\\\n\\hline\n\t1 & 6 & 148 & 72 & 35 & 33.6 & 0.627 & 50 & pos\\\\\n\t2 & 1 &  85 & 66 & 29 & 26.6 & 0.351 & 31 & neg\\\\\n\t4 & 1 &  89 & 66 & 23 & 28.1 & 0.167 & 21 & neg\\\\\n\t5 & 0 & 137 & 40 & 35 & 43.1 & 2.288 & 33 & pos\\\\\n\t7 & 3 &  78 & 50 & 32 & 31.0 & 0.248 & 26 & pos\\\\\n\t9 & 2 & 197 & 70 & 45 & 30.5 & 0.158 & 53 & pos\\\\\n\\end{tabular}\n",
            "text/plain": [
              "  pregnant glucose pressure triceps mass pedigree age diabetes\n",
              "1 6        148     72       35      33.6 0.627    50  pos     \n",
              "2 1         85     66       29      26.6 0.351    31  neg     \n",
              "4 1         89     66       23      28.1 0.167    21  neg     \n",
              "5 0        137     40       35      43.1 2.288    33  pos     \n",
              "7 3         78     50       32      31.0 0.248    26  pos     \n",
              "9 2        197     70       45      30.5 0.158    53  pos     "
            ]
          },
          "metadata": {}
        },
        {
          "output_type": "display_data",
          "data": {
            "text/html": [
              "<style>\n",
              ".list-inline {list-style: none; margin:0; padding: 0}\n",
              ".list-inline>li {display: inline-block}\n",
              ".list-inline>li:not(:last-child)::after {content: \"\\00b7\"; padding: 0 .5ex}\n",
              "</style>\n",
              "<ol class=list-inline><li>532</li><li>8</li></ol>\n"
            ],
            "text/markdown": "1. 532\n2. 8\n\n\n",
            "text/latex": "\\begin{enumerate*}\n\\item 532\n\\item 8\n\\end{enumerate*}\n",
            "text/plain": [
              "[1] 532   8"
            ]
          },
          "metadata": {}
        }
      ],
      "source": [
        "# INSERT CODE HERE\n",
        "#install.packages(\"boot\")\n",
        "#install.packages(\"mlbench\")\n",
        "\n",
        "library(tidyverse)\n",
        "library(boot)\n",
        "library(mlbench)\n",
        "data(PimaIndiansDiabetes2)\n",
        "df = PimaIndiansDiabetes2 %>%\n",
        "  select(-c(insulin)) %>%\n",
        "  drop_na()\n",
        "head(df)\n",
        "dim(df)\n"
      ]
    },
    {
      "cell_type": "markdown",
      "metadata": {
        "id": "_BRVQiWSmtDh"
      },
      "source": [
        "(Note that in medical contexts, `pedigree` refers to a system of measuring family history of a condition. So here, higher numbers mean greater family history of diabetes. You can read more about this dataset [here](https://rdrr.io/cran/mlbench/man/PimaIndiansDiabetes.html).)\n",
        "\n",
        "# 2. Leave-one-out Cross Validation (4 pts)\n",
        "\n",
        "In the tutorial, we learned how to fit leave-one-out cross validation using the `cv.glm` function from the `boot` package. But we can also do this manually using `predict()` like we have in the past.\n",
        "\n",
        "Let's predict `diabetes`, a dichotomous outcome, using all the other variables in our modified dataset.\n",
        "\n",
        "First, fit a logistic regression model using all of the observations except the very first one. Then use your fitted model to predict whether your holdout case is positive or negative for diabetes. Remember that logistic regression coefficients are in **log-odds**, meaning that if an output is positive, the probability of the outcome is greater than 50%; if the output is negative, the probability of the outcome is less than 50%.\n",
        "\n",
        "Compare your result to the actual response in row one above. Did your model correctly classify this observation?"
      ]
    },
    {
      "cell_type": "code",
      "execution_count": null,
      "metadata": {
        "id": "RDyry5h_mtDi",
        "vscode": {
          "languageId": "r"
        },
        "colab": {
          "base_uri": "https://localhost:8080/",
          "height": 69
        },
        "outputId": "dc9e66c4-3dde-467b-cb24-9476cc3c122c"
      },
      "outputs": [
        {
          "output_type": "display_data",
          "data": {
            "text/html": [
              "<strong>1:</strong> 1"
            ],
            "text/markdown": "**1:** 1",
            "text/latex": "\\textbf{1:} 1",
            "text/plain": [
              "1 \n",
              "1 "
            ]
          },
          "metadata": {}
        },
        {
          "output_type": "display_data",
          "data": {
            "text/html": [
              "pos\n",
              "<details>\n",
              "\t<summary style=display:list-item;cursor:pointer>\n",
              "\t\t<strong>Levels</strong>:\n",
              "\t</summary>\n",
              "\t<style>\n",
              "\t.list-inline {list-style: none; margin:0; padding: 0}\n",
              "\t.list-inline>li {display: inline-block}\n",
              "\t.list-inline>li:not(:last-child)::after {content: \"\\00b7\"; padding: 0 .5ex}\n",
              "\t</style>\n",
              "\t<ol class=list-inline><li>'neg'</li><li>'pos'</li></ol>\n",
              "</details>"
            ],
            "text/markdown": "pos\n**Levels**: 1. 'neg'\n2. 'pos'\n\n\n",
            "text/latex": "pos\n\\emph{Levels}: \\begin{enumerate*}\n\\item 'neg'\n\\item 'pos'\n\\end{enumerate*}\n",
            "text/plain": [
              "[1] pos\n",
              "Levels: neg pos"
            ]
          },
          "metadata": {}
        }
      ],
      "source": [
        "# INSERT CODE HERE\n",
        "df_1 = df %>%\n",
        "  slice(-1)\n",
        "\n",
        "one = df %>%\n",
        "  slice(1)\n",
        "\n",
        "model1 = glm(diabetes ~ pregnant + glucose + pressure + triceps + mass + pedigree + age, data = df_1, family = \"binomial\")\n",
        "\n",
        "log_odds = predict(model1, newdata = one, type = \"response\")\n",
        "\n",
        "predicted = ifelse(log_odds > 0.5, 1, 0)\n",
        "\n",
        "actual = one$diabetes\n",
        "\n",
        "\n",
        "predicted\n",
        "actual\n",
        "\n",
        "## yes the model classified the observation correctly.\n"
      ]
    },
    {
      "cell_type": "markdown",
      "metadata": {
        "id": "sIPpDdd0mtDi"
      },
      "source": [
        "So we just calculated a single iteration of LOOCV. We used 531 rows of our data to fit a model to predict the outcome of the last row.\n",
        "\n",
        "Below, use a `for` loop to iterate through the rest of your dataset doing the same thing. You will need to:\n",
        "* Create a data frame `results` with two columns: one named `actual` which holds the true classification for each observation, and one named `predicted`, which should be filled with `NA`s. This is where you'll store the output of your loop.\n",
        "* Create a loop that runs through each row of your data, pulls that observation out, trains your model on the remaining data, and then tests the fitted model on your test observation.\n",
        "* Store your model *predictions* (\"pos\" or \"neg\" -- not the log-odds) in the `predicted` column of your `results` dataframe\n",
        "\n",
        "After you run your loop, print the first few lines of `results`."
      ]
    },
    {
      "cell_type": "code",
      "execution_count": null,
      "metadata": {
        "id": "5Z1ijm_PmtDj",
        "vscode": {
          "languageId": "r"
        },
        "colab": {
          "base_uri": "https://localhost:8080/",
          "height": 286
        },
        "outputId": "4c05ad93-1a21-45c2-c8b8-ef07135040bd"
      },
      "outputs": [
        {
          "output_type": "display_data",
          "data": {
            "text/html": [
              "<table class=\"dataframe\">\n",
              "<caption>A data.frame: 6 × 2</caption>\n",
              "<thead>\n",
              "\t<tr><th></th><th scope=col>actual</th><th scope=col>predicted</th></tr>\n",
              "\t<tr><th></th><th scope=col>&lt;fct&gt;</th><th scope=col>&lt;chr&gt;</th></tr>\n",
              "</thead>\n",
              "<tbody>\n",
              "\t<tr><th scope=row>1</th><td>pos</td><td>pos</td></tr>\n",
              "\t<tr><th scope=row>2</th><td>neg</td><td>neg</td></tr>\n",
              "\t<tr><th scope=row>3</th><td>neg</td><td>neg</td></tr>\n",
              "\t<tr><th scope=row>4</th><td>pos</td><td>pos</td></tr>\n",
              "\t<tr><th scope=row>5</th><td>pos</td><td>neg</td></tr>\n",
              "\t<tr><th scope=row>6</th><td>pos</td><td>pos</td></tr>\n",
              "</tbody>\n",
              "</table>\n"
            ],
            "text/markdown": "\nA data.frame: 6 × 2\n\n| <!--/--> | actual &lt;fct&gt; | predicted &lt;chr&gt; |\n|---|---|---|\n| 1 | pos | pos |\n| 2 | neg | neg |\n| 3 | neg | neg |\n| 4 | pos | pos |\n| 5 | pos | neg |\n| 6 | pos | pos |\n\n",
            "text/latex": "A data.frame: 6 × 2\n\\begin{tabular}{r|ll}\n  & actual & predicted\\\\\n  & <fct> & <chr>\\\\\n\\hline\n\t1 & pos & pos\\\\\n\t2 & neg & neg\\\\\n\t3 & neg & neg\\\\\n\t4 & pos & pos\\\\\n\t5 & pos & neg\\\\\n\t6 & pos & pos\\\\\n\\end{tabular}\n",
            "text/plain": [
              "  actual predicted\n",
              "1 pos    pos      \n",
              "2 neg    neg      \n",
              "3 neg    neg      \n",
              "4 pos    pos      \n",
              "5 pos    neg      \n",
              "6 pos    pos      "
            ]
          },
          "metadata": {}
        }
      ],
      "source": [
        "# Initialize `results` data frame\n",
        "results = data.frame(actual = df$diabetes, predicted = NA)\n",
        "\n",
        "#for loop\n",
        "for (i in 1:nrow(df)){\n",
        "    # separate individual observation `i` from the rest of your data\n",
        "    test_obs = df %>%\n",
        "      slice(i)\n",
        "    train_data = df %>%\n",
        "      slice(-i)\n",
        "\n",
        "    # train your model\n",
        "    model = glm(diabetes ~ pregnant + glucose + pressure + triceps + mass + pedigree + age, data = train_data, family = \"binomial\")\n",
        "\n",
        "    # test model on hold out observation\n",
        "    prob = predict(model, newdata = test_obs, type = \"response\")\n",
        "\n",
        "    # classify model prediction as \"pos\" or \"neg\" and add to `results`\n",
        "    predicted = ifelse(prob >= 0.5, \"pos\", \"neg\")\n",
        "\n",
        "    results$predicted[i] = predicted\n",
        "\n",
        "}\n",
        "\n",
        "head(results)"
      ]
    },
    {
      "cell_type": "markdown",
      "metadata": {
        "id": "42Jng_EEmtDk"
      },
      "source": [
        "Now, calculate the overall error of your model. What proportion of cases were incorrectly classified?"
      ]
    },
    {
      "cell_type": "code",
      "execution_count": null,
      "metadata": {
        "id": "SYhKS5HimtDk",
        "vscode": {
          "languageId": "r"
        },
        "colab": {
          "base_uri": "https://localhost:8080/",
          "height": 34
        },
        "outputId": "b5e9b30f-de58-42ca-de10-233e8fa7b3da"
      },
      "outputs": [
        {
          "output_type": "display_data",
          "data": {
            "text/html": [
              "0.221804511278195"
            ],
            "text/markdown": "0.221804511278195",
            "text/latex": "0.221804511278195",
            "text/plain": [
              "[1] 0.2218045"
            ]
          },
          "metadata": {}
        }
      ],
      "source": [
        "# INSERT CODE HERE\n",
        "calc = results %>%\n",
        "  mutate(actual = ifelse(actual == \"pos\", 1, 0), predicted = ifelse(predicted == \"pos\", 1, 0))\n",
        "accuracy = mean(calc$predicted == calc$actual)\n",
        "error = 1 - accuracy\n",
        "error\n",
        "## 22% were incorrectly classified"
      ]
    },
    {
      "cell_type": "markdown",
      "metadata": {
        "id": "W1TwL8BimtDl"
      },
      "source": [
        "# 3. Compare to `cv.glm` (3 pts)\n",
        "\n",
        "Now, let's compare this result to the `cv.glm` function. Using the tutorial as a guide, use `cv.glm` to run LOOCV on the data, using the same model (i.e., still using all of the variables to predict diabetes diagnosis).\n",
        "\n",
        "Note that, because this is a `classification` problem and not a regression problem like in the tutorial, we need to adjust the `cost` argument of `cv.glm`. We can read more about this in the docs:"
      ]
    },
    {
      "cell_type": "code",
      "execution_count": null,
      "metadata": {
        "id": "wIUAW1AtmtDl",
        "vscode": {
          "languageId": "r"
        }
      },
      "outputs": [],
      "source": [
        "#?cv.glm\n",
        "model = glm(diabetes ~ pregnant + glucose + pressure + triceps + mass + pedigree + age, data = df, family = \"binomial\")\n",
        "cost_function <- function(r, i) {\n",
        "  # Convert probabilities to class labels\n",
        "  predicted_class <- ifelse(i > 0.5, 1, 0)\n",
        "  # Calculate misclassification rate\n",
        "  return(mean(predicted_class != r))\n",
        "}\n",
        "cv.diabetes = cv.glm(df, model, cost = cost_function, K=nrow(df))"
      ]
    },
    {
      "cell_type": "markdown",
      "metadata": {
        "id": "SWhbyxtymtDl"
      },
      "source": [
        "Here, we see `cost` is defined as:\n",
        "> \"A function of two vector arguments specifying the cost function for the cross-validation. The first argument to cost should correspond to the **observed responses** and the second argument should correspond to the **predicted or fitted responses** from the generalized linear model.\"\n",
        "\n",
        "In the example code (scroll to bottom of the docs), we see that the appropriate cost function for a binary classification is\n",
        "\n",
        "``\n",
        "cost <- function(r, pi = 0) mean(abs(r-pi) > 0.5)\n",
        "``\n",
        "\n",
        "Where `r` is the vector of observed responses (technically \"pos\" and \"neg\", but R treats these as 1 and 0 under the hood), and `pi` is the vector of *probabilities* (not log-odds) fit by the model. Thus, this boils down to our error: what proportion of observations were incorrectly classified. You will need to include this code below."
      ]
    },
    {
      "cell_type": "code",
      "execution_count": null,
      "metadata": {
        "id": "bJiCmfqomtDl",
        "vscode": {
          "languageId": "r"
        },
        "colab": {
          "base_uri": "https://localhost:8080/",
          "height": 52
        },
        "outputId": "7925ade2-64dd-438b-a81a-f9441df5b166"
      },
      "outputs": [
        {
          "output_type": "display_data",
          "data": {
            "text/html": [
              "<style>\n",
              ".list-inline {list-style: none; margin:0; padding: 0}\n",
              ".list-inline>li {display: inline-block}\n",
              ".list-inline>li:not(:last-child)::after {content: \"\\00b7\"; padding: 0 .5ex}\n",
              "</style>\n",
              "<ol class=list-inline><li>0.221804511278196</li><li>0.222115438973376</li></ol>\n"
            ],
            "text/markdown": "1. 0.221804511278196\n2. 0.222115438973376\n\n\n",
            "text/latex": "\\begin{enumerate*}\n\\item 0.221804511278196\n\\item 0.222115438973376\n\\end{enumerate*}\n",
            "text/plain": [
              "[1] 0.2218045 0.2221154"
            ]
          },
          "metadata": {}
        },
        {
          "output_type": "display_data",
          "data": {
            "text/html": [
              "<style>\n",
              ".list-inline {list-style: none; margin:0; padding: 0}\n",
              ".list-inline>li {display: inline-block}\n",
              ".list-inline>li:not(:last-child)::after {content: \"\\00b7\"; padding: 0 .5ex}\n",
              "</style>\n",
              "<ol class=list-inline><li>0.221804511278196</li><li>0.222115438973376</li></ol>\n"
            ],
            "text/markdown": "1. 0.221804511278196\n2. 0.222115438973376\n\n\n",
            "text/latex": "\\begin{enumerate*}\n\\item 0.221804511278196\n\\item 0.222115438973376\n\\end{enumerate*}\n",
            "text/plain": [
              "[1] 0.2218045 0.2221154"
            ]
          },
          "metadata": {}
        }
      ],
      "source": [
        "# INSERT CODE HERE\n",
        "cost <- function(r, pi = 0) mean(abs(r-pi) > 0.5)\n",
        "cv.diabetes2 = cv.glm(df, model, cost = cost, K=nrow(df))\n",
        "cv.diabetes$delta\n",
        "cv.diabetes2$delta"
      ]
    },
    {
      "cell_type": "markdown",
      "metadata": {
        "id": "IcEuGX3FmtDm"
      },
      "source": [
        "How do your results compare to your manual LOOCV above?\n",
        "\n",
        "> * *They do equally as well both ending up this a misclassification rate of\n",
        " approximately 22%*\n"
      ]
    },
    {
      "cell_type": "markdown",
      "metadata": {
        "id": "6Y2tL4NpmtDm"
      },
      "source": [
        "# 4. Adjusting K and Reflection (2 pts)\n",
        "\n",
        "Recall that LOOCV has some drawbacks. In particular, it has quite high *variance* which can lead to poor performance on new test data. We can reduce this variance by increasing K.\n",
        "\n",
        "Below, re-run your cross validation using `cv.glm` with `k` set to 3, 5, 10, and 15."
      ]
    },
    {
      "cell_type": "code",
      "execution_count": null,
      "metadata": {
        "id": "vZYq_NQlmtDm",
        "scrolled": true,
        "vscode": {
          "languageId": "r"
        },
        "colab": {
          "base_uri": "https://localhost:8080/",
          "height": 86
        },
        "outputId": "7b841b3a-d851-41a8-d00b-5bbf79a0f0ac"
      },
      "outputs": [
        {
          "output_type": "display_data",
          "data": {
            "text/html": [
              "<style>\n",
              ".list-inline {list-style: none; margin:0; padding: 0}\n",
              ".list-inline>li {display: inline-block}\n",
              ".list-inline>li:not(:last-child)::after {content: \"\\00b7\"; padding: 0 .5ex}\n",
              "</style>\n",
              "<ol class=list-inline><li>0.210526315789474</li><li>0.21680846853977</li></ol>\n"
            ],
            "text/markdown": "1. 0.210526315789474\n2. 0.21680846853977\n\n\n",
            "text/latex": "\\begin{enumerate*}\n\\item 0.210526315789474\n\\item 0.21680846853977\n\\end{enumerate*}\n",
            "text/plain": [
              "[1] 0.2105263 0.2168085"
            ]
          },
          "metadata": {}
        },
        {
          "output_type": "display_data",
          "data": {
            "text/html": [
              "<style>\n",
              ".list-inline {list-style: none; margin:0; padding: 0}\n",
              ".list-inline>li {display: inline-block}\n",
              ".list-inline>li:not(:last-child)::after {content: \"\\00b7\"; padding: 0 .5ex}\n",
              "</style>\n",
              "<ol class=list-inline><li>0.216165413533835</li><li>0.218444372208717</li></ol>\n"
            ],
            "text/markdown": "1. 0.216165413533835\n2. 0.218444372208717\n\n\n",
            "text/latex": "\\begin{enumerate*}\n\\item 0.216165413533835\n\\item 0.218444372208717\n\\end{enumerate*}\n",
            "text/plain": [
              "[1] 0.2161654 0.2184444"
            ]
          },
          "metadata": {}
        },
        {
          "output_type": "display_data",
          "data": {
            "text/html": [
              "<style>\n",
              ".list-inline {list-style: none; margin:0; padding: 0}\n",
              ".list-inline>li {display: inline-block}\n",
              ".list-inline>li:not(:last-child)::after {content: \"\\00b7\"; padding: 0 .5ex}\n",
              "</style>\n",
              "<ol class=list-inline><li>0.223684210526316</li><li>0.223094154559331</li></ol>\n"
            ],
            "text/markdown": "1. 0.223684210526316\n2. 0.223094154559331\n\n\n",
            "text/latex": "\\begin{enumerate*}\n\\item 0.223684210526316\n\\item 0.223094154559331\n\\end{enumerate*}\n",
            "text/plain": [
              "[1] 0.2236842 0.2230942"
            ]
          },
          "metadata": {}
        },
        {
          "output_type": "display_data",
          "data": {
            "text/html": [
              "<style>\n",
              ".list-inline {list-style: none; margin:0; padding: 0}\n",
              ".list-inline>li {display: inline-block}\n",
              ".list-inline>li:not(:last-child)::after {content: \"\\00b7\"; padding: 0 .5ex}\n",
              "</style>\n",
              "<ol class=list-inline><li>0.227443609022556</li><li>0.228185595567867</li></ol>\n"
            ],
            "text/markdown": "1. 0.227443609022556\n2. 0.228185595567867\n\n\n",
            "text/latex": "\\begin{enumerate*}\n\\item 0.227443609022556\n\\item 0.228185595567867\n\\end{enumerate*}\n",
            "text/plain": [
              "[1] 0.2274436 0.2281856"
            ]
          },
          "metadata": {}
        }
      ],
      "source": [
        "set.seed(1)\n",
        "#INSERT CODE BELOW\n",
        "\n",
        "# K = 3\n",
        "cv.diabetes3 = cv.glm(df, model, cost = cost, K=3)\n",
        "cv.diabetes3$delta\n",
        "\n",
        "# K = 5\n",
        "cv.diabetes5 = cv.glm(df, model, cost = cost, K=5)\n",
        "cv.diabetes5$delta\n",
        "\n",
        "# K = 10\n",
        "cv.diabetes10 = cv.glm(df, model, cost = cost, K=10)\n",
        "cv.diabetes10$delta\n",
        "\n",
        "# K = 15\n",
        "cv.diabetes15 = cv.glm(df, model, cost = cost, K=15)\n",
        "cv.diabetes15$delta"
      ]
    },
    {
      "cell_type": "markdown",
      "metadata": {
        "id": "fI5Y1OqOmtDn"
      },
      "source": [
        "#### Reflection\n",
        "\n",
        "How do your errors compare to your LOOCV error above? How do they change as k increases?\n",
        "> * *They don't seem significantly different, the lower values of k had lower rates 21% and the higher values had higher rates, some of which would total to 23% iif rounded.*\n",
        ">\n",
        "> *  \n",
        "\n",
        "If you change the random seed above, you'll get slightly different errors. If you were to do the same with your LOOCV above , would you expect to get different results each time? Why or why not?\n",
        "> * *I would not expect different errors from LOOCV because you leave one out but you do it for all of them so there is no sampling that would give you different errors.*\n",
        "> *"
      ]
    },
    {
      "cell_type": "markdown",
      "metadata": {
        "id": "40W_0HQR-oxE"
      },
      "source": [
        "\n",
        "**DUE:** 5pm March 25, 2024\n",
        "\n",
        "**IMPORTANT** Did you collaborate with anyone on this assignment? If so, list their names here.\n",
        "> *Someone's Name*\n",
        ">\n",
        ">\n"
      ]
    }
  ],
  "metadata": {
    "colab": {
      "provenance": [],
      "toc_visible": true
    },
    "kernelspec": {
      "display_name": "R",
      "language": "R",
      "name": "ir"
    },
    "language_info": {
      "codemirror_mode": "r",
      "file_extension": ".r",
      "mimetype": "text/x-r-source",
      "name": "R",
      "pygments_lexer": "r",
      "version": "4.2.0"
    }
  },
  "nbformat": 4,
  "nbformat_minor": 0
}