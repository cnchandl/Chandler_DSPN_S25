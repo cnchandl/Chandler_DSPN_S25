{
  "cells": [
    {
      "cell_type": "markdown",
      "metadata": {
        "id": "9-XHYJQrXc_d"
      },
      "source": [
        "<a href=\"https://colab.research.google.com/github/CoAxLab/Data-Explorations/blob/main/book/exercises/the-beauty-of-knn.ipynb\" target=\"_parent\"><img src=\"https://colab.research.google.com/assets/colab-badge.svg\" alt=\"Open In Colab\"/></a>"
      ]
    },
    {
      "cell_type": "markdown",
      "metadata": {
        "id": "S5Fpqv6H_cZA"
      },
      "source": [
        "# Exercise 11: The beauty of kNN\n",
        "\n",
        "In this exercise, you'll gain practice working with kNN. We'll use the [diamonds](https://ggplot2.tidyverse.org/reference/diamonds.html) dataset, which comes as part of `ggplot2`. This dataset provides information on the quality and price of 50,000 diamonds\n"
      ]
    },
    {
      "cell_type": "markdown",
      "source": [
        "1. data plotting and train/test sets 2/2\n",
        "2. knn 3/3:\n",
        "\n",
        "\n",
        "*\n",
        "The reason why the accuracy went up to around 99% was because the response variable (price_bin) is included as a predictor\n",
        "\n",
        "3. for loop 2/3:\n",
        "\n",
        "\n",
        "*   \n",
        "The dataset used in the loop is not correct: it includes\n",
        "the response variable in the feature, which makes the error rate extremely low and the increase of error rate when k increases\n",
        "\n",
        "\n",
        "\n",
        "4. standardizing predictors 2/2\n"
      ],
      "metadata": {
        "id": "YsdEIQlLsF63"
      }
    },
    {
      "cell_type": "markdown",
      "metadata": {
        "id": "is-1Gkl6_cZC"
      },
      "source": [
        "## 1. Data, Plotting, and Train/Test Sets (2 pts)\n",
        "-----\n",
        "* Load the the `class` and `tidyverse` packages.\n",
        "* Assign the `diamonds` data set to a simpler name. Then, create a new variable `price_bin` that splits the `price` variable into a binary variable, where 1 indicates that the diamond costs greater than the mean price, and 0 indicates that the diamond costs less than the mean price. Set `price_bin` to be a factor. (*Hint: use the if_else() function*)\n",
        "* Select just the `carat`, `depth`, `table`, `x`, `y`, and your new `price_bin` variables\n",
        "* Print the first few lines of the data set\n",
        "* Print the dimensions of the data set\n"
      ]
    },
    {
      "cell_type": "code",
      "execution_count": null,
      "metadata": {
        "id": "076b5Q2i_cZC",
        "scrolled": false,
        "vscode": {
          "languageId": "r"
        },
        "colab": {
          "base_uri": "https://localhost:8080/"
        },
        "outputId": "309b862d-0eb4-42af-a8ef-93552b63bfb1"
      },
      "outputs": [
        {
          "output_type": "display_data",
          "data": {
            "text/html": [
              "<table class=\"dataframe\">\n",
              "<caption>A tibble: 6 × 6</caption>\n",
              "<thead>\n",
              "\t<tr><th scope=col>carat</th><th scope=col>depth</th><th scope=col>table</th><th scope=col>x</th><th scope=col>y</th><th scope=col>price_bin</th></tr>\n",
              "\t<tr><th scope=col>&lt;dbl&gt;</th><th scope=col>&lt;dbl&gt;</th><th scope=col>&lt;dbl&gt;</th><th scope=col>&lt;dbl&gt;</th><th scope=col>&lt;dbl&gt;</th><th scope=col>&lt;fct&gt;</th></tr>\n",
              "</thead>\n",
              "<tbody>\n",
              "\t<tr><td>0.23</td><td>61.5</td><td>55</td><td>3.95</td><td>3.98</td><td>0</td></tr>\n",
              "\t<tr><td>0.21</td><td>59.8</td><td>61</td><td>3.89</td><td>3.84</td><td>0</td></tr>\n",
              "\t<tr><td>0.23</td><td>56.9</td><td>65</td><td>4.05</td><td>4.07</td><td>0</td></tr>\n",
              "\t<tr><td>0.29</td><td>62.4</td><td>58</td><td>4.20</td><td>4.23</td><td>0</td></tr>\n",
              "\t<tr><td>0.31</td><td>63.3</td><td>58</td><td>4.34</td><td>4.35</td><td>0</td></tr>\n",
              "\t<tr><td>0.24</td><td>62.8</td><td>57</td><td>3.94</td><td>3.96</td><td>0</td></tr>\n",
              "</tbody>\n",
              "</table>\n"
            ],
            "text/markdown": "\nA tibble: 6 × 6\n\n| carat &lt;dbl&gt; | depth &lt;dbl&gt; | table &lt;dbl&gt; | x &lt;dbl&gt; | y &lt;dbl&gt; | price_bin &lt;fct&gt; |\n|---|---|---|---|---|---|\n| 0.23 | 61.5 | 55 | 3.95 | 3.98 | 0 |\n| 0.21 | 59.8 | 61 | 3.89 | 3.84 | 0 |\n| 0.23 | 56.9 | 65 | 4.05 | 4.07 | 0 |\n| 0.29 | 62.4 | 58 | 4.20 | 4.23 | 0 |\n| 0.31 | 63.3 | 58 | 4.34 | 4.35 | 0 |\n| 0.24 | 62.8 | 57 | 3.94 | 3.96 | 0 |\n\n",
            "text/latex": "A tibble: 6 × 6\n\\begin{tabular}{llllll}\n carat & depth & table & x & y & price\\_bin\\\\\n <dbl> & <dbl> & <dbl> & <dbl> & <dbl> & <fct>\\\\\n\\hline\n\t 0.23 & 61.5 & 55 & 3.95 & 3.98 & 0\\\\\n\t 0.21 & 59.8 & 61 & 3.89 & 3.84 & 0\\\\\n\t 0.23 & 56.9 & 65 & 4.05 & 4.07 & 0\\\\\n\t 0.29 & 62.4 & 58 & 4.20 & 4.23 & 0\\\\\n\t 0.31 & 63.3 & 58 & 4.34 & 4.35 & 0\\\\\n\t 0.24 & 62.8 & 57 & 3.94 & 3.96 & 0\\\\\n\\end{tabular}\n",
            "text/plain": [
              "  carat depth table x    y    price_bin\n",
              "1 0.23  61.5  55    3.95 3.98 0        \n",
              "2 0.21  59.8  61    3.89 3.84 0        \n",
              "3 0.23  56.9  65    4.05 4.07 0        \n",
              "4 0.29  62.4  58    4.20 4.23 0        \n",
              "5 0.31  63.3  58    4.34 4.35 0        \n",
              "6 0.24  62.8  57    3.94 3.96 0        "
            ]
          },
          "metadata": {}
        },
        {
          "output_type": "display_data",
          "data": {
            "text/html": [
              "<style>\n",
              ".list-inline {list-style: none; margin:0; padding: 0}\n",
              ".list-inline>li {display: inline-block}\n",
              ".list-inline>li:not(:last-child)::after {content: \"\\00b7\"; padding: 0 .5ex}\n",
              "</style>\n",
              "<ol class=list-inline><li>53940</li><li>6</li></ol>\n"
            ],
            "text/markdown": "1. 53940\n2. 6\n\n\n",
            "text/latex": "\\begin{enumerate*}\n\\item 53940\n\\item 6\n\\end{enumerate*}\n",
            "text/plain": [
              "[1] 53940     6"
            ]
          },
          "metadata": {}
        }
      ],
      "source": [
        "# INSERT CODE HERE\n",
        "library(class)\n",
        "library(tidyverse)\n",
        "\n",
        "df = diamonds %>%\n",
        "  mutate(price_bin = as.factor(ifelse(price > mean(price), 1, 0))) %>%\n",
        "  select(carat, depth, table, x, y, price_bin)\n",
        "\n",
        "head(df)\n",
        "dim(df)\n"
      ]
    },
    {
      "cell_type": "markdown",
      "metadata": {
        "id": "OE--UOxM_cZD"
      },
      "source": [
        "### Plot\n",
        "Create a scatterplot of the link between `carat` and `depth`, and use the `color` aesthetics mapping to differentiate between diamonds that cost above versus below the mean price."
      ]
    },
    {
      "cell_type": "code",
      "execution_count": null,
      "metadata": {
        "id": "SZQl5C9H_cZD",
        "vscode": {
          "languageId": "r"
        },
        "colab": {
          "base_uri": "https://localhost:8080/"
        },
        "outputId": "492989b8-c9df-45cf-d8b1-e13a4986c3b2"
      },
      "outputs": [
        {
          "output_type": "display_data",
          "data": {
            "text/plain": [
              "plot without title"
            ],
            "image/png": "[encoded data removed]"
          },
          "metadata": {
            "image/png": {
              "width": 420,
              "height": 420
            }
          }
        }
      ],
      "source": [
        "# INSERT CODE HERE\n",
        "df %>%\n",
        "  ggplot(aes(x = carat, y = depth, color = price_bin)) + geom_point()"
      ]
    },
    {
      "cell_type": "markdown",
      "metadata": {
        "id": "j-K6NEON_cZD"
      },
      "source": [
        "Based on the above scatterplot, how do you think kNN will perform using only these two variables to predict diabetes diagnosis? Which variable, carat or depth, gives us the most information about which price class the diamond will belong to?\n",
        "> * *I think it will perform okay, depth doesn't seem particularly informative though since the same depth has quite a range*\n",
        ">\n",
        "> * *Carat will provide the most information about which price class the diamond belongs to.*\n"
      ]
    },
    {
      "cell_type": "markdown",
      "metadata": {
        "id": "wT7O-CHO_cZE"
      },
      "source": [
        "### Test vs Train\n",
        "\n",
        "Before we run KNN on these data, we need to set aside a portion of the observations as our test set. Below, randomly divide the data such that 30% are allotted to the `test` set and the rest are allotted to the `train` set. Print the first few lines of each set, and print the dimensions of each set to double check your division of the data."
      ]
    },
    {
      "cell_type": "code",
      "execution_count": null,
      "metadata": {
        "id": "Oj3YcEP0_cZE",
        "vscode": {
          "languageId": "r"
        },
        "colab": {
          "base_uri": "https://localhost:8080/"
        },
        "outputId": "7f63be05-5792-4136-870b-38d0efec989f"
      },
      "outputs": [
        {
          "output_type": "display_data",
          "data": {
            "text/html": [
              "16182"
            ],
            "text/markdown": "16182",
            "text/latex": "16182",
            "text/plain": [
              "[1] 16182"
            ]
          },
          "metadata": {}
        },
        {
          "output_type": "display_data",
          "data": {
            "text/html": [
              "<table class=\"dataframe\">\n",
              "<caption>A tibble: 6 × 7</caption>\n",
              "<thead>\n",
              "\t<tr><th scope=col>carat</th><th scope=col>depth</th><th scope=col>table</th><th scope=col>x</th><th scope=col>y</th><th scope=col>price_bin</th><th scope=col>is.test</th></tr>\n",
              "\t<tr><th scope=col>&lt;dbl&gt;</th><th scope=col>&lt;dbl&gt;</th><th scope=col>&lt;dbl&gt;</th><th scope=col>&lt;dbl&gt;</th><th scope=col>&lt;dbl&gt;</th><th scope=col>&lt;fct&gt;</th><th scope=col>&lt;lgl&gt;</th></tr>\n",
              "</thead>\n",
              "<tbody>\n",
              "\t<tr><td>0.23</td><td>61.5</td><td>55</td><td>3.95</td><td>3.98</td><td>0</td><td>FALSE</td></tr>\n",
              "\t<tr><td>0.23</td><td>56.9</td><td>65</td><td>4.05</td><td>4.07</td><td>0</td><td>FALSE</td></tr>\n",
              "\t<tr><td>0.29</td><td>62.4</td><td>58</td><td>4.20</td><td>4.23</td><td>0</td><td>FALSE</td></tr>\n",
              "\t<tr><td>0.31</td><td>63.3</td><td>58</td><td>4.34</td><td>4.35</td><td>0</td><td>FALSE</td></tr>\n",
              "\t<tr><td>0.24</td><td>62.8</td><td>57</td><td>3.94</td><td>3.96</td><td>0</td><td>FALSE</td></tr>\n",
              "\t<tr><td>0.24</td><td>62.3</td><td>57</td><td>3.95</td><td>3.98</td><td>0</td><td>FALSE</td></tr>\n",
              "</tbody>\n",
              "</table>\n"
            ],
            "text/markdown": "\nA tibble: 6 × 7\n\n| carat &lt;dbl&gt; | depth &lt;dbl&gt; | table &lt;dbl&gt; | x &lt;dbl&gt; | y &lt;dbl&gt; | price_bin &lt;fct&gt; | is.test &lt;lgl&gt; |\n|---|---|---|---|---|---|---|\n| 0.23 | 61.5 | 55 | 3.95 | 3.98 | 0 | FALSE |\n| 0.23 | 56.9 | 65 | 4.05 | 4.07 | 0 | FALSE |\n| 0.29 | 62.4 | 58 | 4.20 | 4.23 | 0 | FALSE |\n| 0.31 | 63.3 | 58 | 4.34 | 4.35 | 0 | FALSE |\n| 0.24 | 62.8 | 57 | 3.94 | 3.96 | 0 | FALSE |\n| 0.24 | 62.3 | 57 | 3.95 | 3.98 | 0 | FALSE |\n\n",
            "text/latex": "A tibble: 6 × 7\n\\begin{tabular}{lllllll}\n carat & depth & table & x & y & price\\_bin & is.test\\\\\n <dbl> & <dbl> & <dbl> & <dbl> & <dbl> & <fct> & <lgl>\\\\\n\\hline\n\t 0.23 & 61.5 & 55 & 3.95 & 3.98 & 0 & FALSE\\\\\n\t 0.23 & 56.9 & 65 & 4.05 & 4.07 & 0 & FALSE\\\\\n\t 0.29 & 62.4 & 58 & 4.20 & 4.23 & 0 & FALSE\\\\\n\t 0.31 & 63.3 & 58 & 4.34 & 4.35 & 0 & FALSE\\\\\n\t 0.24 & 62.8 & 57 & 3.94 & 3.96 & 0 & FALSE\\\\\n\t 0.24 & 62.3 & 57 & 3.95 & 3.98 & 0 & FALSE\\\\\n\\end{tabular}\n",
            "text/plain": [
              "  carat depth table x    y    price_bin is.test\n",
              "1 0.23  61.5  55    3.95 3.98 0         FALSE  \n",
              "2 0.23  56.9  65    4.05 4.07 0         FALSE  \n",
              "3 0.29  62.4  58    4.20 4.23 0         FALSE  \n",
              "4 0.31  63.3  58    4.34 4.35 0         FALSE  \n",
              "5 0.24  62.8  57    3.94 3.96 0         FALSE  \n",
              "6 0.24  62.3  57    3.95 3.98 0         FALSE  "
            ]
          },
          "metadata": {}
        },
        {
          "output_type": "display_data",
          "data": {
            "text/html": [
              "<style>\n",
              ".list-inline {list-style: none; margin:0; padding: 0}\n",
              ".list-inline>li {display: inline-block}\n",
              ".list-inline>li:not(:last-child)::after {content: \"\\00b7\"; padding: 0 .5ex}\n",
              "</style>\n",
              "<ol class=list-inline><li>37758</li><li>7</li></ol>\n"
            ],
            "text/markdown": "1. 37758\n2. 7\n\n\n",
            "text/latex": "\\begin{enumerate*}\n\\item 37758\n\\item 7\n\\end{enumerate*}\n",
            "text/plain": [
              "[1] 37758     7"
            ]
          },
          "metadata": {}
        },
        {
          "output_type": "display_data",
          "data": {
            "text/html": [
              "<table class=\"dataframe\">\n",
              "<caption>A tibble: 6 × 7</caption>\n",
              "<thead>\n",
              "\t<tr><th scope=col>carat</th><th scope=col>depth</th><th scope=col>table</th><th scope=col>x</th><th scope=col>y</th><th scope=col>price_bin</th><th scope=col>is.test</th></tr>\n",
              "\t<tr><th scope=col>&lt;dbl&gt;</th><th scope=col>&lt;dbl&gt;</th><th scope=col>&lt;dbl&gt;</th><th scope=col>&lt;dbl&gt;</th><th scope=col>&lt;dbl&gt;</th><th scope=col>&lt;fct&gt;</th><th scope=col>&lt;lgl&gt;</th></tr>\n",
              "</thead>\n",
              "<tbody>\n",
              "\t<tr><td>0.21</td><td>59.8</td><td>61</td><td>3.89</td><td>3.84</td><td>0</td><td>TRUE</td></tr>\n",
              "\t<tr><td>0.30</td><td>64.0</td><td>55</td><td>4.25</td><td>4.28</td><td>0</td><td>TRUE</td></tr>\n",
              "\t<tr><td>0.30</td><td>62.0</td><td>54</td><td>4.31</td><td>4.34</td><td>0</td><td>TRUE</td></tr>\n",
              "\t<tr><td>0.30</td><td>63.4</td><td>54</td><td>4.23</td><td>4.29</td><td>0</td><td>TRUE</td></tr>\n",
              "\t<tr><td>0.30</td><td>62.7</td><td>59</td><td>4.21</td><td>4.27</td><td>0</td><td>TRUE</td></tr>\n",
              "\t<tr><td>0.23</td><td>63.8</td><td>55</td><td>3.85</td><td>3.92</td><td>0</td><td>TRUE</td></tr>\n",
              "</tbody>\n",
              "</table>\n"
            ],
            "text/markdown": "\nA tibble: 6 × 7\n\n| carat &lt;dbl&gt; | depth &lt;dbl&gt; | table &lt;dbl&gt; | x &lt;dbl&gt; | y &lt;dbl&gt; | price_bin &lt;fct&gt; | is.test &lt;lgl&gt; |\n|---|---|---|---|---|---|---|\n| 0.21 | 59.8 | 61 | 3.89 | 3.84 | 0 | TRUE |\n| 0.30 | 64.0 | 55 | 4.25 | 4.28 | 0 | TRUE |\n| 0.30 | 62.0 | 54 | 4.31 | 4.34 | 0 | TRUE |\n| 0.30 | 63.4 | 54 | 4.23 | 4.29 | 0 | TRUE |\n| 0.30 | 62.7 | 59 | 4.21 | 4.27 | 0 | TRUE |\n| 0.23 | 63.8 | 55 | 3.85 | 3.92 | 0 | TRUE |\n\n",
            "text/latex": "A tibble: 6 × 7\n\\begin{tabular}{lllllll}\n carat & depth & table & x & y & price\\_bin & is.test\\\\\n <dbl> & <dbl> & <dbl> & <dbl> & <dbl> & <fct> & <lgl>\\\\\n\\hline\n\t 0.21 & 59.8 & 61 & 3.89 & 3.84 & 0 & TRUE\\\\\n\t 0.30 & 64.0 & 55 & 4.25 & 4.28 & 0 & TRUE\\\\\n\t 0.30 & 62.0 & 54 & 4.31 & 4.34 & 0 & TRUE\\\\\n\t 0.30 & 63.4 & 54 & 4.23 & 4.29 & 0 & TRUE\\\\\n\t 0.30 & 62.7 & 59 & 4.21 & 4.27 & 0 & TRUE\\\\\n\t 0.23 & 63.8 & 55 & 3.85 & 3.92 & 0 & TRUE\\\\\n\\end{tabular}\n",
            "text/plain": [
              "  carat depth table x    y    price_bin is.test\n",
              "1 0.21  59.8  61    3.89 3.84 0         TRUE   \n",
              "2 0.30  64.0  55    4.25 4.28 0         TRUE   \n",
              "3 0.30  62.0  54    4.31 4.34 0         TRUE   \n",
              "4 0.30  63.4  54    4.23 4.29 0         TRUE   \n",
              "5 0.30  62.7  59    4.21 4.27 0         TRUE   \n",
              "6 0.23  63.8  55    3.85 3.92 0         TRUE   "
            ]
          },
          "metadata": {}
        },
        {
          "output_type": "display_data",
          "data": {
            "text/html": [
              "<style>\n",
              ".list-inline {list-style: none; margin:0; padding: 0}\n",
              ".list-inline>li {display: inline-block}\n",
              ".list-inline>li:not(:last-child)::after {content: \"\\00b7\"; padding: 0 .5ex}\n",
              "</style>\n",
              "<ol class=list-inline><li>16182</li><li>7</li></ol>\n"
            ],
            "text/markdown": "1. 16182\n2. 7\n\n\n",
            "text/latex": "\\begin{enumerate*}\n\\item 16182\n\\item 7\n\\end{enumerate*}\n",
            "text/plain": [
              "[1] 16182     7"
            ]
          },
          "metadata": {}
        }
      ],
      "source": [
        "set.seed(2023)\n",
        "\n",
        "# INSERT CODE HERE\n",
        "nrow(df)*.3\n",
        "\n",
        "test.inds <- sample(1:nrow(df),16182)\n",
        "\n",
        "df$is.test <- 1:nrow(df) %in% test.inds\n",
        "\n",
        "df_train <- df %>%\n",
        "  filter(is.test == \"FALSE\")\n",
        "\n",
        "df_test <- df %>%\n",
        "  filter(is.test == \"TRUE\")\n",
        "\n",
        "head(df_train)\n",
        "dim(df_train)\n",
        "\n",
        "head(df_test)\n",
        "dim(df_test)"
      ]
    },
    {
      "cell_type": "markdown",
      "metadata": {
        "id": "lFtmRUBN_cZF"
      },
      "source": [
        "## 2: KNN (3 points)\n",
        "----\n",
        "Now, use the `knn()` function from the `class` library to predict `price_bin` from the `carat` and `depth`. Set `k = 3`.\n",
        "\n",
        "*Hint: Review the format required for the arguments of knn()*"
      ]
    },
    {
      "cell_type": "code",
      "execution_count": null,
      "metadata": {
        "id": "9pcL8AM9_cZG",
        "scrolled": true,
        "vscode": {
          "languageId": "r"
        }
      },
      "outputs": [],
      "source": [
        "\n",
        "df_train.pred = df_train %>%\n",
        "  select(carat, depth)\n",
        "\n",
        "df_test.pred = df_test %>%\n",
        "  select(carat, depth)\n",
        "\n",
        "df_train.lab = df_train$price_bin\n",
        "\n",
        "set.seed(2023)\n",
        "\n",
        "knn_df = knn(df_train.pred, df_test.pred, df_train.lab, k = 3)\n",
        "\n"
      ]
    },
    {
      "cell_type": "markdown",
      "metadata": {
        "id": "RXnTKbdi_cZG"
      },
      "source": [
        "Now, output a confusion matrix and calculate the test error to evaluate model performance."
      ]
    },
    {
      "cell_type": "code",
      "execution_count": null,
      "metadata": {
        "id": "qhwTYq9B_cZH",
        "vscode": {
          "languageId": "r"
        },
        "colab": {
          "base_uri": "https://localhost:8080/",
          "height": 121
        },
        "outputId": "c265f0af-3c37-4afb-d845-3bd0176b2987"
      },
      "outputs": [
        {
          "output_type": "display_data",
          "data": {
            "text/plain": [
              "         actual\n",
              "predicted    0    1\n",
              "        0 9697  319\n",
              "        1  549 5617"
            ]
          },
          "metadata": {}
        },
        {
          "output_type": "display_data",
          "data": {
            "text/html": [
              "0.946360153256705"
            ],
            "text/markdown": "0.946360153256705",
            "text/latex": "0.946360153256705",
            "text/plain": [
              "[1] 0.9463602"
            ]
          },
          "metadata": {}
        },
        {
          "output_type": "display_data",
          "data": {
            "text/html": [
              "0.053639846743295"
            ],
            "text/markdown": "0.053639846743295",
            "text/latex": "0.053639846743295",
            "text/plain": [
              "[1] 0.05363985"
            ]
          },
          "metadata": {}
        }
      ],
      "source": [
        "# INSERT CODE HERE\n",
        "\n",
        "confusion_df = data.frame(predicted = knn_df, actual = df_test$price_bin)\n",
        "table(confusion_df)\n",
        "\n",
        "accuracy = mean(confusion_df$predicted == confusion_df$actual)\n",
        "accuracy\n",
        "\n",
        "error = 1 - accuracy\n",
        "error"
      ]
    },
    {
      "cell_type": "markdown",
      "metadata": {
        "id": "mOQSLQ37_cZK"
      },
      "source": [
        "How did your model perform?\n",
        "> * *Quite well, it performed with 95% accuracy and an error of 5%, more often than not when it was 1 it predicted 1 and when it was 0 it predicted 0.*\n",
        ">\n",
        "> *\n"
      ]
    },
    {
      "cell_type": "markdown",
      "metadata": {
        "id": "p0lvEh3F_cZL"
      },
      "source": [
        "Let's try to improve our model by adding all of the other variables in our data set as predictors. Rerun your `knn()` below, keeping `k = 3`. Again, output a confusion matrix and error rate for your updated model fit."
      ]
    },
    {
      "cell_type": "code",
      "source": [
        "df_train = df_train %>%\n",
        "  select(-c(is.test))\n",
        "df_test = df_test %>%\n",
        "  select(-c(is.test))\n"
      ],
      "metadata": {
        "id": "B4sZxzJswmQz"
      },
      "execution_count": null,
      "outputs": []
    },
    {
      "cell_type": "code",
      "execution_count": null,
      "metadata": {
        "id": "KWsncoDP_cZL",
        "vscode": {
          "languageId": "r"
        },
        "colab": {
          "base_uri": "https://localhost:8080/",
          "height": 121
        },
        "outputId": "ca69cc8f-09b8-4552-892f-ada3da6abd8b"
      },
      "outputs": [
        {
          "output_type": "display_data",
          "data": {
            "text/plain": [
              "         actual\n",
              "predicted     0     1\n",
              "        0 10237    10\n",
              "        1     9  5926"
            ]
          },
          "metadata": {}
        },
        {
          "output_type": "display_data",
          "data": {
            "text/html": [
              "0.99882585588926"
            ],
            "text/markdown": "0.99882585588926",
            "text/latex": "0.99882585588926",
            "text/plain": [
              "[1] 0.9988259"
            ]
          },
          "metadata": {}
        },
        {
          "output_type": "display_data",
          "data": {
            "text/html": [
              "0.00117414411074035"
            ],
            "text/markdown": "0.00117414411074035",
            "text/latex": "0.00117414411074035",
            "text/plain": [
              "[1] 0.001174144"
            ]
          },
          "metadata": {}
        }
      ],
      "source": [
        "set.seed(2023)\n",
        "# INSERT CODE HERE\n",
        "\n",
        "knn_df2 = knn(df_train, df_test, df_train.lab, k = 3)\n",
        "\n",
        "confusion_df2 = data.frame(predicted = knn_df2, actual = df_test$price_bin)\n",
        "table(confusion_df2)\n",
        "\n",
        "accuracy2 = mean(confusion_df2$predicted == confusion_df2$actual)\n",
        "accuracy2\n",
        "\n",
        "error2 = 1 - accuracy2\n",
        "error2"
      ]
    },
    {
      "cell_type": "markdown",
      "metadata": {
        "id": "t2Dyykaf_cZM"
      },
      "source": [
        "Did your model predictions improve?\n",
        "> * *Yes, the model went from 95% accuracy to 99% accuracy, error went from 5% to less than 1% error*\n"
      ]
    },
    {
      "cell_type": "markdown",
      "metadata": {
        "id": "WYHprC4m_cZN"
      },
      "source": [
        "# 3: for loop (3 points)\n",
        "----\n",
        "\n",
        "So adding additional predictors didn't shift our error much. Let's see if adjusting `k` has a larger impact on model accuracy.\n",
        "\n",
        "Using your initial model above with just `carat` and `depth`, run a `for loop` that runs the same model 30 times, for `k = 1:30`.\n",
        "\n",
        "Output a data frame that has `k` and the overall `error` as columns.\n",
        "\n",
        "The structure of the output data frame and `for loop` are provided for you below. Note that your loop will take a minute or two to run because there are so many observations in the dataset. It may be helpful while you are writing and testing your loop to run it on a subset of the data with only a handful of rows."
      ]
    },
    {
      "cell_type": "code",
      "execution_count": null,
      "metadata": {
        "id": "D-GAvxGH_cZN",
        "scrolled": false,
        "vscode": {
          "languageId": "r"
        },
        "colab": {
          "base_uri": "https://localhost:8080/",
          "height": 286
        },
        "outputId": "caea6842-fb28-4b1e-acf5-26bad6c6ae5c"
      },
      "outputs": [
        {
          "output_type": "display_data",
          "data": {
            "text/html": [
              "<table class=\"dataframe\">\n",
              "<caption>A data.frame: 6 × 2</caption>\n",
              "<thead>\n",
              "\t<tr><th></th><th scope=col>k</th><th scope=col>error</th></tr>\n",
              "\t<tr><th></th><th scope=col>&lt;int&gt;</th><th scope=col>&lt;lgl&gt;</th></tr>\n",
              "</thead>\n",
              "<tbody>\n",
              "\t<tr><th scope=row>1</th><td>1</td><td>NA</td></tr>\n",
              "\t<tr><th scope=row>2</th><td>2</td><td>NA</td></tr>\n",
              "\t<tr><th scope=row>3</th><td>3</td><td>NA</td></tr>\n",
              "\t<tr><th scope=row>4</th><td>4</td><td>NA</td></tr>\n",
              "\t<tr><th scope=row>5</th><td>5</td><td>NA</td></tr>\n",
              "\t<tr><th scope=row>6</th><td>6</td><td>NA</td></tr>\n",
              "</tbody>\n",
              "</table>\n"
            ],
            "text/markdown": "\nA data.frame: 6 × 2\n\n| <!--/--> | k &lt;int&gt; | error &lt;lgl&gt; |\n|---|---|---|\n| 1 | 1 | NA |\n| 2 | 2 | NA |\n| 3 | 3 | NA |\n| 4 | 4 | NA |\n| 5 | 5 | NA |\n| 6 | 6 | NA |\n\n",
            "text/latex": "A data.frame: 6 × 2\n\\begin{tabular}{r|ll}\n  & k & error\\\\\n  & <int> & <lgl>\\\\\n\\hline\n\t1 & 1 & NA\\\\\n\t2 & 2 & NA\\\\\n\t3 & 3 & NA\\\\\n\t4 & 4 & NA\\\\\n\t5 & 5 & NA\\\\\n\t6 & 6 & NA\\\\\n\\end{tabular}\n",
            "text/plain": [
              "  k error\n",
              "1 1 NA   \n",
              "2 2 NA   \n",
              "3 3 NA   \n",
              "4 4 NA   \n",
              "5 5 NA   \n",
              "6 6 NA   "
            ]
          },
          "metadata": {}
        }
      ],
      "source": [
        "# this is provided\n",
        "# setting up empty table to store for loop output\n",
        "output  <- data.frame(k = seq(1:30),\n",
        "                     error = rep(NA, 30))\n",
        "head(output)"
      ]
    },
    {
      "cell_type": "code",
      "execution_count": null,
      "metadata": {
        "id": "we6mzfCJ_cZN",
        "vscode": {
          "languageId": "r"
        },
        "colab": {
          "base_uri": "https://localhost:8080/",
          "height": 286
        },
        "outputId": "911ad9f0-b453-4faa-abe9-e1dac73279b3"
      },
      "outputs": [
        {
          "output_type": "display_data",
          "data": {
            "text/html": [
              "<table class=\"dataframe\">\n",
              "<caption>A data.frame: 6 × 2</caption>\n",
              "<thead>\n",
              "\t<tr><th></th><th scope=col>k</th><th scope=col>error</th></tr>\n",
              "\t<tr><th></th><th scope=col>&lt;int&gt;</th><th scope=col>&lt;dbl&gt;</th></tr>\n",
              "</thead>\n",
              "<tbody>\n",
              "\t<tr><th scope=row>1</th><td>1</td><td>0.001050550</td></tr>\n",
              "\t<tr><th scope=row>2</th><td>2</td><td>0.001235941</td></tr>\n",
              "\t<tr><th scope=row>3</th><td>3</td><td>0.001174144</td></tr>\n",
              "\t<tr><th scope=row>4</th><td>4</td><td>0.001297738</td></tr>\n",
              "\t<tr><th scope=row>5</th><td>5</td><td>0.001359535</td></tr>\n",
              "\t<tr><th scope=row>6</th><td>6</td><td>0.001235941</td></tr>\n",
              "</tbody>\n",
              "</table>\n"
            ],
            "text/markdown": "\nA data.frame: 6 × 2\n\n| <!--/--> | k &lt;int&gt; | error &lt;dbl&gt; |\n|---|---|---|\n| 1 | 1 | 0.001050550 |\n| 2 | 2 | 0.001235941 |\n| 3 | 3 | 0.001174144 |\n| 4 | 4 | 0.001297738 |\n| 5 | 5 | 0.001359535 |\n| 6 | 6 | 0.001235941 |\n\n",
            "text/latex": "A data.frame: 6 × 2\n\\begin{tabular}{r|ll}\n  & k & error\\\\\n  & <int> & <dbl>\\\\\n\\hline\n\t1 & 1 & 0.001050550\\\\\n\t2 & 2 & 0.001235941\\\\\n\t3 & 3 & 0.001174144\\\\\n\t4 & 4 & 0.001297738\\\\\n\t5 & 5 & 0.001359535\\\\\n\t6 & 6 & 0.001235941\\\\\n\\end{tabular}\n",
            "text/plain": [
              "  k error      \n",
              "1 1 0.001050550\n",
              "2 2 0.001235941\n",
              "3 3 0.001174144\n",
              "4 4 0.001297738\n",
              "5 5 0.001359535\n",
              "6 6 0.001235941"
            ]
          },
          "metadata": {}
        }
      ],
      "source": [
        "for (k in seq(1:30)) {\n",
        "    knn_fits  <- knn(df_train, df_test, df_train.lab, k = k)\n",
        "\n",
        "    # overall error\n",
        "    conf_df  <- data.frame(predicted = knn_fits, actual = df_test$price_bin)\n",
        "    output$error[k]  <- 1 - mean(conf_df$predicted == conf_df$actual)\n",
        "\n",
        "}\n",
        "head(output)"
      ]
    },
    {
      "cell_type": "markdown",
      "metadata": {
        "id": "Ofk0jafy_cZN"
      },
      "source": [
        "Create a line plot of your `output` object using `ggplot`. Add a (non-linear) `geom_smooth` layer."
      ]
    },
    {
      "cell_type": "code",
      "execution_count": null,
      "metadata": {
        "id": "9Oia_P98_cZN",
        "scrolled": false,
        "vscode": {
          "languageId": "r"
        },
        "colab": {
          "base_uri": "https://localhost:8080/",
          "height": 489
        },
        "outputId": "28092f86-68a2-431c-ba53-76365967163a"
      },
      "outputs": [
        {
          "output_type": "stream",
          "name": "stderr",
          "text": [
            "\u001b[1m\u001b[22m`geom_smooth()` using method = 'loess' and formula = 'y ~ x'\n"
          ]
        },
        {
          "output_type": "display_data",
          "data": {
            "text/html": [
              "1"
            ],
            "text/markdown": "1",
            "text/latex": "1",
            "text/plain": [
              "[1] 1"
            ]
          },
          "metadata": {}
        },
        {
          "output_type": "display_data",
          "data": {
            "text/html": [
              "0.00105054999382026"
            ],
            "text/markdown": "0.00105054999382026",
            "text/latex": "0.00105054999382026",
            "text/plain": [
              "[1] 0.00105055"
            ]
          },
          "metadata": {}
        },
        {
          "output_type": "display_data",
          "data": {
            "text/plain": [
              "plot without title"
            ],
            "image/png": "[encoded data removed]"
          },
          "metadata": {
            "image/png": {
              "width": 420,
              "height": 420
            }
          }
        }
      ],
      "source": [
        "# INSERT CODE HERE\n",
        "output %>%\n",
        "  ggplot(aes(x = k, y = error)) + geom_point() + geom_smooth()\n",
        "\n",
        "best_k <- output$k[which.min(output$error)]\n",
        "best_error <- min(output$error)\n",
        "best_k\n",
        "best_error"
      ]
    },
    {
      "cell_type": "markdown",
      "metadata": {
        "id": "EG2gQhU0_cZO"
      },
      "source": [
        "Interpret your plot. What would you select as the best value of `k`? How much does this improve your test error?\n",
        "> * *Well, as k increases, so does the error so I would want the lowest k possible. But if I went with k = 1, I'd risk overfitting so I'm going to go with k = 3. Of the lower k values it's the lowest without going down to k=1 which is the same value we have been using*\n",
        ">\n",
        "> *\n"
      ]
    },
    {
      "cell_type": "markdown",
      "metadata": {
        "id": "R5GYp8mt_cZO"
      },
      "source": [
        "# 4: Standardizing predictors (2)\n",
        "-----\n",
        "\n",
        "Because knn is based on distances between points, it is very sensitive to the scale of your variables. Looking at our predictor variables, we can see that `carat` and `depth` are orders of magnitude different in terms of scales. Maybe we can improve our fit even more by addressing this!\n",
        "\n",
        "Below, use the `scale()` function to standardize your predictors. (Note that you don't need to standardize `price_bin`.)\n",
        "\n",
        "Then, run your model a final time with your standardized predictors (just `carat` and `depth` still). Set `k` to the optimal value you determined in your plot above. Output the confusion matrix and error rate again."
      ]
    },
    {
      "cell_type": "code",
      "execution_count": null,
      "metadata": {
        "id": "DVAfP_iB_cZO",
        "vscode": {
          "languageId": "r"
        },
        "colab": {
          "base_uri": "https://localhost:8080/",
          "height": 121
        },
        "outputId": "642b812f-faa3-4eab-f03d-c106103d64a1"
      },
      "outputs": [
        {
          "output_type": "display_data",
          "data": {
            "text/plain": [
              "         actual\n",
              "predicted    0    1\n",
              "        0 9719  323\n",
              "        1  527 5613"
            ]
          },
          "metadata": {}
        },
        {
          "output_type": "display_data",
          "data": {
            "text/html": [
              "0.947472500308985"
            ],
            "text/markdown": "0.947472500308985",
            "text/latex": "0.947472500308985",
            "text/plain": [
              "[1] 0.9474725"
            ]
          },
          "metadata": {}
        },
        {
          "output_type": "display_data",
          "data": {
            "text/html": [
              "0.0525274996910147"
            ],
            "text/markdown": "0.0525274996910147",
            "text/latex": "0.0525274996910147",
            "text/plain": [
              "[1] 0.0525275"
            ]
          },
          "metadata": {}
        }
      ],
      "source": [
        "df_train.pred2 = df_train.pred %>%\n",
        "  mutate(carat = scale(carat), depth = scale(depth))\n",
        "df_test.pred2 = df_test.pred %>%\n",
        "  mutate(carat = scale(carat), depth = scale(depth))\n",
        "set.seed(2023)\n",
        "\n",
        "knn_df3 = knn(df_train.pred2, df_test.pred2, df_train.lab, k = 3)\n",
        "\n",
        "confusion_df3 = data.frame(predicted = knn_df3, actual = df_test$price_bin)\n",
        "table(confusion_df3)\n",
        "\n",
        "accuracy3 = mean(confusion_df3$predicted == confusion_df3$actual)\n",
        "accuracy3\n",
        "\n",
        "error3 = 1 - accuracy3\n",
        "error3"
      ]
    },
    {
      "cell_type": "markdown",
      "metadata": {
        "id": "yl3pqjEA_cZO"
      },
      "source": [
        "What impact did rescaling the data have on your error rate?\n",
        "> * *While they aren't notably different from each other, the rescaled error is slightly smaller than the initial error rate*\n"
      ]
    },
    {
      "cell_type": "markdown",
      "metadata": {
        "id": "XSFcQXke_cZO"
      },
      "source": [
        "**DUE:** 11:59 pm March 19, 2025\n",
        "\n",
        "**IMPORTANT** Did you collaborate with anyone on this assignment? If so, list their names here.\n",
        "> *Someone's Name*\n",
        ">\n",
        ">\n"
      ]
    }
  ],
  "metadata": {
    "colab": {
      "provenance": [],
      "collapsed_sections": [
        "is-1Gkl6_cZC",
        "lFtmRUBN_cZF",
        "WYHprC4m_cZN",
        "R5GYp8mt_cZO"
      ],
      "toc_visible": true
    },
    "kernelspec": {
      "display_name": "R",
      "name": "ir"
    },
    "language_info": {
      "codemirror_mode": "r",
      "file_extension": ".r",
      "mimetype": "text/x-r-source",
      "name": "R",
      "pygments_lexer": "r",
      "version": "4.2.0"
    }
  },
  "nbformat": 4,
  "nbformat_minor": 0
}