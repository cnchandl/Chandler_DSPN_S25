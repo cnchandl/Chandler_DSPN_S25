{
  "cells": [
    {
      "cell_type": "markdown",
      "metadata": {
        "id": "szkkhiCZDF52"
      },
      "source": [
        "# Exercise 8:  Linear models, continued\n",
        "\n",
        "This homework assignment is designed to give you a deeper understanding of linear models. First, we'll dive into the math behind the closed-form solution of maximum likelihood estimation. **In the first section below, write your answers using Latex equation formatting.**\n",
        "\n",
        "*Note: Check out [this page](https://gtribello.github.io/mathNET/assets/notebook-writing.html) and [this page](https://towardsdatascience.com/write-markdown-latex-in-the-jupyter-notebook-10985edb91fd) for resources on how to do Latex formatting. You can also double click on the question cells in this notebook to see how math is formatted in the questions.*\n"
      ]
    },
    {
      "cell_type": "markdown",
      "metadata": {
        "id": "QJscNReoylRt"
      },
      "source": [
        "---\n",
        "## 1. Deriving the Maximum Likelihood Estimate for Simple Linear Regression (6 points)"
      ]
    },
    {
      "cell_type": "markdown",
      "metadata": {
        "id": "nH82gwuymPi0"
      },
      "source": [
        "Using the mean squared error (MSE) as your objective function (the thing you're trying to minimize when you fit your model) allows for a closed form solution to finding the maximum likelihood estimate (MLE) of your model parameters in linear regression. Let’s consider the simple, single predictor variable model, i.e. simple linear regression :  $Y= \\beta_0 + \\beta_1 X $.\n",
        "\n",
        "a) Use algebra to show how you can expand out $MSE(\\beta_0, \\beta_1)$ to get from i to ii below.\n",
        "\n",
        "> _i)_ $E[ (Y-(\\beta_0 + \\beta_1 X))^2]$\n",
        "\n",
        "> _ii)_ $E[Y^2] -2 \\beta_0E[Y]-2 \\beta_1 Cov[X,Y]-2 \\beta_1 E[X]E[Y]+ \\beta_0^2 +2 \\beta_0 \\beta_1 E[X]+\\beta_1^2 Var[X]+ \\beta_1^2 (E[X])^2$\n",
        "\n",
        "\n",
        "\n",
        "\n"
      ]
    },
    {
      "cell_type": "markdown",
      "metadata": {
        "id": "dn2hveNho-Of"
      },
      "source": [
        "**Answer:**\n",
        "\n",
        "> *E[(Y−(β0+β1X))^2]*\n",
        "\n",
        "> *Y^2 − 2Y(β0+β1X)- (β0+β1X)^2 ]*\n",
        "\n",
        "> *Y^2 − 2β0Y + 2β1XY + β0^2 + 2β0β1X + β1^2X^2*\n",
        "\n",
        "> *E[Y^2] − 2β0E[Y] + 2β1E[XY] + β0^2 + 2β0β1E[X] + β1^2E[X^2]*\n",
        "\n",
        "> *E[Y^2] − 2β0E[Y] + 2β1(Cov[X,Y] + E[X]E[Y]) + β0^2 + 2β0β1E[X] + β1^2(Var(X) + (E[X])^2)*\n",
        "\n",
        "> *E[Y^2] − 2β0E[Y] + 2β1Cov[X,Y] - 2β1E[X]E[Y] + β0^2 + 2β0β1E[X] + β1^2Var[X] + β1^2(E[X])^2*\n",
        ""
      ]
    },
    {
      "cell_type": "markdown",
      "metadata": {
        "id": "GCr46r9xwRXP"
      },
      "source": [
        "b) Prove that the MLE of $\\beta_0$ is $E[Y]- \\beta_1 E[X]$ by taking the derivative of _ii_ above, with respect to $\\beta_0$, setting the derivative to zero, and solving for $\\beta_0$."
      ]
    },
    {
      "cell_type": "markdown",
      "metadata": {
        "id": "Ul-PZyLbwTCQ"
      },
      "source": [
        "**Answer:**\n",
        "\n",
        "> *E[Y^2] − 2β0E[Y] + 2β1Cov[X,Y] - 2β1E[X]E[Y] + β0^2 + 2β0β1E[X] + β1^2Var[X] + β1^2(E[X])^2*\n",
        "\n",
        "> *0 = −2E[Y] + 2β0 + 2β1E[X]*\n",
        "\n",
        "> *-2β0 = −2E[Y] + 2β1E[X]*\n",
        "\n",
        "> β0 = E[Y] - β1E[X]*"
      ]
    },
    {
      "cell_type": "markdown",
      "metadata": {
        "id": "-uv4Z7afw4gB"
      },
      "source": [
        "c) Prove that the MLE for $\\beta_1$ is $Cov[X,Y]/Var[X]$ by taking the derivative of equation _ii_ above, with respect to $\\beta_1$, setting the derivative to zero, and solving for $\\beta_1$. *Hint: after you've simplified / expanded a bit, plug in the solution for $\\beta_0$ from part b.*"
      ]
    },
    {
      "cell_type": "markdown",
      "metadata": {
        "id": "sWTFZ6ZSw6sh"
      },
      "source": [
        "**Answer:**\n",
        "\n",
        "> *E[Y^2] − 2β0E[Y] + 2β1Cov[X,Y] - 2β1E[X]E[Y] + β0^2 + 2β0β1E[X] + β1^2Var[X] + β1^2(E[X])^2*\n",
        "\n",
        "> *0 = 2Cov[X,Y] - 2E[X]E[Y] + 2β0E[X] + 2β1Var[X] + 2β1(E[X])^2*\n",
        "\n",
        "> *0 = 2Cov[X,Y] - 2E[X]E[Y] + 2(E[Y] - β1E[X])E[X] + 2β1Var[X] + 2β1(E[X])^2*\n",
        "\n",
        "> *0 = 2Cov[X,Y] - 2E[X]E[Y] + 2E[Y]E[X] - 2β1E[X]^2 + 2β1Var[X] + 2β1(E[X])^2*\n",
        "\n",
        "> *0 = -2Cov[X,Y] + 2β1Var[X]*\n",
        "\n",
        "> *-2β1Var[X] = 2Cov[X,Y]*\n",
        "\n",
        "> *β1Var[X] = Cov[X,Y]*\n",
        "\n",
        "> *β1 = Cov[X,Y]/Var[X]*"
      ]
    },
    {
      "cell_type": "markdown",
      "metadata": {
        "id": "66X264ZpDF58"
      },
      "source": [
        "---\n",
        "## 2. Connecting to data (4 points)\n",
        "\n",
        "Now let's connect this to some real data. Once again we'll be using the  **unrestricted_trimmed_1_7_2020_10_50_44.csv** file from the *Homework/hcp_data* folder in the class GitHub repository.\n",
        "\n",
        "​\n",
        "This data is a portion of the [Human Connectome Project database](http://www.humanconnectomeproject.org/). It provides measures of cognitive tasks and brain morphology measurements from 1206 participants. The full description of each variable is provided in the **HCP_S1200_DataDictionary_April_20_2018.csv** file in the *Homework/hcp_data* folder in the class GitHub repository.\n",
        "\n",
        "a) Use the `setwd` and `read.csv` functions to load data from the **unrestricted_trimmed_1_7_2020_10_50_44.csv** file. Then use the `tidyverse` tools make a new dataframe `d1` that only inclues the subject ID (`Subject`), Flanker Task performance (`Flanker_Unadj`), and total grey matter volume (`FS_Total_GM_Vol`) variables and remove all _NA_ values.\n",
        "\n",
        "Use the `head` function to look at the first few rows of each data frame."
      ]
    },
    {
      "cell_type": "code",
      "execution_count": 4,
      "metadata": {
        "id": "PZ0lngBjDF58",
        "vscode": {
          "languageId": "r"
        },
        "colab": {
          "base_uri": "https://localhost:8080/",
          "height": 286
        },
        "outputId": "3322d5fa-cfb1-4c13-8f8e-e6d0bedda748"
      },
      "outputs": [
        {
          "output_type": "display_data",
          "data": {
            "text/html": [
              "<table class=\"dataframe\">\n",
              "<caption>A data.frame: 6 × 3</caption>\n",
              "<thead>\n",
              "\t<tr><th></th><th scope=col>Subject</th><th scope=col>Flanker_Unadj</th><th scope=col>FS_Total_GM_Vol</th></tr>\n",
              "\t<tr><th></th><th scope=col>&lt;int&gt;</th><th scope=col>&lt;dbl&gt;</th><th scope=col>&lt;int&gt;</th></tr>\n",
              "</thead>\n",
              "<tbody>\n",
              "\t<tr><th scope=row>1</th><td>100206</td><td>130.42</td><td>807245</td></tr>\n",
              "\t<tr><th scope=row>2</th><td>100307</td><td>112.56</td><td>664124</td></tr>\n",
              "\t<tr><th scope=row>3</th><td>100408</td><td>121.18</td><td>726206</td></tr>\n",
              "\t<tr><th scope=row>4</th><td>100610</td><td>126.53</td><td>762308</td></tr>\n",
              "\t<tr><th scope=row>5</th><td>101006</td><td>101.85</td><td>579632</td></tr>\n",
              "\t<tr><th scope=row>6</th><td>101107</td><td>107.04</td><td>665024</td></tr>\n",
              "</tbody>\n",
              "</table>\n"
            ],
            "text/markdown": "\nA data.frame: 6 × 3\n\n| <!--/--> | Subject &lt;int&gt; | Flanker_Unadj &lt;dbl&gt; | FS_Total_GM_Vol &lt;int&gt; |\n|---|---|---|---|\n| 1 | 100206 | 130.42 | 807245 |\n| 2 | 100307 | 112.56 | 664124 |\n| 3 | 100408 | 121.18 | 726206 |\n| 4 | 100610 | 126.53 | 762308 |\n| 5 | 101006 | 101.85 | 579632 |\n| 6 | 101107 | 107.04 | 665024 |\n\n",
            "text/latex": "A data.frame: 6 × 3\n\\begin{tabular}{r|lll}\n  & Subject & Flanker\\_Unadj & FS\\_Total\\_GM\\_Vol\\\\\n  & <int> & <dbl> & <int>\\\\\n\\hline\n\t1 & 100206 & 130.42 & 807245\\\\\n\t2 & 100307 & 112.56 & 664124\\\\\n\t3 & 100408 & 121.18 & 726206\\\\\n\t4 & 100610 & 126.53 & 762308\\\\\n\t5 & 101006 & 101.85 & 579632\\\\\n\t6 & 101107 & 107.04 & 665024\\\\\n\\end{tabular}\n",
            "text/plain": [
              "  Subject Flanker_Unadj FS_Total_GM_Vol\n",
              "1 100206  130.42        807245         \n",
              "2 100307  112.56        664124         \n",
              "3 100408  121.18        726206         \n",
              "4 100610  126.53        762308         \n",
              "5 101006  101.85        579632         \n",
              "6 101107  107.04        665024         "
            ]
          },
          "metadata": {}
        }
      ],
      "source": [
        "# WRITE YOUR CODE HERE\n",
        "library(tidyverse)\n",
        "system(\"gdown --id 1--CtBunzxQbZO_4WA3WGTXslFBS61HOq\")\n",
        "df = read.csv(\"unrestricted_trimmed_1_7_2020_10_50_44.csv\")\n",
        "d1 = df %>%\n",
        "      select(Subject, Flanker_Unadj, FS_Total_GM_Vol) %>%\n",
        "      drop_na()\n",
        "head(d1)\n",
        "\n"
      ]
    },
    {
      "cell_type": "markdown",
      "metadata": {
        "id": "J3owDQ0U2Ewn"
      },
      "source": [
        "b) Now we're going to see if the solutions we proved above actually line up with the model fit that R gives us (it should...). Calculate what the $\\beta_0$ and $\\beta_1$ coefficients should be for a simple linear regression model using `Flanker_Unadj` as $Y$ and `FS_Total_GM_Vol` as $X$. Use the formulas we derived above ($\\beta_1 = Cov[XY]/Var[X]$ , $\\beta_0 = E[Y] - \\beta_1E[X]$). Then use `lm()` to compare the coefficients you calculated with the ones R gives you."
      ]
    },
    {
      "cell_type": "code",
      "execution_count": 9,
      "metadata": {
        "id": "mWvD8shRDF5_",
        "vscode": {
          "languageId": "r"
        },
        "colab": {
          "base_uri": "https://localhost:8080/",
          "height": 494
        },
        "outputId": "ed928002-35ae-4639-dc42-9b06a5d23d82"
      },
      "outputs": [
        {
          "output_type": "display_data",
          "data": {
            "text/html": [
              "<table class=\"dataframe\">\n",
              "<caption>A data.frame: 1 × 6</caption>\n",
              "<thead>\n",
              "\t<tr><th scope=col>avg.vol</th><th scope=col>cov.vol.flank</th><th scope=col>avg.flank</th><th scope=col>var.flank</th><th scope=col>b1</th><th scope=col>b0</th></tr>\n",
              "\t<tr><th scope=col>&lt;dbl&gt;</th><th scope=col>&lt;dbl&gt;</th><th scope=col>&lt;dbl&gt;</th><th scope=col>&lt;dbl&gt;</th><th scope=col>&lt;dbl&gt;</th><th scope=col>&lt;dbl&gt;</th></tr>\n",
              "</thead>\n",
              "<tbody>\n",
              "\t<tr><td>685983.9</td><td>139755.7</td><td>111.5903</td><td>101.5511</td><td>1376.21</td><td>532412.1</td></tr>\n",
              "</tbody>\n",
              "</table>\n"
            ],
            "text/markdown": "\nA data.frame: 1 × 6\n\n| avg.vol &lt;dbl&gt; | cov.vol.flank &lt;dbl&gt; | avg.flank &lt;dbl&gt; | var.flank &lt;dbl&gt; | b1 &lt;dbl&gt; | b0 &lt;dbl&gt; |\n|---|---|---|---|---|---|\n| 685983.9 | 139755.7 | 111.5903 | 101.5511 | 1376.21 | 532412.1 |\n\n",
            "text/latex": "A data.frame: 1 × 6\n\\begin{tabular}{llllll}\n avg.vol & cov.vol.flank & avg.flank & var.flank & b1 & b0\\\\\n <dbl> & <dbl> & <dbl> & <dbl> & <dbl> & <dbl>\\\\\n\\hline\n\t 685983.9 & 139755.7 & 111.5903 & 101.5511 & 1376.21 & 532412.1\\\\\n\\end{tabular}\n",
            "text/plain": [
              "  avg.vol  cov.vol.flank avg.flank var.flank b1      b0      \n",
              "1 685983.9 139755.7      111.5903  101.5511  1376.21 532412.1"
            ]
          },
          "metadata": {}
        },
        {
          "output_type": "display_data",
          "data": {
            "text/plain": [
              "\n",
              "Call:\n",
              "lm(formula = Flanker_Unadj ~ FS_Total_GM_Vol, data = d1)\n",
              "\n",
              "Residuals:\n",
              "     Min       1Q   Median       3Q      Max \n",
              "-28.2280  -6.5969  -0.0119   6.5497  31.0108 \n",
              "\n",
              "Coefficients:\n",
              "                 Estimate Std. Error t value Pr(>|t|)    \n",
              "(Intercept)     9.026e+01  3.041e+00  29.677  < 2e-16 ***\n",
              "FS_Total_GM_Vol 3.110e-05  4.412e-06   7.048 3.18e-12 ***\n",
              "---\n",
              "Signif. codes:  0 ‘***’ 0.001 ‘**’ 0.01 ‘*’ 0.05 ‘.’ 0.1 ‘ ’ 1\n",
              "\n",
              "Residual standard error: 9.864 on 1111 degrees of freedom\n",
              "Multiple R-squared:  0.0428,\tAdjusted R-squared:  0.04194 \n",
              "F-statistic: 49.68 on 1 and 1111 DF,  p-value: 3.177e-12\n"
            ]
          },
          "metadata": {}
        },
        {
          "output_type": "stream",
          "name": "stdout",
          "text": [
            "R lm() Coefficients:\n",
            "Beta_1: 3.109965e-05 \n",
            "Beta_0: 90.25646 \n"
          ]
        }
      ],
      "source": [
        "\n",
        "# coefficients manually\n",
        "d1 %>%\n",
        "  summarize(avg.vol = mean(FS_Total_GM_Vol),\n",
        "            cov.vol.flank = cov(FS_Total_GM_Vol, Flanker_Unadj),\n",
        "            avg.flank = mean(Flanker_Unadj),\n",
        "            var.flank = var(Flanker_Unadj),\n",
        "            b1 = cov.vol.flank/var.flank,\n",
        "            b0 = avg.vol - (b1 * avg.flank))\n",
        "# R values\n",
        "model <- lm(Flanker_Unadj ~ FS_Total_GM_Vol, data = d1)\n",
        "summary(model)\n",
        "\n",
        "# compare (manual vs R)\n",
        "  # b0: 532412.1 vs 90.3\n",
        "  # b1: 1376.2 vs 3.110e-05"
      ]
    },
    {
      "cell_type": "markdown",
      "metadata": {
        "id": "xcnXbsZvDF6B"
      },
      "source": [
        "**DUE:** 5pm EST, Feb 26, 2025"
      ]
    },
    {
      "cell_type": "markdown",
      "metadata": {
        "id": "aG5swCweDF6B"
      },
      "source": [
        "**IMPORTANT** Did you collaborate with anyone on this assignment? If so, list their names here.\n",
        "> *Someone's Name*"
      ]
    }
  ],
  "metadata": {
    "colab": {
      "provenance": [],
      "collapsed_sections": [
        "QJscNReoylRt"
      ]
    },
    "kernelspec": {
      "display_name": "R",
      "name": "ir"
    },
    "language_info": {
      "name": "R"
    }
  },
  "nbformat": 4,
  "nbformat_minor": 0
}