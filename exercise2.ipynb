{
  "cells": [
    {
      "cell_type": "markdown",
      "metadata": {
        "id": "I_x4Dd0v_5Gc"
      },
      "source": [
        "# Exercise 2: Coding Habits & Functions"
      ]
    },
    {
      "cell_type": "markdown",
      "source": [
        "1. Summary statistics 4/4\n",
        "2. T-test function 4/4\n",
        "3. Setting default values 2/2"
      ],
      "metadata": {
        "id": "rvIYT1s-gRzG"
      }
    },
    {
      "cell_type": "markdown",
      "metadata": {
        "id": "ExJA6ZPF_5Gf"
      },
      "source": [
        "This assignment will give you some practice writing your own functions and using the coding best practices discussed in the tutorial.\n",
        "\n",
        "---"
      ]
    },
    {
      "cell_type": "markdown",
      "metadata": {
        "id": "a40d08w0_5Gg"
      },
      "source": [
        "## 1. Summary statistics (4 pts)\n",
        "\n",
        "Write a function that takes a vector of numbers `x` and returns the length, mean, and standard deviation of `x` as a new vector.\n",
        "\n",
        "In keeping with our best practices, give the function a short but descriptive name, and use snake case if it involves multiple words.\n",
        "\n",
        "Hint: Vectors are defined in R using the `c()` command."
      ]
    },
    {
      "cell_type": "code",
      "execution_count": 1,
      "metadata": {
        "vscode": {
          "languageId": "r"
        },
        "id": "W8_ZsZVb_5Gg"
      },
      "outputs": [],
      "source": [
        "\n",
        "sum_stats <- function(x){\n",
        "  avg <- mean(x)\n",
        "  n_obs <- length(x)\n",
        "  s_d <- sd(x)\n",
        "  return(c(avg, n_obs, s_d))\n",
        "}\n"
      ]
    },
    {
      "cell_type": "markdown",
      "metadata": {
        "id": "RxaTe_5u_5Gh"
      },
      "source": [
        "Calculate the summary statistics of vector `v1`.\n",
        "\n",
        "*Hint*: Note the \"NA\" in the vector. This is short for \"not available\" and is a placeholder for missing values. You'll want to look up the _is.na_ function (and the not operator _!_), as well as options for removing NA's in the functions that you will use to summarize the vector. Look at the documentation for the functions that you will use to see how to work with NA's."
      ]
    },
    {
      "cell_type": "code",
      "execution_count": 4,
      "metadata": {
        "vscode": {
          "languageId": "r"
        },
        "id": "BTphPqSf_5Gi",
        "colab": {
          "base_uri": "https://localhost:8080/",
          "height": 34
        },
        "outputId": "05461b39-acc1-4c56-f52d-1e1c5b1edb79"
      },
      "outputs": [
        {
          "output_type": "display_data",
          "data": {
            "text/html": [
              "<style>\n",
              ".list-inline {list-style: none; margin:0; padding: 0}\n",
              ".list-inline>li {display: inline-block}\n",
              ".list-inline>li:not(:last-child)::after {content: \"\\00b7\"; padding: 0 .5ex}\n",
              "</style>\n",
              "<ol class=list-inline><li>7.75</li><li>4</li><li>2.75378527364305</li></ol>\n"
            ],
            "text/markdown": "1. 7.75\n2. 4\n3. 2.75378527364305\n\n\n",
            "text/latex": "\\begin{enumerate*}\n\\item 7.75\n\\item 4\n\\item 2.75378527364305\n\\end{enumerate*}\n",
            "text/plain": [
              "[1] 7.750000 4.000000 2.753785"
            ]
          },
          "metadata": {}
        }
      ],
      "source": [
        "v1  <- c(5, 11, 6, NA, 9)\n",
        "\n",
        "sum_stats(v1[!is.na(v1)])"
      ]
    },
    {
      "cell_type": "markdown",
      "metadata": {
        "id": "ovj3jaF-_5Gi"
      },
      "source": [
        "---\n",
        "## 2. T-test function (4 pts)\n",
        "\n",
        "The formula for a t-test is:"
      ]
    },
    {
      "cell_type": "markdown",
      "metadata": {
        "id": "o7-FwLHF_5Gj"
      },
      "source": [
        "$$ \\frac{m- \\mu}{ \\frac{s}{\\sqrt{n}}} $$"
      ]
    },
    {
      "cell_type": "markdown",
      "metadata": {
        "id": "t_fT8h0-_5Gj"
      },
      "source": [
        "Where m is the sample mean, $\\mu$ (mu) is the population mean, s is the standard deviation, and n is the sample size.\n",
        "\n",
        "Using your function above as a starting point, write a new function `ttest_fun` that compares a vector `x` to a given population mean `mu` and calculates the t-statistic. Keep the coding best practices in mind.\n",
        "\n",
        "Hint: You will need to add another argument for mu."
      ]
    },
    {
      "cell_type": "code",
      "execution_count": 5,
      "metadata": {
        "vscode": {
          "languageId": "r"
        },
        "id": "w0XwuaYl_5Gj"
      },
      "outputs": [],
      "source": [
        "\n",
        "ttest_fun <- function(x, mu) {\n",
        "  # remove NAs\n",
        "  x2 <- x[!is.na(x)]\n",
        "\n",
        "  # necessary stats for sample\n",
        "  avg <- mean(x2)\n",
        "  n_obs <- length(x2)\n",
        "  s_d <- sd(x2)\n",
        "\n",
        "  # compare sample vs population\n",
        "  ttest <- (avg - mu)/(s_d/sqrt(n_obs))\n",
        "\n",
        "  # return t-statistic\n",
        "  return(ttest)\n",
        "}\n"
      ]
    },
    {
      "cell_type": "markdown",
      "metadata": {
        "id": "zbfERnnI_5Gj"
      },
      "source": [
        "Use your function to compare the mean of v1 to 10."
      ]
    },
    {
      "cell_type": "code",
      "execution_count": 6,
      "metadata": {
        "vscode": {
          "languageId": "r"
        },
        "id": "0Ff3ep5V_5Gj",
        "colab": {
          "base_uri": "https://localhost:8080/",
          "height": 34
        },
        "outputId": "2a8140f0-b826-48e6-c971-862bdc3e1834"
      },
      "outputs": [
        {
          "output_type": "display_data",
          "data": {
            "text/html": [
              "-1.63411433820577"
            ],
            "text/markdown": "-1.63411433820577",
            "text/latex": "-1.63411433820577",
            "text/plain": [
              "[1] -1.634114"
            ]
          },
          "metadata": {}
        }
      ],
      "source": [
        "ttest_fun(v1, 10)"
      ]
    },
    {
      "cell_type": "markdown",
      "metadata": {
        "id": "wd0Jgyku_5Gj"
      },
      "source": [
        "---\n",
        "## 3. Setting default values (2 pts)\n",
        "\n",
        "Set the default value of mu to 0. Test your modified function below by supplying only `v2` as an argument."
      ]
    },
    {
      "cell_type": "code",
      "execution_count": 7,
      "metadata": {
        "vscode": {
          "languageId": "r"
        },
        "id": "mDS7X9BE_5Gk"
      },
      "outputs": [],
      "source": [
        "\n",
        "ttest_fun <- function(x, mu = 0) {\n",
        "  # remove NAs\n",
        "  x2 <- x[!is.na(x)]\n",
        "\n",
        "  # necessary stats for sample\n",
        "  avg <- mean(x2)\n",
        "  n_obs <- length(x2)\n",
        "  s_d <- sd(x2)\n",
        "\n",
        "  # compare sample vs population\n",
        "  ttest <- (avg - mu)/(s_d/sqrt(n_obs))\n",
        "\n",
        "  # return t-statistic\n",
        "  return(ttest)\n",
        "}"
      ]
    },
    {
      "cell_type": "code",
      "execution_count": 8,
      "metadata": {
        "vscode": {
          "languageId": "r"
        },
        "id": "TPxAxU4z_5Gk",
        "colab": {
          "base_uri": "https://localhost:8080/",
          "height": 34
        },
        "outputId": "3db62462-7203-4187-a0ab-0a3978f47c2f"
      },
      "outputs": [
        {
          "output_type": "display_data",
          "data": {
            "text/html": [
              "3.20594367796912"
            ],
            "text/markdown": "3.20594367796912",
            "text/latex": "3.20594367796912",
            "text/plain": [
              "[1] 3.205944"
            ]
          },
          "metadata": {}
        }
      ],
      "source": [
        "v2 <- c(3, 7, 1, NA, 8, 12)\n",
        "ttest_fun(v2)"
      ]
    },
    {
      "cell_type": "markdown",
      "metadata": {
        "id": "aM-631wc_5Gk"
      },
      "source": [
        "How does your result compare to R's built-in `t.test()` function?\n",
        "*My function provided a similar t value to that of R's t.test function*"
      ]
    },
    {
      "cell_type": "code",
      "execution_count": 9,
      "metadata": {
        "scrolled": true,
        "vscode": {
          "languageId": "r"
        },
        "id": "WbNLCEsD_5Gk",
        "colab": {
          "base_uri": "https://localhost:8080/",
          "height": 213
        },
        "outputId": "030c5530-4087-4326-ff4f-349a77d9cd14"
      },
      "outputs": [
        {
          "output_type": "display_data",
          "data": {
            "text/plain": [
              "\n",
              "\tOne Sample t-test\n",
              "\n",
              "data:  v2\n",
              "t = 3.2059, df = 4, p-value = 0.03272\n",
              "alternative hypothesis: true mean is not equal to 0\n",
              "95 percent confidence interval:\n",
              "  0.8306107 11.5693893\n",
              "sample estimates:\n",
              "mean of x \n",
              "      6.2 \n"
            ]
          },
          "metadata": {}
        }
      ],
      "source": [
        "t.test(v2)"
      ]
    },
    {
      "cell_type": "markdown",
      "metadata": {
        "id": "2slWzsoYGuLt"
      },
      "source": [
        "When you are finished, save the notebook as Exercise2.ipynb, push it to your class GitHub repository (the one you made for Exercise 1) and send the instructors a link to your notebook via Canvas. You can send messages via Canvas by clicking \"Inbox\" on the left and then pressing the icon with a pencil inside a square."
      ]
    },
    {
      "cell_type": "markdown",
      "metadata": {
        "id": "C4MPECMmZXqe"
      },
      "source": [
        "**DUE:** 5pm EST, Feb 3, 2025"
      ]
    },
    {
      "cell_type": "markdown",
      "metadata": {
        "id": "r9GUofXN4BVy"
      },
      "source": [
        "**IMPORTANT** Did you collaborate with anyone on this assignment? If so, list their names here.\n",
        "> *Someone's Name*"
      ]
    }
  ],
  "metadata": {
    "kernelspec": {
      "display_name": "R",
      "language": "R",
      "name": "ir"
    },
    "language_info": {
      "codemirror_mode": "r",
      "file_extension": ".r",
      "mimetype": "text/x-r-source",
      "name": "R",
      "pygments_lexer": "r",
      "version": "4.4.1"
    },
    "colab": {
      "provenance": [],
      "collapsed_sections": [
        "a40d08w0_5Gg"
      ]
    }
  },
  "nbformat": 4,
  "nbformat_minor": 0
}