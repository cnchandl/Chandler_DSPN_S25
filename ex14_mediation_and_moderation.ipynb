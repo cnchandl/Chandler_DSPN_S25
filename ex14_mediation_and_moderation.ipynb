{
  "cells": [
    {
      "cell_type": "markdown",
      "metadata": {
        "id": "ygRY99eiTXIU"
      },
      "source": [
        "<a href=\"https://colab.research.google.com/github/CoAxLab/Data-Explorations/blob/main/book/exercises/mediation-and-moderation.ipynb\" target=\"_parent\"><img src=\"https://colab.research.google.com/assets/colab-badge.svg\" alt=\"Open In Colab\"/></a>"
      ]
    },
    {
      "cell_type": "markdown",
      "metadata": {
        "id": "-2W919d2ZXp7"
      },
      "source": [
        "# Exercise 14: Mediation"
      ]
    },
    {
      "cell_type": "markdown",
      "metadata": {
        "id": "L4nOzVhyZXqK"
      },
      "source": [
        "This homework assignment is designed to give you practice with mediation. You won't need to load in any data for this homework -- we'll simulate data instead."
      ]
    },
    {
      "cell_type": "markdown",
      "source": [
        "1. Simulating data 3/3\n",
        "2. Visualizing data 2/2\n",
        "3. Mediation Analysis 4/4\n",
        "4. Reflection 1/1"
      ],
      "metadata": {
        "id": "w7G6Duggk8h_"
      }
    },
    {
      "cell_type": "markdown",
      "metadata": {
        "id": "9DsyBTB6ZXqN"
      },
      "source": [
        "---\n",
        "## 1. Simulating data (3 points)\n"
      ]
    },
    {
      "cell_type": "markdown",
      "metadata": {
        "id": "J1f6MywYhyzN"
      },
      "source": [
        "In this homework, we're going to simulate the relationship between age, word reading experience, and reading comprehension skill. Older children tend to be better at reading comprehension tasks, but this isn't just an inherent part of getting older. It's a combination of gaining more experience with reading, oral language skills, and executive functions development. In this homework, though, we're going to simplify this relationship down to a direct effect of age on reading comprehension (since improvements in oral language skills and executive functions are more guaranteed as children age than reading practice is), and a mediation of word reading experience.\n",
        "\n",
        "In graphical form:\n",
        "![picture](https://drive.google.com/uc?id=1wdm9xuiJhBJor99-9GnicO2_rzkGWtfN)"
      ]
    },
    {
      "cell_type": "markdown",
      "metadata": {
        "id": "qMpQX_ogjkyQ"
      },
      "source": [
        "Writing the relationship out formally:\n",
        "\n",
        "$$x = \\beta_{xa} a + \\beta_{x0} + \\epsilon_{x}$$\n",
        "\n",
        "$$c = \\beta_{ca} a + \\beta_{cx} x + \\beta_{c0} + \\epsilon_c$$\n",
        "\n"
      ]
    },
    {
      "cell_type": "markdown",
      "metadata": {
        "id": "5FidlpJlmKi8"
      },
      "source": [
        "$c$ is reading comprehension, $x$ is word reading experience, and $a$ is age. $\\beta_{c0}$ and $\\beta_{x0}$ are intercept terms for their respective formulas, and $\\epsilon_{c}$ and $\\epsilon_{x}$ are gaussian noise terms. We'll start by writing a function, `simulate_data`, that can simulate this relationship. The input values are set and the function structure is provided below. Complete the function such that it takes in those input variables and generates $age$, $x$, and $c$ values. Use `runif()` to generate ages. Use `rnorm()` to generate the noise terms."
      ]
    },
    {
      "cell_type": "code",
      "execution_count": null,
      "metadata": {
        "id": "UnBVazYfZXqP",
        "vscode": {
          "languageId": "r"
        },
        "colab": {
          "base_uri": "https://localhost:8080/",
          "height": 286
        },
        "outputId": "93748fdc-7172-477c-a415-e19638433ecb"
      },
      "outputs": [
        {
          "output_type": "display_data",
          "data": {
            "text/html": [
              "<table class=\"dataframe\">\n",
              "<caption>A data.frame: 6 × 3</caption>\n",
              "<thead>\n",
              "\t<tr><th></th><th scope=col>age</th><th scope=col>word_experience</th><th scope=col>reading_comprehension</th></tr>\n",
              "\t<tr><th></th><th scope=col>&lt;dbl&gt;</th><th scope=col>&lt;dbl&gt;</th><th scope=col>&lt;dbl&gt;</th></tr>\n",
              "</thead>\n",
              "<tbody>\n",
              "\t<tr><th scope=row>1</th><td>196.7680</td><td>125.26558</td><td>575.00511</td></tr>\n",
              "\t<tr><th scope=row>2</th><td>195.9145</td><td>139.20748</td><td>722.51969</td></tr>\n",
              "\t<tr><th scope=row>3</th><td>172.1397</td><td> 78.78471</td><td>297.66918</td></tr>\n",
              "\t<tr><th scope=row>4</th><td>152.8044</td><td> 63.10421</td><td>195.63863</td></tr>\n",
              "\t<tr><th scope=row>5</th><td>179.6137</td><td>156.17652</td><td>465.06292</td></tr>\n",
              "\t<tr><th scope=row>6</th><td>188.6725</td><td> 16.62732</td><td> 23.83969</td></tr>\n",
              "</tbody>\n",
              "</table>\n"
            ],
            "text/markdown": "\nA data.frame: 6 × 3\n\n| <!--/--> | age &lt;dbl&gt; | word_experience &lt;dbl&gt; | reading_comprehension &lt;dbl&gt; |\n|---|---|---|---|\n| 1 | 196.7680 | 125.26558 | 575.00511 |\n| 2 | 195.9145 | 139.20748 | 722.51969 |\n| 3 | 172.1397 |  78.78471 | 297.66918 |\n| 4 | 152.8044 |  63.10421 | 195.63863 |\n| 5 | 179.6137 | 156.17652 | 465.06292 |\n| 6 | 188.6725 |  16.62732 |  23.83969 |\n\n",
            "text/latex": "A data.frame: 6 × 3\n\\begin{tabular}{r|lll}\n  & age & word\\_experience & reading\\_comprehension\\\\\n  & <dbl> & <dbl> & <dbl>\\\\\n\\hline\n\t1 & 196.7680 & 125.26558 & 575.00511\\\\\n\t2 & 195.9145 & 139.20748 & 722.51969\\\\\n\t3 & 172.1397 &  78.78471 & 297.66918\\\\\n\t4 & 152.8044 &  63.10421 & 195.63863\\\\\n\t5 & 179.6137 & 156.17652 & 465.06292\\\\\n\t6 & 188.6725 &  16.62732 &  23.83969\\\\\n\\end{tabular}\n",
            "text/plain": [
              "  age      word_experience reading_comprehension\n",
              "1 196.7680 125.26558       575.00511            \n",
              "2 195.9145 139.20748       722.51969            \n",
              "3 172.1397  78.78471       297.66918            \n",
              "4 152.8044  63.10421       195.63863            \n",
              "5 179.6137 156.17652       465.06292            \n",
              "6 188.6725  16.62732        23.83969            "
            ]
          },
          "metadata": {}
        }
      ],
      "source": [
        "\n",
        "sample_size = 100 # How many children in data set?\n",
        "age_lo = 80     # minimum age, in months\n",
        "age_hi = 200    # maximum age, in months\n",
        "beta_xa = 0.5   # amount by which experience changes for increase of one month in age\n",
        "beta_x0 = -5    # amount of experience when age = 0 (not interpretable, since minimum age for this data is 80 months)\n",
        "sd_x = 50       # standard dev of gaussian noise term, epsilon_x\n",
        "beta_ca = 0.8   # amount that comprehension score improves for every increase of one unit in age\n",
        "beta_cx = 3     # amount that comprehension score improves for every increase of one unit in reading experience\n",
        "beta_c0 = 10    # comprehension score when reading experience is 0.\n",
        "sd_c = 85      # standard dev of gaussian noise term, epsilon_c\n",
        "\n",
        "simulate_data <- function(sample_size, age_lo, age_hi, beta_xa,\n",
        "                          beta_x0, sd_x, beta_ca, beta_cx, beta_c0, sd_c) {\n",
        "      set.seed(140)\n",
        "      age <- runif(sample_size, min = age_lo, max = age_hi)\n",
        "      epsilon_x <- rnorm(sample_size, mean = 0, sd = sd_x)\n",
        "      word_experience <- beta_xa * age + beta_x0 + epsilon_x\n",
        "\n",
        "      epsilon_c <- rnorm(sample_size, mean = 0, sd = sd_c)\n",
        "      reading_comprehension <- beta_ca * age + beta_cx * word_experience + beta_c0 + epsilon_c\n",
        "\n",
        "      return(data.frame(age, word_experience, reading_comprehension))\n",
        "\n",
        "}\n",
        "\n",
        "dat <- simulate_data(sample_size, age_lo, age_hi, beta_xa, beta_x0, sd_x, beta_ca, beta_cx, beta_c0, sd_c)\n",
        "head(dat)"
      ]
    },
    {
      "cell_type": "markdown",
      "metadata": {
        "id": "I-Rt8PFe_G5O"
      },
      "source": [
        "---\n",
        "## 2. Visualizing Data (2 point)"
      ]
    },
    {
      "cell_type": "markdown",
      "metadata": {
        "id": "MQdcoYCLvuDf"
      },
      "source": [
        "Load the `tidyverse` library."
      ]
    },
    {
      "cell_type": "code",
      "execution_count": null,
      "metadata": {
        "id": "H07EMQCwvzsL",
        "vscode": {
          "languageId": "r"
        },
        "colab": {
          "base_uri": "https://localhost:8080/"
        },
        "outputId": "d65ca8ec-51ef-4763-9990-a1fb3de3c303"
      },
      "outputs": [
        {
          "output_type": "stream",
          "name": "stderr",
          "text": [
            "── \u001b[1mAttaching core tidyverse packages\u001b[22m ──────────────────────── tidyverse 2.0.0 ──\n",
            "\u001b[32m✔\u001b[39m \u001b[34mdplyr    \u001b[39m 1.1.4     \u001b[32m✔\u001b[39m \u001b[34mreadr    \u001b[39m 2.1.5\n",
            "\u001b[32m✔\u001b[39m \u001b[34mforcats  \u001b[39m 1.0.0     \u001b[32m✔\u001b[39m \u001b[34mstringr  \u001b[39m 1.5.1\n",
            "\u001b[32m✔\u001b[39m \u001b[34mggplot2  \u001b[39m 3.5.1     \u001b[32m✔\u001b[39m \u001b[34mtibble   \u001b[39m 3.2.1\n",
            "\u001b[32m✔\u001b[39m \u001b[34mlubridate\u001b[39m 1.9.4     \u001b[32m✔\u001b[39m \u001b[34mtidyr    \u001b[39m 1.3.1\n",
            "\u001b[32m✔\u001b[39m \u001b[34mpurrr    \u001b[39m 1.0.4     \n",
            "── \u001b[1mConflicts\u001b[22m ────────────────────────────────────────── tidyverse_conflicts() ──\n",
            "\u001b[31m✖\u001b[39m \u001b[34mdplyr\u001b[39m::\u001b[32mfilter()\u001b[39m masks \u001b[34mstats\u001b[39m::filter()\n",
            "\u001b[31m✖\u001b[39m \u001b[34mdplyr\u001b[39m::\u001b[32mlag()\u001b[39m    masks \u001b[34mstats\u001b[39m::lag()\n",
            "\u001b[36mℹ\u001b[39m Use the conflicted package (\u001b[3m\u001b[34m<http://conflicted.r-lib.org/>\u001b[39m\u001b[23m) to force all conflicts to become errors\n"
          ]
        }
      ],
      "source": [
        "# WRITE YOUR CODE HERE\n",
        "library(tidyverse)"
      ]
    },
    {
      "cell_type": "markdown",
      "metadata": {
        "id": "Vgc2ehTKv1jt"
      },
      "source": [
        "a) Plot the relationship between age and reading comprehension."
      ]
    },
    {
      "cell_type": "code",
      "execution_count": null,
      "metadata": {
        "id": "Pb-KYXwuwS28",
        "vscode": {
          "languageId": "r"
        },
        "colab": {
          "base_uri": "https://localhost:8080/",
          "height": 437
        },
        "outputId": "53947579-ff68-4459-b89d-4971ab3dfa37"
      },
      "outputs": [
        {
          "output_type": "display_data",
          "data": {
            "text/plain": [
              "plot without title"
            ],
            "image/png": "[encoded data removed]"
          },
          "metadata": {
            "image/png": {
              "width": 420,
              "height": 420
            }
          }
        }
      ],
      "source": [
        "# WRITE YOUR CODE HERE\n",
        "dat %>%\n",
        "  ggplot(aes(x = age, y = reading_comprehension)) + geom_point()"
      ]
    },
    {
      "cell_type": "markdown",
      "metadata": {
        "id": "CB_8CsBZwQqW"
      },
      "source": [
        "b) Plot the relationship between reading experience, age, and reading comprehension."
      ]
    },
    {
      "cell_type": "code",
      "execution_count": null,
      "metadata": {
        "id": "VeSOCXlMweSz",
        "vscode": {
          "languageId": "r"
        },
        "colab": {
          "base_uri": "https://localhost:8080/",
          "height": 437
        },
        "outputId": "85e54301-8107-4b11-ebe3-61a3051684bd"
      },
      "outputs": [
        {
          "output_type": "display_data",
          "data": {
            "text/plain": [
              "plot without title"
            ],
            "image/png": "[encoded data removed]"
          },
          "metadata": {
            "image/png": {
              "width": 420,
              "height": 420
            }
          }
        }
      ],
      "source": [
        "# WRITE YOUR CODE HERE\n",
        "dat %>%\n",
        "  ggplot(aes(x = age, y = word_experience, col = reading_comprehension)) + geom_point()\n"
      ]
    },
    {
      "cell_type": "markdown",
      "metadata": {
        "id": "BeK0H64WlOBM"
      },
      "source": [
        "---\n",
        "## 3. Mediation Analysis (4 points)"
      ]
    },
    {
      "cell_type": "markdown",
      "metadata": {
        "id": "dP_6o9rpmThw"
      },
      "source": [
        "Load the `mediation` library."
      ]
    },
    {
      "cell_type": "code",
      "execution_count": null,
      "metadata": {
        "id": "PIPheP5ipgKg",
        "vscode": {
          "languageId": "r"
        },
        "colab": {
          "base_uri": "https://localhost:8080/"
        },
        "outputId": "0d06dcff-0494-46b4-ad2b-864ee9dbe77f"
      },
      "outputs": [
        {
          "output_type": "stream",
          "name": "stderr",
          "text": [
            "Installing package into ‘/usr/local/lib/R/site-library’\n",
            "(as ‘lib’ is unspecified)\n",
            "\n",
            "also installing the dependencies ‘rbibutils’, ‘checkmate’, ‘Rdpack’, ‘zoo’, ‘gridExtra’, ‘htmlTable’, ‘viridis’, ‘Formula’, ‘minqa’, ‘nloptr’, ‘reformulas’, ‘RcppEigen’, ‘mvtnorm’, ‘sandwich’, ‘lpSolve’, ‘Hmisc’, ‘lme4’\n",
            "\n",
            "\n",
            "Loading required package: MASS\n",
            "\n",
            "\n",
            "Attaching package: ‘MASS’\n",
            "\n",
            "\n",
            "The following object is masked from ‘package:dplyr’:\n",
            "\n",
            "    select\n",
            "\n",
            "\n",
            "Loading required package: Matrix\n",
            "\n",
            "\n",
            "Attaching package: ‘Matrix’\n",
            "\n",
            "\n",
            "The following objects are masked from ‘package:tidyr’:\n",
            "\n",
            "    expand, pack, unpack\n",
            "\n",
            "\n",
            "Loading required package: mvtnorm\n",
            "\n",
            "Loading required package: sandwich\n",
            "\n",
            "mediation: Causal Mediation Analysis\n",
            "Version: 4.5.0\n",
            "\n",
            "\n"
          ]
        }
      ],
      "source": [
        "# WRITE YOUR CODE HERE\n",
        "#install.packages(\"mediation\")\n",
        "library(mediation)"
      ]
    },
    {
      "cell_type": "markdown",
      "metadata": {
        "id": "Q1UM2Qhx6Kk-"
      },
      "source": [
        "Use the `mediate` function to determine whether `x` mediates the relationship between `age` and `c`. Use `summary()` to print the model results. *Hint: see the mediation and moderation tutorial.*"
      ]
    },
    {
      "cell_type": "code",
      "execution_count": null,
      "metadata": {
        "id": "9h1ySgXm4HWm",
        "vscode": {
          "languageId": "r"
        },
        "colab": {
          "base_uri": "https://localhost:8080/",
          "height": 954
        },
        "outputId": "ade784ae-2dbb-456a-e758-479735ccaf9b"
      },
      "outputs": [
        {
          "output_type": "display_data",
          "data": {
            "text/plain": [
              "\n",
              "Call:\n",
              "lm(formula = word_experience ~ age, data = dat)\n",
              "\n",
              "Residuals:\n",
              "    Min      1Q  Median      3Q     Max \n",
              "-127.56  -30.30    0.15   31.80  115.85 \n",
              "\n",
              "Coefficients:\n",
              "            Estimate Std. Error t value Pr(>|t|)    \n",
              "(Intercept) -11.9989    20.0913  -0.597    0.552    \n",
              "age           0.5444     0.1328   4.100 8.53e-05 ***\n",
              "---\n",
              "Signif. codes:  0 ‘***’ 0.001 ‘**’ 0.01 ‘*’ 0.05 ‘.’ 0.1 ‘ ’ 1\n",
              "\n",
              "Residual standard error: 45.8 on 98 degrees of freedom\n",
              "Multiple R-squared:  0.1464,\tAdjusted R-squared:  0.1377 \n",
              "F-statistic: 16.81 on 1 and 98 DF,  p-value: 8.531e-05\n"
            ]
          },
          "metadata": {}
        },
        {
          "output_type": "display_data",
          "data": {
            "text/plain": [
              "\n",
              "Call:\n",
              "lm(formula = reading_comprehension ~ word_experience + age, data = dat)\n",
              "\n",
              "Residuals:\n",
              "     Min       1Q   Median       3Q      Max \n",
              "-221.983  -56.174    5.759   58.408  230.885 \n",
              "\n",
              "Coefficients:\n",
              "                Estimate Std. Error t value Pr(>|t|)    \n",
              "(Intercept)     133.4424    40.9092   3.262  0.00153 ** \n",
              "word_experience   3.0517     0.2053  14.864  < 2e-16 ***\n",
              "age              -0.0453     0.2921  -0.155  0.87708    \n",
              "---\n",
              "Signif. codes:  0 ‘***’ 0.001 ‘**’ 0.01 ‘*’ 0.05 ‘.’ 0.1 ‘ ’ 1\n",
              "\n",
              "Residual standard error: 93.08 on 97 degrees of freedom\n",
              "Multiple R-squared:  0.7258,\tAdjusted R-squared:  0.7202 \n",
              "F-statistic: 128.4 on 2 and 97 DF,  p-value: < 2.2e-16\n"
            ]
          },
          "metadata": {}
        },
        {
          "output_type": "display_data",
          "data": {
            "text/plain": [
              "\n",
              "Causal Mediation Analysis \n",
              "\n",
              "Quasi-Bayesian Confidence Intervals\n",
              "\n",
              "               Estimate 95% CI Lower 95% CI Upper p-value    \n",
              "ACME              1.669        0.821         2.57  <2e-16 ***\n",
              "ADE              -0.071       -0.642         0.48   0.820    \n",
              "Total Effect      1.598        0.602         2.55   0.002 ** \n",
              "Prop. Mediated    1.043        0.733         1.75   0.002 ** \n",
              "---\n",
              "Signif. codes:  0 ‘***’ 0.001 ‘**’ 0.01 ‘*’ 0.05 ‘.’ 0.1 ‘ ’ 1\n",
              "\n",
              "Sample Size Used: 100 \n",
              "\n",
              "\n",
              "Simulations: 1000 \n"
            ]
          },
          "metadata": {}
        }
      ],
      "source": [
        "# WRITE YOUR CODE HERE\n",
        "#c  is reading comprehension, x is word reading experience, and a is age.\n",
        "modl = lm(word_experience ~ age, data = dat)\n",
        "mod2 = lm(reading_comprehension ~ word_experience + age, data = dat)\n",
        "summary(modl)\n",
        "summary(mod2)\n",
        "med.mod = mediate(modl, mod2, treat = \"age\", mediator = \"word_experience\")\n",
        "summary(med.mod)"
      ]
    },
    {
      "cell_type": "markdown",
      "metadata": {
        "id": "sYL6Pm0FOUbq"
      },
      "source": [
        "---\n",
        "## 5. Reflection (1 point)\n",
        "How do you interpret these results? Why do you think the analysis yielded this result?"
      ]
    },
    {
      "cell_type": "markdown",
      "metadata": {
        "id": "ZGVjm8AJOUbq",
        "outputId": "ccd7b03c-8619-4eb3-9752-06929c1e8ed0",
        "vscode": {
          "languageId": "r"
        }
      },
      "source": [
        "> *The first model established that there was a significant relationship between reading experience and age. The second model established that when you include reading experience in the model, age is no longer a significant predictor of reading comprehension. The last one shows us that there is a strong mediating effect such that reading experience fully mediates the relationship between age and reading comprehension.*\n",
        ">"
      ]
    },
    {
      "cell_type": "markdown",
      "metadata": {
        "id": "C4MPECMmZXqe"
      },
      "source": [
        "**DUE:** 5pm EST, April 1, 2024"
      ]
    },
    {
      "cell_type": "markdown",
      "metadata": {
        "id": "r9GUofXN4BVy"
      },
      "source": [
        "**IMPORTANT** Did you collaborate with anyone on this assignment? If so, list their names here.\n",
        "> *Someone's Name*"
      ]
    }
  ],
  "metadata": {
    "colab": {
      "provenance": []
    },
    "kernelspec": {
      "display_name": "R",
      "language": "R",
      "name": "ir"
    },
    "language_info": {
      "codemirror_mode": "r",
      "file_extension": ".r",
      "mimetype": "text/x-r-source",
      "name": "R",
      "pygments_lexer": "r",
      "version": "4.2.0"
    }
  },
  "nbformat": 4,
  "nbformat_minor": 0
}